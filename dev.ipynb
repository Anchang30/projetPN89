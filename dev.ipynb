{
 "cells": [
  {
   "cell_type": "code",
   "execution_count": 1,
   "metadata": {},
   "outputs": [],
   "source": [
    "%load_ext autoreload\n",
    "%autoreload 2"
   ]
  },
  {
   "cell_type": "code",
   "execution_count": 144,
   "metadata": {},
   "outputs": [],
   "source": [
    "from datetime import datetime"
   ]
  },
  {
   "cell_type": "code",
   "execution_count": 224,
   "metadata": {},
   "outputs": [
    {
     "data": {
      "text/plain": [
       "'2023-03-06 18:24:27'"
      ]
     },
     "execution_count": 224,
     "metadata": {},
     "output_type": "execute_result"
    }
   ],
   "source": [
    "# timestamp is number of seconds since 1970-01-01 \n",
    "timestamp = 1678123467\n",
    "\n",
    "# convert the timestamp to a datetime object in the local timezone\n",
    "dt_object = datetime.fromtimestamp(timestamp).strftime('%Y-%m-%d %H:%M:%S')\n",
    "dt_object\n",
    "\n"
   ]
  },
  {
   "cell_type": "code",
   "execution_count": null,
   "metadata": {},
   "outputs": [],
   "source": [
    "# structure type JSON\n",
    "\n",
    "[\n",
    "    {\n",
    "        \"barrier1\": [\n",
    "            {\n",
    "            \"device_name\": \"stu-c100x-abcd1234\",\n",
    "            \"start_time\": 1678123467,\n",
    "            \"start_angle\": 83.0,\n",
    "            \"end_time\": 1678123482,\n",
    "            \"end_angle\": 1.3\n",
    "            }\n",
    "        ]\n",
    "    },\n",
    "    \n",
    "    {\n",
    "        \"bell1\": [\n",
    "            {\n",
    "            \"device_name\": \"stu-c100x-abcd1234\",\n",
    "            \"start_time\": 1678123467,\n",
    "            \"start_angle\": 83.0,\n",
    "            \"end_time\": 1678123482,\n",
    "            \"end_angle\": 1.3\n",
    "            }\n",
    "        ]\n",
    "    },\n",
    "    \n",
    "    {\n",
    "        \"light1\": [\n",
    "            {\n",
    "            \"device_name\": \"stu-c100x-abcd1234\",\n",
    "            \"start_time\": 1678123467,\n",
    "            \"start_angle\": 83.0,\n",
    "            \"end_time\": 1678123482,\n",
    "            \"end_angle\": 1.3\n",
    "            }\n",
    "        ]\n",
    "    },\n",
    "    {\n",
    "        \"light2\": [\n",
    "            {\n",
    "            \"device_name\": \"stu-c100x-abcd1234\",\n",
    "            \"start_time\": 1678123467,\n",
    "            \"start_angle\": 83.0,\n",
    "            \"end_time\": 1678123482,\n",
    "            \"end_angle\": 1.3\n",
    "            }\n",
    "        ]\n",
    "    }\n",
    "]"
   ]
  },
  {
   "cell_type": "code",
   "execution_count": 169,
   "metadata": {},
   "outputs": [],
   "source": [
    "# structure finale JSON PN\n",
    "\n",
    "json_type= [\n",
    "    \n",
    "    {\"barriers\": \n",
    "                {\"barrier1\": \n",
    "                    {},\n",
    "                \"barrier2\" : {},\n",
    "                \"barrier3\": {},\n",
    "                \"barrier4\": {}\n",
    "                }\n",
    "            },\n",
    "    \n",
    "    {\"bells\": \n",
    "            {\"bell1\":\n",
    "            {\"device_name\": \"stu-c100x-abcd1234\",\"start_time\": 1678123467,\"end_time\": 1678123482},\n",
    "            \"bell2\": {}\n",
    "            }\n",
    "            },\n",
    "    \n",
    "    {\"lights\": \n",
    "            {\"device_name\": \"stu-c100x-abcd1234\",\"channel\": 1,\"start_time\": 1678123467,\"end_time\": 1678123482,\n",
    "            }}\n",
    "]"
   ]
  },
  {
   "cell_type": "code",
   "execution_count": 149,
   "metadata": {},
   "outputs": [],
   "source": [
    "barrier_dict2 = {\"barriers\" : [(f\"barrier{i}\" = {}) for i in range (1,5)]}\n"
   ]
  },
  {
   "cell_type": "code",
   "execution_count": 187,
   "metadata": {},
   "outputs": [
    {
     "ename": "TypeError",
     "evalue": "dict expected at most 1 argument, got 3",
     "output_type": "error",
     "traceback": [
      "\u001b[0;31m---------------------------------------------------------------------------\u001b[0m",
      "\u001b[0;31mTypeError\u001b[0m                                 Traceback (most recent call last)",
      "Cell \u001b[0;32mIn[187], line 10\u001b[0m\n\u001b[1;32m      8\u001b[0m \u001b[39mfor\u001b[39;00m i \u001b[39min\u001b[39;00m \u001b[39mrange\u001b[39m (\u001b[39m1\u001b[39m,\u001b[39m11\u001b[39m):\n\u001b[1;32m      9\u001b[0m     lights_dict[\u001b[39m\"\u001b[39m\u001b[39mlights\u001b[39m\u001b[39m\"\u001b[39m][\u001b[39mf\u001b[39m\u001b[39m\"\u001b[39m\u001b[39mlight\u001b[39m\u001b[39m{\u001b[39;00mi\u001b[39m}\u001b[39;00m\u001b[39m\"\u001b[39m] \u001b[39m=\u001b[39m {}\n\u001b[0;32m---> 10\u001b[0m event_dict \u001b[39m=\u001b[39m \u001b[39mdict\u001b[39;49m(barriers_dict, bells_dict, lights_dict)\n",
      "\u001b[0;31mTypeError\u001b[0m: dict expected at most 1 argument, got 3"
     ]
    }
   ],
   "source": [
    "barriers_dict = {\"barriers\" : {}}\n",
    "for i in range (1,5):\n",
    "    barriers_dict[\"barriers\"][f\"barrier{i}\"] = {}\n",
    "bells_dict = {\"bells\" : {}}\n",
    "for i in range (1,5):\n",
    "    bells_dict[\"bells\"][f\"bell{i}\"] = {}\n",
    "lights_dict = {\"lights\" : {}}\n",
    "for i in range (1,11):\n",
    "    lights_dict[\"lights\"][f\"light{i}\"] = {}\n",
    "event_dict = [barriers_dict, bells_dict, lights_dict]\n"
   ]
  },
  {
   "cell_type": "code",
   "execution_count": 222,
   "metadata": {},
   "outputs": [
    {
     "data": {
      "text/plain": [
       "{'barriers': {'barrier1': {}, 'barrier2': {}, 'barrier3': {}, 'barrier4': {}},\n",
       " 'bells': {'bell1': {}, 'bell2': {}, 'bell3': {}, 'bell4': {}},\n",
       " 'lights': {'light1': {},\n",
       "  'light2': {},\n",
       "  'light3': {},\n",
       "  'light4': {},\n",
       "  'light5': {},\n",
       "  'light6': {},\n",
       "  'light7': {},\n",
       "  'light8': {},\n",
       "  'light9': {}}}"
      ]
     },
     "execution_count": 222,
     "metadata": {},
     "output_type": "execute_result"
    }
   ],
   "source": [
    "bar_dict= dict([(f\"barrier{i}\", {}) for i in range (1,5)])\n",
    "bel_dict= dict([(f\"bell{i}\", {}) for i in range (1,5)])\n",
    "lig_dict= dict([(f\"light{i}\", {}) for i in range (1,10)])\n",
    "test_dict = dict(zip(['barriers', 'bells', 'lights'], [bar_dict,bel_dict,lig_dict]))\n",
    "test_dict  "
   ]
  },
  {
   "cell_type": "code",
   "execution_count": 172,
   "metadata": {},
   "outputs": [
    {
     "data": {
      "text/plain": [
       "{'barrier1': {}, 'barrier2': {}, 'barrier3': {}, 'barrier4': {}}"
      ]
     },
     "execution_count": 172,
     "metadata": {},
     "output_type": "execute_result"
    }
   ],
   "source": [
    "json_type[0][\"barriers\"]"
   ]
  },
  {
   "cell_type": "code",
   "execution_count": 141,
   "metadata": {},
   "outputs": [
    {
     "name": "stdout",
     "output_type": "stream",
     "text": [
      "dict_keys(['barrier1', 'barrier2', 'barrier3'])\n"
     ]
    }
   ],
   "source": [
    "for truc in json_type[0]['barriers']:\n",
    "    print(truc.keys())"
   ]
  },
  {
   "cell_type": "code",
   "execution_count": 114,
   "metadata": {},
   "outputs": [],
   "source": [
    "db = [{\"barriers\":{},\"bells\":{}, \"lights\": {}}]"
   ]
  },
  {
   "cell_type": "code",
   "execution_count": 117,
   "metadata": {},
   "outputs": [
    {
     "data": {
      "text/plain": [
       "{}"
      ]
     },
     "execution_count": 117,
     "metadata": {},
     "output_type": "execute_result"
    }
   ],
   "source": [
    "db[0]['barriers']"
   ]
  },
  {
   "cell_type": "code",
   "execution_count": 131,
   "metadata": {},
   "outputs": [],
   "source": [
    "bar_id = 6"
   ]
  },
  {
   "cell_type": "code",
   "execution_count": 132,
   "metadata": {},
   "outputs": [
    {
     "data": {
      "text/plain": [
       "'This barrier already exists !'"
      ]
     },
     "execution_count": 132,
     "metadata": {},
     "output_type": "execute_result"
    }
   ],
   "source": [
    "def create_barrier (bar_id : int):\n",
    "   dict_name_bar = \"barrier\"+str(bar_id)\n",
    "   if dict_name_bar in db[0]['barriers'].keys():\n",
    "      return \"This barrier already exists !\"\n",
    "   else :\n",
    "      db[0][\"barriers\"][dict_name_bar] = {}\n",
    "   return db[0]\n",
    "\n",
    "create_barrier(bar_id)"
   ]
  },
  {
   "cell_type": "code",
   "execution_count": 133,
   "metadata": {},
   "outputs": [
    {
     "data": {
      "text/plain": [
       "[{'barriers': {'barrier5': {}, 'barrier2': {}, 'barrier6': {}, 'barrier1': {}},\n",
       "  'bells': {},\n",
       "  'lights': {}}]"
      ]
     },
     "execution_count": 133,
     "metadata": {},
     "output_type": "execute_result"
    }
   ],
   "source": [
    "db"
   ]
  },
  {
   "cell_type": "code",
   "execution_count": null,
   "metadata": {},
   "outputs": [],
   "source": [
    "def add_barrier_event (bar_id : int, event : dict):"
   ]
  }
 ],
 "metadata": {
  "kernelspec": {
   "display_name": "Python 3",
   "language": "python",
   "name": "python3"
  },
  "language_info": {
   "codemirror_mode": {
    "name": "ipython",
    "version": 3
   },
   "file_extension": ".py",
   "mimetype": "text/x-python",
   "name": "python",
   "nbconvert_exporter": "python",
   "pygments_lexer": "ipython3",
   "version": "3.10.6"
  },
  "orig_nbformat": 4
 },
 "nbformat": 4,
 "nbformat_minor": 2
}
