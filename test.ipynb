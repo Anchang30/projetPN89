{
 "cells": [
  {
   "cell_type": "code",
   "execution_count": 59,
   "metadata": {},
   "outputs": [
    {
     "name": "stdout",
     "output_type": "stream",
     "text": [
      "The autoreload extension is already loaded. To reload it, use:\n",
      "  %reload_ext autoreload\n"
     ]
    }
   ],
   "source": [
    "%load_ext autoreload\n",
    "%autoreload 2"
   ]
  },
  {
   "cell_type": "code",
   "execution_count": 38,
   "metadata": {},
   "outputs": [],
   "source": [
    "import os\n",
    "from data import PN\n",
    "import json"
   ]
  },
  {
   "cell_type": "code",
   "execution_count": 51,
   "metadata": {},
   "outputs": [
    {
     "data": {
      "text/plain": [
       "['barrier1.json', 'barrier2.json']"
      ]
     },
     "execution_count": 51,
     "metadata": {},
     "output_type": "execute_result"
    }
   ],
   "source": [
    "root_path = os.getcwd()\n",
    "barrier_path = os.path.join(root_path, \"data\", \"barrier_files\")\n",
    "os.listdir(barrier_path)\n"
   ]
  },
  {
   "cell_type": "code",
   "execution_count": 52,
   "metadata": {},
   "outputs": [
    {
     "data": {
      "text/plain": [
       "'/home/vincent/projetPN89/data/barrier_files'"
      ]
     },
     "execution_count": 52,
     "metadata": {},
     "output_type": "execute_result"
    }
   ],
   "source": [
    "barrier_path"
   ]
  },
  {
   "cell_type": "code",
   "execution_count": 53,
   "metadata": {},
   "outputs": [
    {
     "data": {
      "text/plain": [
       "['barrier1.json', 'barrier2.json']"
      ]
     },
     "execution_count": 53,
     "metadata": {},
     "output_type": "execute_result"
    }
   ],
   "source": [
    "#Test pour vérifier si les chemins d'accès sont corrects\n",
    "barrier_list = [f for f in os.listdir(barrier_path) if f.endswith(\".json\")]\n",
    "barrier_list"
   ]
  },
  {
   "cell_type": "code",
   "execution_count": 60,
   "metadata": {},
   "outputs": [
    {
     "data": {
      "text/plain": [
       "['barrier1.json', 'barrier2.json']"
      ]
     },
     "execution_count": 60,
     "metadata": {},
     "output_type": "execute_result"
    }
   ],
   "source": [
    "machin_barrier = PN().get_barrier_data()\n",
    "machin_barrier"
   ]
  },
  {
   "cell_type": "code",
   "execution_count": 55,
   "metadata": {},
   "outputs": [
    {
     "data": {
      "text/plain": [
       "'/home/vincent/projetPN89'"
      ]
     },
     "execution_count": 55,
     "metadata": {},
     "output_type": "execute_result"
    }
   ],
   "source": [
    "objet_test = PN()\n",
    "objet_test.root_path"
   ]
  },
  {
   "cell_type": "code",
   "execution_count": 64,
   "metadata": {},
   "outputs": [
    {
     "name": "stdout",
     "output_type": "stream",
     "text": [
      "1 barrier1.json\n",
      "2 barrier2.json\n"
     ]
    }
   ],
   "source": [
    "for k,v in (dict(enumerate(machin_barrier,1))).items():\n",
    "    print(k,v)\n",
    "   "
   ]
  },
  {
   "cell_type": "code",
   "execution_count": 69,
   "metadata": {},
   "outputs": [
    {
     "data": {
      "text/plain": [
       "{'barrier n°1': [{'GENERIC_DATA': [{'device_name': 'bar-c100x-abcd1234',\n",
       "     'start_time': 1678123467,\n",
       "     'start_angle': 83.0,\n",
       "     'end_time': 1678123482,\n",
       "     'end_angle': 1.3}]}],\n",
       " 'barrier n°2': [{'GENERIC_DATA': [{'device_name': 'bar-c100x-bcde1234',\n",
       "     'start_time': 1678123467,\n",
       "     'start_angle': 83.0,\n",
       "     'end_time': 1678123482,\n",
       "     'end_angle': 1.3}]}]}"
      ]
     },
     "execution_count": 69,
     "metadata": {},
     "output_type": "execute_result"
    }
   ],
   "source": [
    "def read_barrer():\n",
    " return {f\"barrier n°{k}\":json.load(open(os.path.join(barrier_path, v))) for k,v in (dict(enumerate(barrier_list,1))).items()}\n"
   ]
  },
  {
   "cell_type": "code",
   "execution_count": null,
   "metadata": {},
   "outputs": [],
   "source": [
    "f\"barrier n° {item_id}\": json.load(open(barrier_file)) for item_id, barrier_file in dict(enumerate(barrier_list,1)).items()\n"
   ]
  }
 ],
 "metadata": {
  "kernelspec": {
   "display_name": "Python 3",
   "language": "python",
   "name": "python3"
  },
  "language_info": {
   "codemirror_mode": {
    "name": "ipython",
    "version": 3
   },
   "file_extension": ".py",
   "mimetype": "text/x-python",
   "name": "python",
   "nbconvert_exporter": "python",
   "pygments_lexer": "ipython3",
   "version": "3.10.6"
  },
  "orig_nbformat": 4
 },
 "nbformat": 4,
 "nbformat_minor": 2
}
