{
 "cells": [
  {
   "cell_type": "code",
   "execution_count": 1,
   "metadata": {},
   "outputs": [],
   "source": [
    "%load_ext autoreload\n",
    "%autoreload 2"
   ]
  },
  {
   "cell_type": "code",
   "execution_count": 3,
   "metadata": {},
   "outputs": [],
   "source": [
    "# getting the name of the directory\n",
    "# where the this file is present.\n",
    "current = os.path.dirname(os.path.realpath(os.path.abspath(\"\")))\n",
    "  \n",
    "# # adding the parent directory to\n",
    "# # the sys.path.\n",
    "sys.path.append(current)"
   ]
  },
  {
   "cell_type": "code",
   "execution_count": 4,
   "metadata": {},
   "outputs": [
    {
     "data": {
      "text/plain": [
       "['/home/vincent/projetPN89/dev',\n",
       " '/usr/lib/python310.zip',\n",
       " '/usr/lib/python3.10',\n",
       " '/usr/lib/python3.10/lib-dynload',\n",
       " '',\n",
       " '/home/vincent/.local/lib/python3.10/site-packages',\n",
       " '/usr/local/lib/python3.10/dist-packages',\n",
       " '/usr/lib/python3/dist-packages',\n",
       " '/home/vincent/projetPN89']"
      ]
     },
     "execution_count": 4,
     "metadata": {},
     "output_type": "execute_result"
    }
   ],
   "source": [
    "sys.path"
   ]
  },
  {
   "cell_type": "code",
   "execution_count": 5,
   "metadata": {},
   "outputs": [],
   "source": [
    "from random import uniform\n",
    "import json\n",
    "import sys\n",
    "import os\n",
    "from db import Barrier, Bell, Light, instanciate_captors\n",
    "from get_data import *"
   ]
  },
  {
   "attachments": {},
   "cell_type": "markdown",
   "metadata": {},
   "source": [
    "# Database exchanges and log entry addition"
   ]
  },
  {
   "cell_type": "code",
   "execution_count": null,
   "metadata": {},
   "outputs": [],
   "source": [
    "json_file = open(\"../log.json\", \"r\")\n",
    "data = json.load(json_file)\n",
    "json_file.close()\n",
    "data.update(second_test)\n",
    "file = open(\"../log.json\",\"w\")\n",
    "json.dump(data,file, indent=6)\n",
    "file.close()\n"
   ]
  },
  {
   "attachments": {},
   "cell_type": "markdown",
   "metadata": {},
   "source": [
    "# Code à jour"
   ]
  },
  {
   "cell_type": "code",
   "execution_count": 6,
   "metadata": {},
   "outputs": [],
   "source": [
    "captors_dict = {\n",
    "      \"bar-c100x-abcd1234\": {\"cur\": \"\", \"prev\" : \"\", \n",
    "            \"associated_light\": {\"lig-l500X-abcd1234\": \"\", \"lig-l500X-efgh2345\": \"\"},\n",
    "            \"associated_bell\": {\"bel-z200X-abcd1234\": \"\"}\n",
    "            },\n",
    "      \"bar-c100x-efgh2345\": {\"cur\": \"\", \"prev\" : \"\", \n",
    "            \"associated_light\": {\"lig-l500X-ijkl3456\": \"\", \"lig-l500X-mnop4567\": \"\"},\n",
    "            \"associated_bell\": {\"bel-z200X-efgh2345\": \"\"}\n",
    "            },\n",
    "      \"bar-c100x-ijkl3456\": {\"cur\": \"\",\"prev\" : \"\", \n",
    "            \"associated_light\": {\"lig-l500X-qrst5678\": \"\", \"lig-l500X-uvwx6789\": \"\", \"lig-l500X-yzab7890\": \"\"},\n",
    "            \"associated_bell\": {\"bel-z200X-ijkl3456\": \"\"}\n",
    "            },\n",
    "      \"bar-c100x-mnop4567\": {\"cur\": \"\", \"prev\": \"\",\n",
    "            \"associated_light\": {\"lig-l500X-cdef8901\": \"\", \"lig-l500X-ghij9012\": \"\", \"lig-l500X-klmn0123\": \"\"},\n",
    "            \"associated_bell\": {\"bel-z200X-mnop4567\": \"\"}\n",
    "            }\n",
    "      }"
   ]
  },
  {
   "cell_type": "code",
   "execution_count": 7,
   "metadata": {},
   "outputs": [],
   "source": [
    "def instanciate_captors ():\n",
    "   captors = captors_dict\n",
    "   for barrier in captors.keys():\n",
    "      captors[barrier][\"cur\"]= Barrier(device_name=barrier)\n",
    "      captors[barrier][\"prev\"]= Barrier(device_name=barrier)\n",
    "      for light in captors[barrier][\"associated_light\"]:\n",
    "         captors[barrier][\"associated_light\"][light]= Light(device_name=light)\n",
    "      for bell in captors[barrier]['associated_bell']:\n",
    "         captors[barrier]['associated_bell'][bell]= Bell(device_name=bell)\n",
    "   return captors"
   ]
  },
  {
   "cell_type": "code",
   "execution_count": 9,
   "metadata": {},
   "outputs": [
    {
     "data": {
      "text/plain": [
       "{'bar-c100x-abcd1234': {'cur': Barrier(device_name='bar-c100x-abcd1234', start_time=0, start_angle=0, end_time=0, end_angle=0, status='inactive'),\n",
       "  'prev': Barrier(device_name='bar-c100x-abcd1234', start_time=0, start_angle=0, end_time=0, end_angle=0, status='inactive'),\n",
       "  'associated_light': {'lig-l500X-abcd1234': Light(device_name='lig-l500X-abcd1234', start_time=0, end_time=0),\n",
       "   'lig-l500X-efgh2345': Light(device_name='lig-l500X-efgh2345', start_time=0, end_time=0)},\n",
       "  'associated_bell': {'bel-z200X-abcd1234': Bell(device_name='bel-z200X-abcd1234', start_time=0, end_time=0)}},\n",
       " 'bar-c100x-efgh2345': {'cur': Barrier(device_name='bar-c100x-efgh2345', start_time=0, start_angle=0, end_time=0, end_angle=0, status='inactive'),\n",
       "  'prev': Barrier(device_name='bar-c100x-efgh2345', start_time=0, start_angle=0, end_time=0, end_angle=0, status='inactive'),\n",
       "  'associated_light': {'lig-l500X-ijkl3456': Light(device_name='lig-l500X-ijkl3456', start_time=0, end_time=0),\n",
       "   'lig-l500X-mnop4567': Light(device_name='lig-l500X-mnop4567', start_time=0, end_time=0)},\n",
       "  'associated_bell': {'bel-z200X-efgh2345': Bell(device_name='bel-z200X-efgh2345', start_time=0, end_time=0)}},\n",
       " 'bar-c100x-ijkl3456': {'cur': Barrier(device_name='bar-c100x-ijkl3456', start_time=0, start_angle=0, end_time=0, end_angle=0, status='inactive'),\n",
       "  'prev': Barrier(device_name='bar-c100x-ijkl3456', start_time=0, start_angle=0, end_time=0, end_angle=0, status='inactive'),\n",
       "  'associated_light': {'lig-l500X-qrst5678': Light(device_name='lig-l500X-qrst5678', start_time=0, end_time=0),\n",
       "   'lig-l500X-uvwx6789': Light(device_name='lig-l500X-uvwx6789', start_time=0, end_time=0),\n",
       "   'lig-l500X-yzab7890': Light(device_name='lig-l500X-yzab7890', start_time=0, end_time=0)},\n",
       "  'associated_bell': {'bel-z200X-ijkl3456': Bell(device_name='bel-z200X-ijkl3456', start_time=0, end_time=0)}},\n",
       " 'bar-c100x-mnop4567': {'cur': Barrier(device_name='bar-c100x-mnop4567', start_time=0, start_angle=0, end_time=0, end_angle=0, status='inactive'),\n",
       "  'prev': Barrier(device_name='bar-c100x-mnop4567', start_time=0, start_angle=0, end_time=0, end_angle=0, status='inactive'),\n",
       "  'associated_light': {'lig-l500X-cdef8901': Light(device_name='lig-l500X-cdef8901', start_time=0, end_time=0),\n",
       "   'lig-l500X-ghij9012': Light(device_name='lig-l500X-ghij9012', start_time=0, end_time=0),\n",
       "   'lig-l500X-klmn0123': Light(device_name='lig-l500X-klmn0123', start_time=0, end_time=0)},\n",
       "  'associated_bell': {'bel-z200X-mnop4567': Bell(device_name='bel-z200X-mnop4567', start_time=0, end_time=0)}}}"
      ]
     },
     "execution_count": 9,
     "metadata": {},
     "output_type": "execute_result"
    }
   ],
   "source": [
    "captors = instanciate_captors()\n",
    "captors"
   ]
  },
  {
   "cell_type": "code",
   "execution_count": 65,
   "metadata": {},
   "outputs": [
    {
     "name": "stdout",
     "output_type": "stream",
     "text": [
      "bar-c100x-abcd1234\n",
      "bar-c100x-efgh2345\n",
      "bar-c100x-ijkl3456\n",
      "bar-c100x-mnop4567\n"
     ]
    }
   ],
   "source": [
    "for barrier in captors:\n",
    "    print(barrier)"
   ]
  },
  {
   "cell_type": "code",
   "execution_count": 67,
   "metadata": {},
   "outputs": [
    {
     "data": {
      "text/plain": [
       "[['lig-l500X-abcd1234', 'lig-l500X-efgh2345'],\n",
       " ['lig-l500X-ijkl3456', 'lig-l500X-mnop4567'],\n",
       " ['lig-l500X-qrst5678', 'lig-l500X-uvwx6789', 'lig-l500X-yzab7890'],\n",
       " ['lig-l500X-cdef8901', 'lig-l500X-ghij9012', 'lig-l500X-klmn0123']]"
      ]
     },
     "execution_count": 67,
     "metadata": {},
     "output_type": "execute_result"
    }
   ],
   "source": [
    "lights_names = [list(captors[barriere][\"associated_light\"].keys()) for barriere in captors]\n",
    "lights_names"
   ]
  },
  {
   "cell_type": "code",
   "execution_count": 75,
   "metadata": {},
   "outputs": [],
   "source": [
    "associated_barriers = {'lig-l500X-abcd1234' : \"bar-c100x-abcd1234\",\n",
    "                       'lig-l500X-efgh2345' : \"bar-c100x-abcd1234\",\n",
    "                       'lig-l500X-ijkl3456' :\"bar-c100x-efgh2345\",\n",
    "                        'lig-l500X-mnop4567': \"bar-c100x-efgh2345\",\n",
    "                        'lig-l500X-qrst5678': \"bar-c100x-ijkl3456\",\n",
    "                        'lig-l500X-uvwx6789': \"bar-c100x-ijkl3456\",\n",
    "                        'lig-l500X-yzab7890': \"bar-c100x-ijkl3456\",\n",
    "                        'lig-l500X-cdef8901': \"bar-c100x-mnop4567\",\n",
    "                        'lig-l500X-ghij9012': \"bar-c100x-mnop4567\",\n",
    "                        'lig-l500X-klmn0123': \"bar-c100x-mnop4567\"    \n",
    "}"
   ]
  },
  {
   "cell_type": "code",
   "execution_count": 111,
   "metadata": {},
   "outputs": [],
   "source": [
    "def check_barrier_not_down(light_id : str):\n",
    "    bar_id = associated_barriers.get(light_id)\n",
    "    bar = captors[bar_id][\"cur\"]   \n",
    "    light = captors[bar_id][\"associated_light\"][light_id]\n",
    "    if bar.start_time == 0:\n",
    "        print(f\"ENVOYER UN MSG A ELK : Pas de données reçues pour la barrière {bar_id}\")\n",
    "    else :\n",
    "        if bar.start_time - light.start_time > 8 :\n",
    "            print(\"ENVOYER UN AUTRE MSG D'ERREUR A ELK : la barrière n'est pas abaissée à temps\")\n"
   ]
  },
  {
   "cell_type": "code",
   "execution_count": 109,
   "metadata": {},
   "outputs": [],
   "source": [
    "def barrier_islong(bar_id : str):\n",
    "    bar = captors[bar_id]['cur']\n",
    "    if bar.end_time - bar.start_time > 12 :\n",
    "        print(f\"ENCORE UN MSG D'ERREUR : LA BARRIERE {bar_id} EST TRES LONGUE\")\n",
    "    else :\n",
    "        print (\"TOU VA B1 !\")"
   ]
  },
  {
   "cell_type": "code",
   "execution_count": 112,
   "metadata": {},
   "outputs": [],
   "source": [
    "captors[\"bar-c100x-abcd1234\"]['cur'].start_time = 0\n",
    "captors[\"bar-c100x-abcd1234\"]['cur'].end_time = 29\n",
    "captors[\"bar-c100x-abcd1234\"]['associated_light']['lig-l500X-abcd1234'].start_time =7"
   ]
  },
  {
   "cell_type": "code",
   "execution_count": 113,
   "metadata": {},
   "outputs": [
    {
     "name": "stdout",
     "output_type": "stream",
     "text": [
      "ENVOYER UN MSG A ELK : Pas de données reçues pour la barrière bar-c100x-abcd1234\n"
     ]
    }
   ],
   "source": [
    "check_barrier_not_down(\"lig-l500X-abcd1234\")"
   ]
  },
  {
   "cell_type": "code",
   "execution_count": 110,
   "metadata": {},
   "outputs": [
    {
     "name": "stdout",
     "output_type": "stream",
     "text": [
      "ENCORE UN MSG D'ERREUR : LA BARRIERE bar-c100x-abcd1234 EST TRES LONGUE\n"
     ]
    }
   ],
   "source": [
    "barrier_islong(\"bar-c100x-abcd1234\")"
   ]
  },
  {
   "cell_type": "code",
   "execution_count": 10,
   "metadata": {},
   "outputs": [],
   "source": [
    "for barrier in captors.keys():\n",
    "    captors[barrier][\"cur\"]= Barrier(device_name=barrier)\n",
    "    captors[barrier][\"prev\"]= Barrier(device_name=barrier)\n",
    "    for light in captors[barrier][\"associated_light\"]:\n",
    "        captors[barrier][\"associated_light\"][light]= Light(device_name=light)\n",
    "    for bell in captors[barrier]['associated_bell']:\n",
    "        captors[barrier]['associated_bell'][bell]= Bell(device_name=bell)\n",
    "    "
   ]
  },
  {
   "cell_type": "code",
   "execution_count": 58,
   "metadata": {},
   "outputs": [],
   "source": [
    "captors[\"bar-c100x-abcd1234\"][\"cur\"].start_angle = 0\n",
    "captors[\"bar-c100x-abcd1234\"][\"cur\"].end_angle = 89"
   ]
  },
  {
   "cell_type": "code",
   "execution_count": 54,
   "metadata": {},
   "outputs": [
    {
     "data": {
      "text/plain": [
       "{'cur': Barrier(device_name='bar-c100x-abcd1234', start_time=0, start_angle=1, end_time=0, end_angle=89, status='up'),\n",
       " 'prev': Barrier(device_name='bar-c100x-abcd1234', start_time=0, start_angle=0, end_time=0, end_angle=0, status='inactive'),\n",
       " 'associated_light': {'lig-l500X-abcd1234': Light(device_name='lig-l500X-abcd1234', start_time=0, end_time=0),\n",
       "  'lig-l500X-efgh2345': Light(device_name='lig-l500X-efgh2345', start_time=0, end_time=0)},\n",
       " 'associated_bell': {'bel-z200X-abcd1234': Bell(device_name='bel-z200X-abcd1234', start_time=0, end_time=0)}}"
      ]
     },
     "execution_count": 54,
     "metadata": {},
     "output_type": "execute_result"
    }
   ],
   "source": [
    "captors[\"bar-c100x-abcd1234\"]"
   ]
  },
  {
   "cell_type": "code",
   "execution_count": 59,
   "metadata": {},
   "outputs": [],
   "source": [
    "def update_barrier_status(barrier : Barrier):\n",
    "    if barrier.start_angle > barrier.end_angle and barrier.end_angle == 0 :\n",
    "        barrier.change_status(\"down\")\n",
    "    elif barrier.start_angle < barrier.end_angle and barrier.end_angle == 90 :\n",
    "        barrier.change_status(\"up\")\n",
    "    else :\n",
    "        barrier.change_status(\"irregular\")"
   ]
  },
  {
   "cell_type": "code",
   "execution_count": 60,
   "metadata": {},
   "outputs": [
    {
     "data": {
      "text/plain": [
       "{'cur': Barrier(device_name='bar-c100x-abcd1234', start_time=0, start_angle=0, end_time=0, end_angle=89, status='irregular'),\n",
       " 'prev': Barrier(device_name='bar-c100x-abcd1234', start_time=0, start_angle=0, end_time=0, end_angle=0, status='inactive'),\n",
       " 'associated_light': {'lig-l500X-abcd1234': Light(device_name='lig-l500X-abcd1234', start_time=0, end_time=0),\n",
       "  'lig-l500X-efgh2345': Light(device_name='lig-l500X-efgh2345', start_time=0, end_time=0)},\n",
       " 'associated_bell': {'bel-z200X-abcd1234': Bell(device_name='bel-z200X-abcd1234', start_time=0, end_time=0)}}"
      ]
     },
     "execution_count": 60,
     "metadata": {},
     "output_type": "execute_result"
    }
   ],
   "source": [
    "update_barrier_status(captors[\"bar-c100x-abcd1234\"][\"cur\"])\n",
    "captors[\"bar-c100x-abcd1234\"]"
   ]
  },
  {
   "cell_type": "code",
   "execution_count": null,
   "metadata": {},
   "outputs": [],
   "source": []
  },
  {
   "cell_type": "code",
   "execution_count": 95,
   "metadata": {},
   "outputs": [],
   "source": [
    "def update_db(captors):\n",
    "    global new_data\n",
    "    if new_data:\n",
    "        for i in new_data[0]:\n",
    "            id =i['GENERIC_DATA'][0]['device_name'] \n",
    "            \n",
    "            if id.startswith(\"bar\"):\n",
    "                barrier_pre = captors[id].get(\"prev\")\n",
    "                barrier_cur = captors[id].get(\"cur\")\n",
    "                barrier_pre.update_barrier(barrier_cur.__dict__)\n",
    "                barrier_cur.update_barrier(i['GENERIC_DATA'][0])\n",
    "                \n",
    "            if id.startswith(\"bel\"):\n",
    "                for barrier in captors :\n",
    "                    bell= captors[barrier][\"associated_bell\"].get(id)\n",
    "                    try :\n",
    "                        bell= captors[barrier][\"associated_bell\"].get(id)\n",
    "                        bell.update_bell(i['GENERIC_DATA'][0])\n",
    "                    except :\n",
    "                        captors[barrier][\"associated_bell\"].get(id) == None\n",
    "                    \n",
    "            if id.startswith(\"lig\"):\n",
    "                for barrier in captors:\n",
    "                    try :\n",
    "                        light = captors[barrier][\"associated_light\"].get(id)\n",
    "                        light.update_light(i['GENERIC_DATA'][0])\n",
    "                    except :\n",
    "                        captors[barrier][\"associated_light\"].get(id) == None"
   ]
  },
  {
   "cell_type": "code",
   "execution_count": 96,
   "metadata": {},
   "outputs": [],
   "source": [
    "test_bell =[\n",
    "{\n",
    "\"GENERIC_DATA\": [\n",
    "{\n",
    "\"device_name\": \"bel-z200X-mnop4567\",\n",
    "\"start_time\": 111111111,\n",
    "\"end_time\": 2222222222\n",
    "}\n",
    "]\n",
    "}\n",
    "]"
   ]
  },
  {
   "cell_type": "code",
   "execution_count": 97,
   "metadata": {},
   "outputs": [],
   "source": [
    "update_db(captors, test_bell)"
   ]
  },
  {
   "cell_type": "code",
   "execution_count": 98,
   "metadata": {},
   "outputs": [
    {
     "data": {
      "text/plain": [
       "{'bar-c100x-abcd1234': {'cur': Barrier(device_name='bar-c100x-abcd1234', start_time=0, start_angle=0, end_time=0, end_angle=0, status='inactive'),\n",
       "  'prev': Barrier(device_name='bar-c100x-abcd1234', start_time=0, start_angle=0, end_time=0, end_angle=0, status='inactive'),\n",
       "  'associated_light': {'lig-l500X-abcd1234': Light(device_name='lig-l500X-abcd1234', start_time=0, end_time=0),\n",
       "   'lig-l500X-efgh2345': Light(device_name='lig-l500X-efgh2345', start_time=0, end_time=0)},\n",
       "  'associated_bell': {'bel-z200X-abcd1234': Bell(device_name='bel-z200X-abcd1234', start_time=0, end_time=0)}},\n",
       " 'bar-c100x-efgh2345': {'cur': Barrier(device_name='bar-c100x-efgh2345', start_time=0, start_angle=0, end_time=0, end_angle=0, status='inactive'),\n",
       "  'prev': Barrier(device_name='bar-c100x-efgh2345', start_time=0, start_angle=0, end_time=0, end_angle=0, status='inactive'),\n",
       "  'associated_light': {'lig-l500X-ijkl3456': Light(device_name='lig-l500X-ijkl3456', start_time=0, end_time=0),\n",
       "   'lig-l500X-mnop4567': Light(device_name='lig-l500X-mnop4567', start_time=0, end_time=0)},\n",
       "  'associated_bell': {'bel-z200X-efgh2345': Bell(device_name='bel-z200X-efgh2345', start_time=0, end_time=0)}},\n",
       " 'bar-c100x-ijkl3456': {'cur': Barrier(device_name='bar-c100x-ijkl3456', start_time=0, start_angle=0, end_time=0, end_angle=0, status='inactive'),\n",
       "  'prev': Barrier(device_name='bar-c100x-ijkl3456', start_time=0, start_angle=0, end_time=0, end_angle=0, status='inactive'),\n",
       "  'associated_light': {'lig-l500X-qrst5678': Light(device_name='lig-l500X-qrst5678', start_time=0, end_time=0),\n",
       "   'lig-l500X-uvwx6789': Light(device_name='lig-l500X-uvwx6789', start_time=0, end_time=0),\n",
       "   'lig-l500X-yzab7890': Light(device_name='lig-l500X-yzab7890', start_time=0, end_time=0)},\n",
       "  'associated_bell': {'bel-z200X-ijkl3456': Bell(device_name='bel-z200X-ijkl3456', start_time=0, end_time=0)}},\n",
       " 'bar-c100x-mnop4567': {'cur': Barrier(device_name='bar-c100x-mnop4567', start_time=0, start_angle=0, end_time=0, end_angle=0, status='inactive'),\n",
       "  'prev': Barrier(device_name='bar-c100x-mnop4567', start_time=0, start_angle=0, end_time=0, end_angle=0, status='inactive'),\n",
       "  'associated_light': {'lig-l500X-cdef8901': Light(device_name='lig-l500X-cdef8901', start_time=0, end_time=0),\n",
       "   'lig-l500X-ghij9012': Light(device_name='lig-l500X-ghij9012', start_time=0, end_time=0),\n",
       "   'lig-l500X-klmn0123': Light(device_name='lig-l500X-klmn0123', start_time=0, end_time=0)},\n",
       "  'associated_bell': {'bel-z200X-mnop4567': Bell(device_name='bel-z200X-mnop4567', start_time=111111111, end_time=2222222222)}}}"
      ]
     },
     "execution_count": 98,
     "metadata": {},
     "output_type": "execute_result"
    }
   ],
   "source": [
    "captors"
   ]
  },
  {
   "cell_type": "code",
   "execution_count": 99,
   "metadata": {},
   "outputs": [],
   "source": [
    "new_data_bell = [\n",
    "{\n",
    "\"GENERIC_DATA\": [\n",
    "{\n",
    "\"device_name\": \"bel-z200X-abcd1234\",\n",
    "\"start_time\": 111111111,\n",
    "\"end_time\" : 33333333333\n",
    "}\n",
    "]\n",
    "}],\n",
    "\n",
    "[{\n",
    "\"GENERIC_DATA\": [\n",
    "{\n",
    "\"device_name\": \"bel-z200X-abcd1234\",\n",
    "\"start_time\": 2222222222,\n",
    "\"end_time\" : 5555555555\n",
    "}\n",
    "]\n",
    "}\n",
    "]"
   ]
  },
  {
   "cell_type": "code",
   "execution_count": null,
   "metadata": {},
   "outputs": [],
   "source": [
    "new_data_barrier = [\n",
    "{\n",
    "\"GENERIC_DATA\": [\n",
    "{\n",
    "\"device_name\": \"bar-c100x-abcd1234\",\n",
    "\"start_time\": 2222222,\n",
    "\"end_time\" : 33444444,\n",
    "\"end_angle\": 90,\n",
    "\"start_angle\" : 0\n",
    "}\n",
    "]\n",
    "}\n",
    "],\n",
    "\n",
    "[\n",
    "{\n",
    "\"GENERIC_DATA\": [\n",
    "{\n",
    "\"device_name\": \"bar-c100x-abcd1234\",\n",
    "\"start_time\": 123456789,\n",
    "\"end_time\" : 987654321,\n",
    "\"end_angle\": 0,\n",
    "\"start_angle\" : 90\n",
    "}\n",
    "]\n",
    "}\n",
    "]"
   ]
  },
  {
   "cell_type": "code",
   "execution_count": null,
   "metadata": {},
   "outputs": [],
   "source": [
    "new_data_light = [\n",
    "{\n",
    "\"GENERIC_DATA\": [\n",
    "{\n",
    "\"device_name\": \"lig-l500X-efgh2345\",\n",
    "\"start_time\": 111111111,\n",
    "\"end_time\" : 33333333333\n",
    "}\n",
    "]\n",
    "}],\n",
    "\n",
    "[{\n",
    "\"GENERIC_DATA\": [\n",
    "{\n",
    "\"device_name\": \"lig-l500X-abcd1234\",\n",
    "\"start_time\": 2222222222,\n",
    "\"end_time\" : 5555555555\n",
    "}\n",
    "]\n",
    "}\n",
    "]"
   ]
  },
  {
   "cell_type": "code",
   "execution_count": 117,
   "metadata": {},
   "outputs": [],
   "source": [
    "new_whole_data =[[\n",
    "    {\n",
    "    \"GENERIC_DATA\": [\n",
    "                            {\n",
    "                            \"device_name\": \"lig-l500X-abcd1234\",\n",
    "                            \"start_time\": 1,\n",
    "                            \"end_time\" : 3\n",
    "                            }\n",
    "                    ]\n",
    "    },\n",
    "    {\n",
    "    \"GENERIC_DATA\": [\n",
    "                            {\n",
    "                            \"device_name\": \"bar-c100x-abcd1234\",\n",
    "                            \"start_time\": 111111111,\n",
    "                            \"end_time\" : 55555555555,\n",
    "                            \"end_angle\": 0,\n",
    "                            \"start_angle\" : 90\n",
    "                            }\n",
    "                    ]\n",
    "    }               \n",
    "]]"
   ]
  },
  {
   "cell_type": "code",
   "execution_count": 122,
   "metadata": {},
   "outputs": [
    {
     "data": {
      "text/plain": [
       "[[{'GENERIC_DATA': [{'device_name': 'lig-l500X-abcd1234',\n",
       "     'start_time': 1,\n",
       "     'end_time': 3}]},\n",
       "  {'GENERIC_DATA': [{'device_name': 'bar-c100x-abcd1234',\n",
       "     'start_time': 111111111,\n",
       "     'end_time': 55555555555,\n",
       "     'end_angle': 0,\n",
       "     'start_angle': 90}]}]]"
      ]
     },
     "execution_count": 122,
     "metadata": {},
     "output_type": "execute_result"
    }
   ],
   "source": [
    "new_whole_data"
   ]
  },
  {
   "cell_type": "code",
   "execution_count": 125,
   "metadata": {},
   "outputs": [
    {
     "name": "stdout",
     "output_type": "stream",
     "text": [
      "lig-l500X-abcd1234\n",
      "bar-c100x-abcd1234\n"
     ]
    }
   ],
   "source": [
    "for i in new_whole_data[0]:\n",
    "    id =i['GENERIC_DATA'][0]['device_name']\n",
    "    print(id)"
   ]
  },
  {
   "cell_type": "code",
   "execution_count": 221,
   "metadata": {},
   "outputs": [],
   "source": [
    "# Instancie la db et les capteurs\n",
    "db_size = 0\n",
    "db_get_list = []\n",
    "captors = instanciate_captors()"
   ]
  },
  {
   "cell_type": "code",
   "execution_count": 235,
   "metadata": {},
   "outputs": [],
   "source": [
    "# Regular task checking for new data\n",
    "serv_size = get_serv_size()\n",
    "check_serv_status(db_size)\n",
    "db_get_cur = []\n",
    "# Checking new_data and saving them in log and db for use cases\n",
    "if check_serv_status(db_size) :\n",
    "    add_log_entry(get_data()[db_size:])\n",
    "    db_get_list.append(get_data())\n",
    "    db_get_cur.append(get_data()[db_size:])\n",
    "db_size = serv_size"
   ]
  },
  {
   "attachments": {},
   "cell_type": "markdown",
   "metadata": {},
   "source": [
    "# TEST POUR LOAD/SAVE JSON"
   ]
  },
  {
   "cell_type": "code",
   "execution_count": 1,
   "metadata": {},
   "outputs": [],
   "source": [
    "json_test = {\n",
    "        \"barrier1\": [\n",
    "            {\n",
    "            \"device_name\": \"stu-c100x-abcd1234\",\n",
    "            \"start_time\": 1678123467,\n",
    "            \"start_angle\": 83.0,\n",
    "            \"end_time\": 1678123482,\n",
    "            \"end_angle\": 1.3\n",
    "            }\n",
    "        ]\n",
    "    }\n"
   ]
  },
  {
   "cell_type": "code",
   "execution_count": 7,
   "metadata": {},
   "outputs": [],
   "source": [
    "save_file = open(\"saved_json\", \"w\")\n",
    "json.dump(json_test, save_file, indent= 6)\n",
    "save_file.close()"
   ]
  },
  {
   "attachments": {},
   "cell_type": "markdown",
   "metadata": {},
   "source": [
    "# CREATION DES DICTIONNAIRES PAR TYPE DE CAPTEUR"
   ]
  },
  {
   "attachments": {},
   "cell_type": "markdown",
   "metadata": {},
   "source": [
    "# Reliquats code précédent"
   ]
  },
  {
   "cell_type": "code",
   "execution_count": null,
   "metadata": {},
   "outputs": [
    {
     "data": {
      "text/plain": [
       "[[{'GENERIC_DATA': [{'device_name': 'bar-c100x-efgh2345',\n",
       "     'start_time': 1678123300,\n",
       "     'end_time': 1678123400,\n",
       "     'start_angle': 90,\n",
       "     'end_angle': 0}]}],\n",
       " [{'GENERIC_DATA': [{'device_name': 'bar-c100x-efgh2345',\n",
       "     'start_time': 1678123300,\n",
       "     'end_time': 1678123400,\n",
       "     'start_angle': 90,\n",
       "     'end_angle': 0}]},\n",
       "  {'GENERIC_DATA': [{'device_name': 'bar-c100x-efgh2345',\n",
       "     'start_time': 1678123415,\n",
       "     'end_time': 1678123515,\n",
       "     'start_angle': 0,\n",
       "     'end_angle': 90}]}]]"
      ]
     },
     "metadata": {},
     "output_type": "display_data"
    }
   ],
   "source": [
    "db_get_list"
   ]
  },
  {
   "cell_type": "code",
   "execution_count": null,
   "metadata": {},
   "outputs": [],
   "source": [
    "db_get_cur =   [[{'GENERIC_DATA': [{'device_name': 'bar-c100x-efgh2345',\n",
    "     'start_time': 1678123415,\n",
    "     'end_time': 1678123515,\n",
    "     'start_angle': 0,\n",
    "     'end_angle': 90}]}]]"
   ]
  },
  {
   "cell_type": "code",
   "execution_count": null,
   "metadata": {},
   "outputs": [],
   "source": [
    "if db_get_cur:\n",
    "    for i in db_get_cur[0]:\n",
    "        if i['GENERIC_DATA'][0]['device_name'].startswith(\"bar\"):\n",
    "            barrier_id = i['GENERIC_DATA'][0]['device_name']\n",
    "            barrier_pre = captors['captor_list']['barriers'].get(barrier_id+\"_pre\")\n",
    "            barrier_cur = captors['captor_list']['barriers'].get(barrier_id+\"_cur\")\n",
    "            barrier_pre.update_barrier(barrier_cur.__dict__)\n",
    "            barrier_cur.update_barrier(i['GENERIC_DATA'][0])\n",
    "        if i['GENERIC_DATA'][0]['device_name'].startswith(\"bel\"):\n",
    "            bell_id = i['GENERIC_DATA'][0]['device_name']\n",
    "            bell_pre = captors['captor_list']['bells'].get(bell_id+\"_pre\")\n",
    "            bell_cur = captors['captor_list']['bells'].get(bell_id+\"_cur\")\n",
    "            bell_pre.update_bell(bell_cur.__dict__)\n",
    "            bell_cur.update_bell(i['GENERIC_DATA'][0])\n",
    "        if i['GENERIC_DATA'][0]['device_name'].startswith(\"lig\"):\n",
    "            light_id = i['GENERIC_DATA'][0]['device_name']\n",
    "            light_pre = captors['captor_list']['lights'].get(light_id+\"_pre\")\n",
    "            light_cur = captors['captor_list']['lights'].get(light_id+\"_cur\")\n",
    "            light_pre.update_barrier(light_cur.__dict__)\n",
    "            light_cur.update_barrier(i['GENERIC_DATA'][0])\n"
   ]
  },
  {
   "cell_type": "code",
   "execution_count": null,
   "metadata": {},
   "outputs": [
    {
     "data": {
      "text/plain": [
       "{'bar-c100x-abcd1234_cur': Barrier(device_name='bar-c100x-abcd1234', start_time=0, start_angle=0, end_time=0, end_angle=0, status='inactive'),\n",
       " 'bar-c100x-abcd1234_pre': Barrier(device_name='bar-c100x-abcd1234', start_time=0, start_angle=0, end_time=0, end_angle=0, status='inactive'),\n",
       " 'bar-c100x-efgh2345_cur': Barrier(device_name='bar-c100x-efgh2345', start_time=1678123415, start_angle=0, end_time=1678123515, end_angle=90, status='inactive'),\n",
       " 'bar-c100x-efgh2345_pre': Barrier(device_name='bar-c100x-efgh2345', start_time=1678123300, start_angle=90, end_time=1678123400, end_angle=0, status='inactive'),\n",
       " 'bar-c100x-ijkl3456_cur': Barrier(device_name='bar-c100x-ijkl3456', start_time=0, start_angle=0, end_time=0, end_angle=0, status='inactive'),\n",
       " 'bar-c100x-ijkl3456_pre': Barrier(device_name='bar-c100x-ijkl3456', start_time=0, start_angle=0, end_time=0, end_angle=0, status='inactive'),\n",
       " 'bar-c100x-mnop4567_cur': Barrier(device_name='bar-c100x-mnop4567', start_time=0, start_angle=0, end_time=0, end_angle=0, status='inactive'),\n",
       " 'bar-c100x-mnop4567_pre': Barrier(device_name='bar-c100x-mnop4567', start_time=0, start_angle=0, end_time=0, end_angle=0, status='inactive')}"
      ]
     },
     "metadata": {},
     "output_type": "display_data"
    }
   ],
   "source": [
    "captors['captor_list']['barriers']"
   ]
  },
  {
   "cell_type": "code",
   "execution_count": null,
   "metadata": {},
   "outputs": [],
   "source": []
  },
  {
   "cell_type": "code",
   "execution_count": null,
   "metadata": {},
   "outputs": [],
   "source": [
    "captor_dict = {\"captor_list\" : {\"barrier_list\" : \n",
    "    [\"bar-c100x-abcd1234\", \"bar-c100x-efgh2345\", \"bar-c100x-ijkl3456\", \"bar-c100x-mnop4567\"],\n",
    "\"bell_list\" : \n",
    "    [\"bel-z200X-abcd1234\", \"bel-z200X-efgh2345\", \"bel-z200X-ijkl3456\", \"bel-z200X-mnop4567\"],\n",
    "\"light_list\" : [\"lig-l500X-abcd1234\", \"lig-l500X-efgh2345\", \"lig-l500X-ijkl3456\", \"lig-l500X-mnop4567\",\n",
    "    \"lig-l500X-qrst5678\", \"lig-l500X-uvwx6789\", \"lig-l500X-yzab7890\", \"lig-l500X-cdef8901\"],\n",
    "\"single_lights\": [\"lig-l500X-ghij9012\", \"lig-l500X-klmn0123\"]}}\n",
    "\n"
   ]
  },
  {
   "cell_type": "code",
   "execution_count": null,
   "metadata": {},
   "outputs": [],
   "source": [
    "def instanciate_captors ():\n",
    "   barrier_list = [({f\"barrier{num+1}_curr\" : Barrier(device_name = captor)}, \\\n",
    "      {f\"barrier{num+1}_prec\" : Barrier(device_name = captor)}) \\\n",
    "    for num, captor in enumerate(captor_dict['captor_list']['barrier_list'])]\n",
    "\n",
    "   bell_list = [({f\"bell{num+1}_curr\" : Bell(device_name = captor)}, \\\n",
    "      {f\"bell{num+1}_prec\" : Bell(device_name = captor)}) \\\n",
    "      for num, captor in enumerate(captor_dict['captor_list']['bell_list'])]\n",
    "\n",
    "   light_list = [({f\"light{num+1}_curr\" : Light(device_name = captor, channel = 2 if num%2 ==1 else 1)}, \\\n",
    "      {f\"light{num+1}_prec\" : Light(device_name = captor , channel = 2 if num%2 ==1 else 1)}) \\\n",
    "      for num, captor in enumerate(captor_dict['captor_list']['light_list'])]\n",
    "\n",
    "   light_list.append(({f\"light{9}_curr\" : Light(device_name = captor_dict['captor_list']['single_lights'][0], channel = 1)},\\\n",
    "      {f\"light{9}_prec\" : Light(device_name = captor_dict['captor_list']['single_lights'][0], channel = 1)}))\n",
    "   light_list.append(({f\"light{10}_curr\" : Light(device_name = captor_dict['captor_list']['single_lights'][1],\\\n",
    "      channel = 1)},{f\"light{10}_prec\" : Light(device_name = captor_dict['captor_list']['single_lights'][1], channel = 1)}))\n",
    "   \n",
    "   return {\"captor_list\" : {\"barrier_list\": barrier_list, \"bell_list\": bell_list, \"light_list\": light_list}}\n"
   ]
  },
  {
   "cell_type": "code",
   "execution_count": null,
   "metadata": {},
   "outputs": [],
   "source": [
    "captor_list = instanciate_captors()"
   ]
  },
  {
   "cell_type": "code",
   "execution_count": null,
   "metadata": {},
   "outputs": [
    {
     "data": {
      "text/plain": [
       "dict_keys(['barrier_list', 'bell_list', 'light_list'])"
      ]
     },
     "metadata": {},
     "output_type": "display_data"
    }
   ],
   "source": [
    "captor_list['captor_list'].keys()"
   ]
  },
  {
   "cell_type": "code",
   "execution_count": null,
   "metadata": {},
   "outputs": [],
   "source": [
    "\n",
    "for i in fused_data:\n",
    "    if i[0] == \"1\":\n",
    "        for j in range(1,3):\n",
    "            if i[3] == \"True\":\n",
    "                bar_dict[f\"barrier {j}\"][i[1]] = [{\n",
    "                    \"device_name\": \"stu-c100x-abcd1234\",\n",
    "                    \"start_time\": i[2]+8,\n",
    "                    \"start_angle\": 90.0 + uniform(-5, 5),\n",
    "                    \"end_time\": i[2]+12,\n",
    "                    \"end_angle\": 0.0 + uniform(-5,5)\n",
    "                    }]\n",
    "                bar_dict[f\"barrier {j}\"][i[1]].append({\n",
    "                    \"device_name\": \"stu-c100x-abcd1234\",\n",
    "                    \"start_time\": i[2]+65,\n",
    "                    \"start_angle\": 0.0,\n",
    "                    \"end_time\": i[2] +77,\n",
    "                    \"end_angle\": 90.0\n",
    "                    })\n",
    "            else :\n",
    "                bar_dict[f\"barrier {j}\"][i[1]] = [{\n",
    "                    \"device_name\": \"stu-c100x-abcd1234\",\n",
    "                    \"start_time\": i[2]+8,\n",
    "                    \"start_angle\": 90.0,\n",
    "                    \"end_time\": i[2]+12,\n",
    "                    \"end_angle\": 0.0\n",
    "                    }]\n",
    "                bar_dict[f\"barrier {j}\"][i[1]].append({\n",
    "                    \"device_name\": \"stu-c100x-abcd1234\",\n",
    "                    \"start_time\": i[2]+65,\n",
    "                    \"start_angle\": 0.0,\n",
    "                    \"end_time\": i[2] +77,\n",
    "                    \"end_angle\": 90.0\n",
    "                    })\n",
    "    elif i[0] == \"2\" :\n",
    "        for j in range(3,5):\n",
    "            if i[3] == \"True\":\n",
    "                bar_dict[f\"barrier {j}\"][i[1]] = [{\n",
    "                    \"device_name\": \"stu-c100x-abcd1234\",\n",
    "                    \"start_time\": i[2]+8,\n",
    "                    \"start_angle\": 90.0 + uniform(-5, 5),\n",
    "                    \"end_time\": i[2]+12,\n",
    "                    \"end_angle\": 0.0 + uniform(-5,5)\n",
    "                    }]\n",
    "                bar_dict[f\"barrier {j}\"][i[1]].append({\n",
    "                    \"device_name\": \"stu-c100x-abcd1234\",\n",
    "                    \"start_time\": i[2]+65,\n",
    "                    \"start_angle\": 0.0,\n",
    "                    \"end_time\": i[2] +77,\n",
    "                    \"end_angle\": 90.0\n",
    "                    })\n",
    "            bar_dict[f\"barrier {j}\"][i[1]] = [{\n",
    "                    \"device_name\": \"stu-c100x-abcd1234\",\n",
    "                    \"start_time\": i[2]+8,\n",
    "                    \"start_angle\": 90.0,\n",
    "                    \"end_time\": i[2]+12,\n",
    "                    \"end_angle\": 0.0\n",
    "                    }]\n",
    "            bar_dict[f\"barrier {j}\"][i[1]].append({\n",
    "                \"device_name\": \"stu-c100x-abcd1234\",\n",
    "                \"start_time\": i[2]+65,\n",
    "                \"start_angle\": 0.0,\n",
    "                \"end_time\": i[2] +77,\n",
    "                \"end_angle\": 90.0\n",
    "                })\n",
    "            \n",
    "            \n",
    "save_file = open(\"data_post/barriers.json\", \"w\")\n",
    "json.dump(bar_dict, save_file, indent= 6)\n",
    "save_file.close()\n"
   ]
  },
  {
   "cell_type": "code",
   "execution_count": null,
   "metadata": {},
   "outputs": [],
   "source": [
    "# structure type JSON\n",
    "\n",
    "[\n",
    "    {\n",
    "        \"barrier1\": [\n",
    "            {\n",
    "            \"device_name\": \"stu-c100x-abcd1234\",\n",
    "            \"start_time\": 1678123467,\n",
    "            \"start_angle\": 83.0,\n",
    "            \"end_time\": 1678123482,\n",
    "            \"end_angle\": 1.3\n",
    "            }\n",
    "        ]\n",
    "    },\n",
    "    \n",
    "    {\n",
    "        \"bell1\": [\n",
    "            {\n",
    "            \"device_name\": \"stu-c100x-abcd1234\",\n",
    "            \"start_time\": 1678123467,\n",
    "            \"start_angle\": 83.0,\n",
    "            \"end_time\": 1678123482,\n",
    "            \"end_angle\": 1.3\n",
    "            }\n",
    "        ]\n",
    "    },\n",
    "    \n",
    "    {\n",
    "        \"light1\": [\n",
    "            {\n",
    "            \"device_name\": \"stu-c100x-abcd1234\",\n",
    "            \"start_time\": 1678123467,\n",
    "            \"start_angle\": 83.0,\n",
    "            \"end_time\": 1678123482,\n",
    "            \"end_angle\": 1.3\n",
    "            }\n",
    "        ]\n",
    "    },\n",
    "    {\n",
    "        \"light2\": [\n",
    "            {\n",
    "            \"device_name\": \"stu-c100x-abcd1234\",\n",
    "            \"start_time\": 1678123467,\n",
    "            \"start_angle\": 83.0,\n",
    "            \"end_time\": 1678123482,\n",
    "            \"end_angle\": 1.3\n",
    "            }\n",
    "        ]\n",
    "    }\n",
    "]"
   ]
  },
  {
   "cell_type": "code",
   "execution_count": 169,
   "metadata": {},
   "outputs": [],
   "source": [
    "# structure finale JSON PN\n",
    "\n",
    "json_type= [\n",
    "    \n",
    "    {\"barriers\": \n",
    "                {\"barrier1\": \n",
    "                    {},\n",
    "                \"barrier2\" : {},\n",
    "                \"barrier3\": {},\n",
    "                \"barrier4\": {}\n",
    "                }\n",
    "            },\n",
    "    \n",
    "    {\"bells\": \n",
    "            {\"bell1\":\n",
    "            {\"device_name\": \"stu-c100x-abcd1234\",\"start_time\": 1678123467,\"end_time\": 1678123482},\n",
    "            \"bell2\": {}\n",
    "            }\n",
    "            },\n",
    "    \n",
    "    {\"lights\": \n",
    "            {\"device_name\": \"stu-c100x-abcd1234\",\"channel\": 1,\"start_time\": 1678123467,\"end_time\": 1678123482,\n",
    "            }}\n",
    "]"
   ]
  },
  {
   "cell_type": "code",
   "execution_count": null,
   "metadata": {},
   "outputs": [],
   "source": [
    "\n",
    "train_list = [\"881235\",\"2256\", \"881766\", \"880447\", \"881235\", \"2389\",\\\n",
    "    \"882559\", \"881766\", \"880447\", \"1759\", \"97653\", \"2357\", \"883496\", \"875963\",\\\n",
    "        \"882559\", \"1356\", \"5562\", \"881236\", \"880465\", \"5573\"]\n",
    "timestamp_list = [1683012695, 1683015972, 1683016276, 1683017804, 1683022304, 1683026642, 1683027371, 1683027911,\\\n",
    "    1683029116, 1683030616, 1683032248, 1683033193, 1683036116, 1683036683, 1683039646, 1683041565, 1683043426,\\\n",
    "        1683045201, 1683047636,1683048370]\n",
    "pn_list = [str(ele) for ele in [1,2,1,1,2,1,1,2,2,1,1,2,1,1,2,1,2,1,2,1]]\n",
    "problem_list = [str(ele).replace(\"0\",\"False\").replace(\"1\",\"True\") for ele in [0,0,0,1,0,0,0,0,1,0,1,0,0,0,0,1,0,0,1,0]]\n",
    "\n",
    "fused_data = list(zip(pn_list, train_list, timestamp_list, problem_list))\n",
    "fused_data"
   ]
  }
 ],
 "metadata": {
  "kernelspec": {
   "display_name": "Python 3",
   "language": "python",
   "name": "python3"
  },
  "language_info": {
   "codemirror_mode": {
    "name": "ipython",
    "version": 3
   },
   "file_extension": ".py",
   "mimetype": "text/x-python",
   "name": "python",
   "nbconvert_exporter": "python",
   "pygments_lexer": "ipython3",
   "version": "3.10.6"
  },
  "orig_nbformat": 4
 },
 "nbformat": 4,
 "nbformat_minor": 2
}
