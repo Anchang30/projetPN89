{
 "cells": [
  {
   "cell_type": "code",
   "execution_count": 1,
   "metadata": {},
   "outputs": [],
   "source": [
    "%load_ext autoreload\n",
    "%autoreload 2"
   ]
  },
  {
   "cell_type": "code",
   "execution_count": 2,
   "metadata": {},
   "outputs": [],
   "source": [
    "from random import uniform\n",
    "import json\n",
    "import sys\n",
    "import os"
   ]
  },
  {
   "cell_type": "code",
   "execution_count": 3,
   "metadata": {},
   "outputs": [],
   "source": [
    "# getting the name of the directory\n",
    "# where the this file is present.\n",
    "current = os.path.dirname(os.path.realpath(os.path.abspath(\"\")))\n",
    "  \n",
    "# # adding the parent directory to\n",
    "# # the sys.path.\n",
    "sys.path.append(current)"
   ]
  },
  {
   "cell_type": "code",
   "execution_count": 6,
   "metadata": {},
   "outputs": [],
   "source": [
    "\n",
    "from db import Barrier, Bell, Light, instanciate_sensors\n",
    "from services import update_db\n",
    "from get_data import *"
   ]
  },
  {
   "attachments": {},
   "cell_type": "markdown",
   "metadata": {},
   "source": [
    "# Database exchanges and log entry addition"
   ]
  },
  {
   "attachments": {},
   "cell_type": "markdown",
   "metadata": {},
   "source": [
    "# Code à jour"
   ]
  },
  {
   "cell_type": "code",
   "execution_count": 37,
   "metadata": {},
   "outputs": [],
   "source": [
    "sensors_dict = {\n",
    "      \"bar-c100x-abcd1234\": {\"cur\": \"\", \"prev\" : \"\", \n",
    "            \"associated_light\": {\"lig-l500X-abcd1234\": \"\", \"lig-l500X-efgh2345\": \"\"},\n",
    "            \"associated_bell\": {\"bel-z200X-abcd1234\": \"\"}\n",
    "            },\n",
    "      \"bar-c100x-efgh2345\": {\"cur\": \"\", \"prev\" : \"\", \n",
    "            \"associated_light\": {\"lig-l500X-ijkl3456\": \"\", \"lig-l500X-mnop4567\": \"\"},\n",
    "            \"associated_bell\": {\"bel-z200X-efgh2345\": \"\"}\n",
    "            },\n",
    "      \"bar-c100x-ijkl3456\": {\"cur\": \"\",\"prev\" : \"\", \n",
    "            \"associated_light\": {\"lig-l500X-qrst5678\": \"\", \"lig-l500X-uvwx6789\": \"\", \"lig-l500X-yzab7890\": \"\"},\n",
    "            \"associated_bell\": {\"bel-z200X-ijkl3456\": \"\"}\n",
    "            },\n",
    "      \"bar-c100x-mnop4567\": {\"cur\": \"\", \"prev\": \"\",\n",
    "            \"associated_light\": {\"lig-l500X-cdef8901\": \"\", \"lig-l500X-ghij9012\": \"\", \"lig-l500X-klmn0123\": \"\"},\n",
    "            \"associated_bell\": {\"bel-z200X-mnop4567\": \"\"}\n",
    "            }\n",
    "      }"
   ]
  },
  {
   "cell_type": "code",
   "execution_count": 63,
   "metadata": {},
   "outputs": [
    {
     "name": "stdout",
     "output_type": "stream",
     "text": [
      "log.json\n"
     ]
    }
   ],
   "source": [
    "def logfile_name():\n",
    "    path_ = os.path.dirname(os.getcwd())\n",
    "    log_path = os.path.join(path_, \"logs\")\n",
    "    if \"logs\" not in os.listdir(path_):\n",
    "        os.mkdir(log_path)\n",
    "    len_json = len([doc for doc in os.listdir(log_path) if doc.startswith(\"log\") and doc.endswith(\".json\")])\n",
    "    if len_json == 0:\n",
    "        return \"log.json\"\n",
    "    else :\n",
    "        print(log_path)\n",
    "        return f\"log{len_json}.json\""
   ]
  },
  {
   "cell_type": "code",
   "execution_count": 64,
   "metadata": {},
   "outputs": [
    {
     "name": "stdout",
     "output_type": "stream",
     "text": [
      "/home/vincent/projetPN89/logs\n"
     ]
    },
    {
     "data": {
      "text/plain": [
       "'log4.json'"
      ]
     },
     "execution_count": 64,
     "metadata": {},
     "output_type": "execute_result"
    }
   ],
   "source": [
    "logfile_name()"
   ]
  },
  {
   "cell_type": "code",
   "execution_count": 57,
   "metadata": {},
   "outputs": [
    {
     "data": {
      "text/plain": [
       "{'bar-c100x-abcd1234': {'cur': Barrier(device_name='bar-c100x-abcd1234', start_time=0, start_angle=0, end_time=0, end_angle=0, status='inactive'),\n",
       "  'prev': Barrier(device_name='bar-c100x-abcd1234', start_time=0, start_angle=0, end_time=0, end_angle=0, status='inactive'),\n",
       "  'associated_light': {'lig-l500X-abcd1234': Light(device_name='lig-l500X-abcd1234', start_time=0, end_time=0),\n",
       "   'lig-l500X-efgh2345': Light(device_name='lig-l500X-efgh2345', start_time=0, end_time=0)},\n",
       "  'associated_bell': {'bel-z200X-abcd1234': Bell(device_name='bel-z200X-abcd1234', start_time=0, end_time=0)}},\n",
       " 'bar-c100x-efgh2345': {'cur': Barrier(device_name='bar-c100x-efgh2345', start_time=0, start_angle=0, end_time=0, end_angle=0, status='inactive'),\n",
       "  'prev': Barrier(device_name='bar-c100x-efgh2345', start_time=0, start_angle=0, end_time=0, end_angle=0, status='inactive'),\n",
       "  'associated_light': {'lig-l500X-ijkl3456': Light(device_name='lig-l500X-ijkl3456', start_time=0, end_time=0),\n",
       "   'lig-l500X-mnop4567': Light(device_name='lig-l500X-mnop4567', start_time=0, end_time=0)},\n",
       "  'associated_bell': {'bel-z200X-efgh2345': Bell(device_name='bel-z200X-efgh2345', start_time=0, end_time=0)}},\n",
       " 'bar-c100x-ijkl3456': {'cur': Barrier(device_name='bar-c100x-ijkl3456', start_time=0, start_angle=0, end_time=0, end_angle=0, status='inactive'),\n",
       "  'prev': Barrier(device_name='bar-c100x-ijkl3456', start_time=0, start_angle=0, end_time=0, end_angle=0, status='inactive'),\n",
       "  'associated_light': {'lig-l500X-qrst5678': Light(device_name='lig-l500X-qrst5678', start_time=0, end_time=0),\n",
       "   'lig-l500X-uvwx6789': Light(device_name='lig-l500X-uvwx6789', start_time=0, end_time=0),\n",
       "   'lig-l500X-yzab7890': Light(device_name='lig-l500X-yzab7890', start_time=0, end_time=0)},\n",
       "  'associated_bell': {'bel-z200X-ijkl3456': Bell(device_name='bel-z200X-ijkl3456', start_time=0, end_time=0)}},\n",
       " 'bar-c100x-mnop4567': {'cur': Barrier(device_name='bar-c100x-mnop4567', start_time=0, start_angle=0, end_time=0, end_angle=0, status='inactive'),\n",
       "  'prev': Barrier(device_name='bar-c100x-mnop4567', start_time=0, start_angle=0, end_time=0, end_angle=0, status='inactive'),\n",
       "  'associated_light': {'lig-l500X-cdef8901': Light(device_name='lig-l500X-cdef8901', start_time=0, end_time=0),\n",
       "   'lig-l500X-ghij9012': Light(device_name='lig-l500X-ghij9012', start_time=0, end_time=0),\n",
       "   'lig-l500X-klmn0123': Light(device_name='lig-l500X-klmn0123', start_time=0, end_time=0)},\n",
       "  'associated_bell': {'bel-z200X-mnop4567': Bell(device_name='bel-z200X-mnop4567', start_time=0, end_time=0)}}}"
      ]
     },
     "execution_count": 57,
     "metadata": {},
     "output_type": "execute_result"
    }
   ],
   "source": [
    "sensors = instanciate_sensors()\n",
    "sensors"
   ]
  },
  {
   "cell_type": "code",
   "execution_count": 58,
   "metadata": {},
   "outputs": [],
   "source": [
    "bar = sensors[\"bar-c100x-abcd1234\"][\"prev\"].__dict__\n",
    "doc = bar.copy()\n",
    "doc[\"error_type\"] = \"Pas de données reçues\""
   ]
  },
  {
   "cell_type": "code",
   "execution_count": 59,
   "metadata": {},
   "outputs": [
    {
     "data": {
      "text/plain": [
       "{'device_name': 'bar-c100x-abcd1234',\n",
       " 'start_time': 0,\n",
       " 'start_angle': 0,\n",
       " 'end_time': 0,\n",
       " 'end_angle': 0,\n",
       " 'status': 'inactive',\n",
       " 'error_type': 'Pas de données reçues'}"
      ]
     },
     "execution_count": 59,
     "metadata": {},
     "output_type": "execute_result"
    }
   ],
   "source": [
    "doc"
   ]
  },
  {
   "cell_type": "code",
   "execution_count": 27,
   "metadata": {},
   "outputs": [],
   "source": [
    "associated_barriers = {'lig-l500X-abcd1234' : \"bar-c100x-abcd1234\",\n",
    "                       'lig-l500X-efgh2345' : \"bar-c100x-abcd1234\",\n",
    "                       'lig-l500X-ijkl3456' :\"bar-c100x-efgh2345\",\n",
    "                        'lig-l500X-mnop4567': \"bar-c100x-efgh2345\",\n",
    "                        'lig-l500X-qrst5678': \"bar-c100x-ijkl3456\",\n",
    "                        'lig-l500X-uvwx6789': \"bar-c100x-ijkl3456\",\n",
    "                        'lig-l500X-yzab7890': \"bar-c100x-ijkl3456\",\n",
    "                        'lig-l500X-cdef8901': \"bar-c100x-mnop4567\",\n",
    "                        'lig-l500X-ghij9012': \"bar-c100x-mnop4567\",\n",
    "                        'lig-l500X-klmn0123': \"bar-c100x-mnop4567\"    \n",
    "}"
   ]
  },
  {
   "cell_type": "code",
   "execution_count": 49,
   "metadata": {},
   "outputs": [],
   "source": [
    "new_data = [[{\"GENERIC_DATA\": [\n",
    "{\"device_name\": \"bel-z200X-abcd1234\",\n",
    "\"start_time\": 123456789,\n",
    "\"end_time\": 987654321\n",
    "}]}]]"
   ]
  },
  {
   "cell_type": "code",
   "execution_count": 73,
   "metadata": {},
   "outputs": [
    {
     "name": "stdout",
     "output_type": "stream",
     "text": [
      "device_name='lig-l500X-abcd1234' start_time=123456789 end_time=987654321\n",
      "device_name='lig-l500X-efgh2345' start_time=0 end_time=0\n"
     ]
    }
   ],
   "source": [
    "lights = sensors[\"bar-c100x-abcd1234\"][\"associated_light\"]\n",
    "for light in lights.values() :\n",
    "    print(light)"
   ]
  },
  {
   "cell_type": "code",
   "execution_count": 111,
   "metadata": {},
   "outputs": [],
   "source": [
    "def check_barrier_not_down(light_id : str):\n",
    "    bar_id = associated_barriers.get(light_id)\n",
    "    bar = sensors[bar_id][\"cur\"]   \n",
    "    light = sensors[bar_id][\"associated_light\"][light_id]\n",
    "    if bar.start_time == 0:\n",
    "        print(f\"ENVOYER UN MSG A ELK : Pas de données reçues pour la barrière {bar_id}\")\n",
    "    else :\n",
    "        if bar.start_time - light.start_time > 8 :\n",
    "            print(\"ENVOYER UN AUTRE MSG D'ERREUR A ELK : la barrière n'est pas abaissée à temps\")\n"
   ]
  },
  {
   "cell_type": "code",
   "execution_count": 109,
   "metadata": {},
   "outputs": [],
   "source": [
    "def barrier_islong(bar_id : str):\n",
    "    bar = sensors[bar_id]['cur']\n",
    "    if bar.end_time - bar.start_time > 12 :\n",
    "        print(f\"ENCORE UN MSG D'ERREUR : LA BARRIERE {bar_id} EST TRES LONGUE\")\n",
    "    else :\n",
    "        print (\"TOU VA B1 !\")"
   ]
  },
  {
   "cell_type": "code",
   "execution_count": 112,
   "metadata": {},
   "outputs": [],
   "source": [
    "sensors[\"bar-c100x-abcd1234\"]['cur'].start_time = 0\n",
    "sensors[\"bar-c100x-abcd1234\"]['cur'].end_time = 29\n",
    "sensors[\"bar-c100x-abcd1234\"]['associated_light']['lig-l500X-abcd1234'].start_time =7"
   ]
  },
  {
   "cell_type": "code",
   "execution_count": 113,
   "metadata": {},
   "outputs": [
    {
     "name": "stdout",
     "output_type": "stream",
     "text": [
      "ENVOYER UN MSG A ELK : Pas de données reçues pour la barrière bar-c100x-abcd1234\n"
     ]
    }
   ],
   "source": [
    "check_barrier_not_down(\"lig-l500X-abcd1234\")"
   ]
  },
  {
   "cell_type": "code",
   "execution_count": 110,
   "metadata": {},
   "outputs": [
    {
     "name": "stdout",
     "output_type": "stream",
     "text": [
      "ENCORE UN MSG D'ERREUR : LA BARRIERE bar-c100x-abcd1234 EST TRES LONGUE\n"
     ]
    }
   ],
   "source": [
    "barrier_islong(\"bar-c100x-abcd1234\")"
   ]
  },
  {
   "cell_type": "code",
   "execution_count": 10,
   "metadata": {},
   "outputs": [],
   "source": [
    "for barrier in sensors.keys():\n",
    "    sensors[barrier][\"cur\"]= Barrier(device_name=barrier)\n",
    "    sensors[barrier][\"prev\"]= Barrier(device_name=barrier)\n",
    "    for light in sensors[barrier][\"associated_light\"]:\n",
    "        sensors[barrier][\"associated_light\"][light]= Light(device_name=light)\n",
    "    for bell in sensors[barrier]['associated_bell']:\n",
    "        sensors[barrier]['associated_bell'][bell]= Bell(device_name=bell)\n",
    "    "
   ]
  },
  {
   "cell_type": "code",
   "execution_count": 58,
   "metadata": {},
   "outputs": [],
   "source": [
    "sensors[\"bar-c100x-abcd1234\"][\"cur\"].start_angle = 0\n",
    "sensors[\"bar-c100x-abcd1234\"][\"cur\"].end_angle = 89"
   ]
  },
  {
   "cell_type": "code",
   "execution_count": 54,
   "metadata": {},
   "outputs": [
    {
     "data": {
      "text/plain": [
       "{'cur': Barrier(device_name='bar-c100x-abcd1234', start_time=0, start_angle=1, end_time=0, end_angle=89, status='up'),\n",
       " 'prev': Barrier(device_name='bar-c100x-abcd1234', start_time=0, start_angle=0, end_time=0, end_angle=0, status='inactive'),\n",
       " 'associated_light': {'lig-l500X-abcd1234': Light(device_name='lig-l500X-abcd1234', start_time=0, end_time=0),\n",
       "  'lig-l500X-efgh2345': Light(device_name='lig-l500X-efgh2345', start_time=0, end_time=0)},\n",
       " 'associated_bell': {'bel-z200X-abcd1234': Bell(device_name='bel-z200X-abcd1234', start_time=0, end_time=0)}}"
      ]
     },
     "execution_count": 54,
     "metadata": {},
     "output_type": "execute_result"
    }
   ],
   "source": [
    "sensors[\"bar-c100x-abcd1234\"]"
   ]
  },
  {
   "cell_type": "code",
   "execution_count": 60,
   "metadata": {},
   "outputs": [
    {
     "data": {
      "text/plain": [
       "{'cur': Barrier(device_name='bar-c100x-abcd1234', start_time=0, start_angle=0, end_time=0, end_angle=89, status='irregular'),\n",
       " 'prev': Barrier(device_name='bar-c100x-abcd1234', start_time=0, start_angle=0, end_time=0, end_angle=0, status='inactive'),\n",
       " 'associated_light': {'lig-l500X-abcd1234': Light(device_name='lig-l500X-abcd1234', start_time=0, end_time=0),\n",
       "  'lig-l500X-efgh2345': Light(device_name='lig-l500X-efgh2345', start_time=0, end_time=0)},\n",
       " 'associated_bell': {'bel-z200X-abcd1234': Bell(device_name='bel-z200X-abcd1234', start_time=0, end_time=0)}}"
      ]
     },
     "execution_count": 60,
     "metadata": {},
     "output_type": "execute_result"
    }
   ],
   "source": [
    "update_barrier_status(sensors[\"bar-c100x-abcd1234\"][\"cur\"])\n",
    "sensors[\"bar-c100x-abcd1234\"]"
   ]
  },
  {
   "cell_type": "code",
   "execution_count": null,
   "metadata": {},
   "outputs": [],
   "source": []
  },
  {
   "cell_type": "code",
   "execution_count": 95,
   "metadata": {},
   "outputs": [],
   "source": [
    "def update_db(sensors):\n",
    "    global new_data\n",
    "    if new_data:\n",
    "        for i in new_data[0]:\n",
    "            id =i['GENERIC_DATA'][0]['device_name'] \n",
    "            \n",
    "            if id.startswith(\"bar\"):\n",
    "                barrier_pre = sensors[id].get(\"prev\")\n",
    "                barrier_cur = sensors[id].get(\"cur\")\n",
    "                barrier_pre.update_barrier(barrier_cur.__dict__)\n",
    "                barrier_cur.update_barrier(i['GENERIC_DATA'][0])\n",
    "                \n",
    "            if id.startswith(\"bel\"):\n",
    "                for barrier in sensors :\n",
    "                    bell= sensors[barrier][\"associated_bell\"].get(id)\n",
    "                    try :\n",
    "                        bell= sensors[barrier][\"associated_bell\"].get(id)\n",
    "                        bell.update_bell(i['GENERIC_DATA'][0])\n",
    "                    except :\n",
    "                        sensors[barrier][\"associated_bell\"].get(id) == None\n",
    "                    \n",
    "            if id.startswith(\"lig\"):\n",
    "                for barrier in sensors:\n",
    "                    try :\n",
    "                        light = sensors[barrier][\"associated_light\"].get(id)\n",
    "                        light.update_light(i['GENERIC_DATA'][0])\n",
    "                    except :\n",
    "                        sensors[barrier][\"associated_light\"].get(id) == None"
   ]
  },
  {
   "cell_type": "code",
   "execution_count": 96,
   "metadata": {},
   "outputs": [],
   "source": [
    "test_bell =[\n",
    "{\n",
    "\"GENERIC_DATA\": [\n",
    "{\n",
    "\"device_name\": \"bel-z200X-mnop4567\",\n",
    "\"start_time\": 111111111,\n",
    "\"end_time\": 2222222222\n",
    "}\n",
    "]\n",
    "}\n",
    "]"
   ]
  },
  {
   "cell_type": "code",
   "execution_count": 97,
   "metadata": {},
   "outputs": [],
   "source": [
    "update_db(sensors, test_bell)"
   ]
  },
  {
   "cell_type": "code",
   "execution_count": 98,
   "metadata": {},
   "outputs": [
    {
     "data": {
      "text/plain": [
       "{'bar-c100x-abcd1234': {'cur': Barrier(device_name='bar-c100x-abcd1234', start_time=0, start_angle=0, end_time=0, end_angle=0, status='inactive'),\n",
       "  'prev': Barrier(device_name='bar-c100x-abcd1234', start_time=0, start_angle=0, end_time=0, end_angle=0, status='inactive'),\n",
       "  'associated_light': {'lig-l500X-abcd1234': Light(device_name='lig-l500X-abcd1234', start_time=0, end_time=0),\n",
       "   'lig-l500X-efgh2345': Light(device_name='lig-l500X-efgh2345', start_time=0, end_time=0)},\n",
       "  'associated_bell': {'bel-z200X-abcd1234': Bell(device_name='bel-z200X-abcd1234', start_time=0, end_time=0)}},\n",
       " 'bar-c100x-efgh2345': {'cur': Barrier(device_name='bar-c100x-efgh2345', start_time=0, start_angle=0, end_time=0, end_angle=0, status='inactive'),\n",
       "  'prev': Barrier(device_name='bar-c100x-efgh2345', start_time=0, start_angle=0, end_time=0, end_angle=0, status='inactive'),\n",
       "  'associated_light': {'lig-l500X-ijkl3456': Light(device_name='lig-l500X-ijkl3456', start_time=0, end_time=0),\n",
       "   'lig-l500X-mnop4567': Light(device_name='lig-l500X-mnop4567', start_time=0, end_time=0)},\n",
       "  'associated_bell': {'bel-z200X-efgh2345': Bell(device_name='bel-z200X-efgh2345', start_time=0, end_time=0)}},\n",
       " 'bar-c100x-ijkl3456': {'cur': Barrier(device_name='bar-c100x-ijkl3456', start_time=0, start_angle=0, end_time=0, end_angle=0, status='inactive'),\n",
       "  'prev': Barrier(device_name='bar-c100x-ijkl3456', start_time=0, start_angle=0, end_time=0, end_angle=0, status='inactive'),\n",
       "  'associated_light': {'lig-l500X-qrst5678': Light(device_name='lig-l500X-qrst5678', start_time=0, end_time=0),\n",
       "   'lig-l500X-uvwx6789': Light(device_name='lig-l500X-uvwx6789', start_time=0, end_time=0),\n",
       "   'lig-l500X-yzab7890': Light(device_name='lig-l500X-yzab7890', start_time=0, end_time=0)},\n",
       "  'associated_bell': {'bel-z200X-ijkl3456': Bell(device_name='bel-z200X-ijkl3456', start_time=0, end_time=0)}},\n",
       " 'bar-c100x-mnop4567': {'cur': Barrier(device_name='bar-c100x-mnop4567', start_time=0, start_angle=0, end_time=0, end_angle=0, status='inactive'),\n",
       "  'prev': Barrier(device_name='bar-c100x-mnop4567', start_time=0, start_angle=0, end_time=0, end_angle=0, status='inactive'),\n",
       "  'associated_light': {'lig-l500X-cdef8901': Light(device_name='lig-l500X-cdef8901', start_time=0, end_time=0),\n",
       "   'lig-l500X-ghij9012': Light(device_name='lig-l500X-ghij9012', start_time=0, end_time=0),\n",
       "   'lig-l500X-klmn0123': Light(device_name='lig-l500X-klmn0123', start_time=0, end_time=0)},\n",
       "  'associated_bell': {'bel-z200X-mnop4567': Bell(device_name='bel-z200X-mnop4567', start_time=111111111, end_time=2222222222)}}}"
      ]
     },
     "execution_count": 98,
     "metadata": {},
     "output_type": "execute_result"
    }
   ],
   "source": [
    "sensors"
   ]
  },
  {
   "cell_type": "code",
   "execution_count": 99,
   "metadata": {},
   "outputs": [],
   "source": [
    "new_data_bell = [\n",
    "{\n",
    "\"GENERIC_DATA\": [\n",
    "{\n",
    "\"device_name\": \"bel-z200X-abcd1234\",\n",
    "\"start_time\": 111111111,\n",
    "\"end_time\" : 33333333333\n",
    "}\n",
    "]\n",
    "}],\n",
    "\n",
    "[{\n",
    "\"GENERIC_DATA\": [\n",
    "{\n",
    "\"device_name\": \"bel-z200X-abcd1234\",\n",
    "\"start_time\": 2222222222,\n",
    "\"end_time\" : 5555555555\n",
    "}\n",
    "]\n",
    "}\n",
    "]"
   ]
  },
  {
   "cell_type": "code",
   "execution_count": null,
   "metadata": {},
   "outputs": [],
   "source": [
    "new_data_barrier = [\n",
    "{\n",
    "\"GENERIC_DATA\": [\n",
    "{\n",
    "\"device_name\": \"bar-c100x-abcd1234\",\n",
    "\"start_time\": 2222222,\n",
    "\"end_time\" : 33444444,\n",
    "\"end_angle\": 90,\n",
    "\"start_angle\" : 0\n",
    "}\n",
    "]\n",
    "}\n",
    "],\n",
    "\n",
    "[\n",
    "{\n",
    "\"GENERIC_DATA\": [\n",
    "{\n",
    "\"device_name\": \"bar-c100x-abcd1234\",\n",
    "\"start_time\": 123456789,\n",
    "\"end_time\" : 987654321,\n",
    "\"end_angle\": 0,\n",
    "\"start_angle\" : 90\n",
    "}\n",
    "]\n",
    "}\n",
    "]"
   ]
  },
  {
   "cell_type": "code",
   "execution_count": null,
   "metadata": {},
   "outputs": [],
   "source": [
    "new_data_light = [\n",
    "{\n",
    "\"GENERIC_DATA\": [\n",
    "{\n",
    "\"device_name\": \"lig-l500X-efgh2345\",\n",
    "\"start_time\": 111111111,\n",
    "\"end_time\" : 33333333333\n",
    "}\n",
    "]\n",
    "}],\n",
    "\n",
    "[{\n",
    "\"GENERIC_DATA\": [\n",
    "{\n",
    "\"device_name\": \"lig-l500X-abcd1234\",\n",
    "\"start_time\": 2222222222,\n",
    "\"end_time\" : 5555555555\n",
    "}\n",
    "]\n",
    "}\n",
    "]"
   ]
  },
  {
   "cell_type": "code",
   "execution_count": 117,
   "metadata": {},
   "outputs": [],
   "source": [
    "new_whole_data =[[\n",
    "    {\n",
    "    \"GENERIC_DATA\": [\n",
    "                            {\n",
    "                            \"device_name\": \"lig-l500X-abcd1234\",\n",
    "                            \"start_time\": 1,\n",
    "                            \"end_time\" : 3\n",
    "                            }\n",
    "                    ]\n",
    "    },\n",
    "    {\n",
    "    \"GENERIC_DATA\": [\n",
    "                            {\n",
    "                            \"device_name\": \"bar-c100x-abcd1234\",\n",
    "                            \"start_time\": 111111111,\n",
    "                            \"end_time\" : 55555555555,\n",
    "                            \"end_angle\": 0,\n",
    "                            \"start_angle\" : 90\n",
    "                            }\n",
    "                    ]\n",
    "    }               \n",
    "]]"
   ]
  },
  {
   "cell_type": "code",
   "execution_count": 122,
   "metadata": {},
   "outputs": [
    {
     "data": {
      "text/plain": [
       "[[{'GENERIC_DATA': [{'device_name': 'lig-l500X-abcd1234',\n",
       "     'start_time': 1,\n",
       "     'end_time': 3}]},\n",
       "  {'GENERIC_DATA': [{'device_name': 'bar-c100x-abcd1234',\n",
       "     'start_time': 111111111,\n",
       "     'end_time': 55555555555,\n",
       "     'end_angle': 0,\n",
       "     'start_angle': 90}]}]]"
      ]
     },
     "execution_count": 122,
     "metadata": {},
     "output_type": "execute_result"
    }
   ],
   "source": [
    "new_whole_data"
   ]
  },
  {
   "cell_type": "code",
   "execution_count": 125,
   "metadata": {},
   "outputs": [
    {
     "name": "stdout",
     "output_type": "stream",
     "text": [
      "lig-l500X-abcd1234\n",
      "bar-c100x-abcd1234\n"
     ]
    }
   ],
   "source": [
    "for i in new_whole_data[0]:\n",
    "    id =i['GENERIC_DATA'][0]['device_name']\n",
    "    print(id)"
   ]
  },
  {
   "cell_type": "code",
   "execution_count": 221,
   "metadata": {},
   "outputs": [],
   "source": [
    "# Instancie la db et les capteurs\n",
    "db_size = 0\n",
    "db_get_list = []\n",
    "captors = instanciate_captors()"
   ]
  },
  {
   "cell_type": "code",
   "execution_count": 235,
   "metadata": {},
   "outputs": [],
   "source": [
    "# Regular task checking for new data\n",
    "serv_size = get_serv_size()\n",
    "check_serv_status(db_size)\n",
    "db_get_cur = []\n",
    "# Checking new_data and saving them in log and db for use cases\n",
    "if check_serv_status(db_size) :\n",
    "    add_log_entry(get_data()[db_size:])\n",
    "    db_get_list.append(get_data())\n",
    "    db_get_cur.append(get_data()[db_size:])\n",
    "db_size = serv_size"
   ]
  },
  {
   "attachments": {},
   "cell_type": "markdown",
   "metadata": {},
   "source": [
    "# TEST POUR LOAD/SAVE JSON"
   ]
  },
  {
   "cell_type": "code",
   "execution_count": 156,
   "metadata": {},
   "outputs": [],
   "source": [
    "with open(\"json_test.json\",\"w\") as f:\n",
    "   f.write(\"Coucou les amis !\") \n",
    "f.close()"
   ]
  },
  {
   "cell_type": "code",
   "execution_count": 1,
   "metadata": {},
   "outputs": [],
   "source": [
    "json_test = {\n",
    "        \"barrier1\": [\n",
    "            {\n",
    "            \"device_name\": \"stu-c100x-abcd1234\",\n",
    "            \"start_time\": 1678123467,\n",
    "            \"start_angle\": 83.0,\n",
    "            \"end_time\": 1678123482,\n",
    "            \"end_angle\": 1.3\n",
    "            }\n",
    "        ]\n",
    "    }\n"
   ]
  },
  {
   "cell_type": "code",
   "execution_count": 7,
   "metadata": {},
   "outputs": [],
   "source": [
    "save_file = open(\"saved_json\", \"w\")\n",
    "json.dump(json_test, save_file, indent= 6)\n",
    "save_file.close()"
   ]
  },
  {
   "attachments": {},
   "cell_type": "markdown",
   "metadata": {},
   "source": [
    "# CREATION DES DICTIONNAIRES PAR TYPE DE CAPTEUR"
   ]
  },
  {
   "attachments": {},
   "cell_type": "markdown",
   "metadata": {},
   "source": [
    "# Reliquats code précédent"
   ]
  },
  {
   "cell_type": "code",
   "execution_count": null,
   "metadata": {},
   "outputs": [
    {
     "data": {
      "text/plain": [
       "[[{'GENERIC_DATA': [{'device_name': 'bar-c100x-efgh2345',\n",
       "     'start_time': 1678123300,\n",
       "     'end_time': 1678123400,\n",
       "     'start_angle': 90,\n",
       "     'end_angle': 0}]}],\n",
       " [{'GENERIC_DATA': [{'device_name': 'bar-c100x-efgh2345',\n",
       "     'start_time': 1678123300,\n",
       "     'end_time': 1678123400,\n",
       "     'start_angle': 90,\n",
       "     'end_angle': 0}]},\n",
       "  {'GENERIC_DATA': [{'device_name': 'bar-c100x-efgh2345',\n",
       "     'start_time': 1678123415,\n",
       "     'end_time': 1678123515,\n",
       "     'start_angle': 0,\n",
       "     'end_angle': 90}]}]]"
      ]
     },
     "metadata": {},
     "output_type": "display_data"
    }
   ],
   "source": [
    "db_get_list"
   ]
  },
  {
   "cell_type": "code",
   "execution_count": null,
   "metadata": {},
   "outputs": [],
   "source": [
    "db_get_cur =   [[{'GENERIC_DATA': [{'device_name': 'bar-c100x-efgh2345',\n",
    "     'start_time': 1678123415,\n",
    "     'end_time': 1678123515,\n",
    "     'start_angle': 0,\n",
    "     'end_angle': 90}]}]]"
   ]
  },
  {
   "cell_type": "code",
   "execution_count": null,
   "metadata": {},
   "outputs": [
    {
     "data": {
      "text/plain": [
       "{'bar-c100x-abcd1234_cur': Barrier(device_name='bar-c100x-abcd1234', start_time=0, start_angle=0, end_time=0, end_angle=0, status='inactive'),\n",
       " 'bar-c100x-abcd1234_pre': Barrier(device_name='bar-c100x-abcd1234', start_time=0, start_angle=0, end_time=0, end_angle=0, status='inactive'),\n",
       " 'bar-c100x-efgh2345_cur': Barrier(device_name='bar-c100x-efgh2345', start_time=1678123415, start_angle=0, end_time=1678123515, end_angle=90, status='inactive'),\n",
       " 'bar-c100x-efgh2345_pre': Barrier(device_name='bar-c100x-efgh2345', start_time=1678123300, start_angle=90, end_time=1678123400, end_angle=0, status='inactive'),\n",
       " 'bar-c100x-ijkl3456_cur': Barrier(device_name='bar-c100x-ijkl3456', start_time=0, start_angle=0, end_time=0, end_angle=0, status='inactive'),\n",
       " 'bar-c100x-ijkl3456_pre': Barrier(device_name='bar-c100x-ijkl3456', start_time=0, start_angle=0, end_time=0, end_angle=0, status='inactive'),\n",
       " 'bar-c100x-mnop4567_cur': Barrier(device_name='bar-c100x-mnop4567', start_time=0, start_angle=0, end_time=0, end_angle=0, status='inactive'),\n",
       " 'bar-c100x-mnop4567_pre': Barrier(device_name='bar-c100x-mnop4567', start_time=0, start_angle=0, end_time=0, end_angle=0, status='inactive')}"
      ]
     },
     "metadata": {},
     "output_type": "display_data"
    }
   ],
   "source": [
    "captors['captor_list']['barriers']"
   ]
  },
  {
   "cell_type": "code",
   "execution_count": null,
   "metadata": {},
   "outputs": [],
   "source": [
    "captor_dict = {\"captor_list\" : {\"barrier_list\" : \n",
    "    [\"bar-c100x-abcd1234\", \"bar-c100x-efgh2345\", \"bar-c100x-ijkl3456\", \"bar-c100x-mnop4567\"],\n",
    "\"bell_list\" : \n",
    "    [\"bel-z200X-abcd1234\", \"bel-z200X-efgh2345\", \"bel-z200X-ijkl3456\", \"bel-z200X-mnop4567\"],\n",
    "\"light_list\" : [\"lig-l500X-abcd1234\", \"lig-l500X-efgh2345\", \"lig-l500X-ijkl3456\", \"lig-l500X-mnop4567\",\n",
    "    \"lig-l500X-qrst5678\", \"lig-l500X-uvwx6789\", \"lig-l500X-yzab7890\", \"lig-l500X-cdef8901\"],\n",
    "\"single_lights\": [\"lig-l500X-ghij9012\", \"lig-l500X-klmn0123\"]}}\n",
    "\n"
   ]
  },
  {
   "cell_type": "code",
   "execution_count": null,
   "metadata": {},
   "outputs": [],
   "source": [
    "json_file = open(\"../log.json\", \"r\")\n",
    "data = json.load(json_file)\n",
    "json_file.close()\n",
    "data.update(second_test)\n",
    "file = open(\"../log.json\",\"w\")\n",
    "json.dump(data,file, indent=6)\n",
    "file.close()\n"
   ]
  },
  {
   "cell_type": "code",
   "execution_count": null,
   "metadata": {},
   "outputs": [],
   "source": [
    "\n",
    "for i in fused_data:\n",
    "    if i[0] == \"1\":\n",
    "        for j in range(1,3):\n",
    "            if i[3] == \"True\":\n",
    "                bar_dict[f\"barrier {j}\"][i[1]] = [{\n",
    "                    \"device_name\": \"stu-c100x-abcd1234\",\n",
    "                    \"start_time\": i[2]+8,\n",
    "                    \"start_angle\": 90.0 + uniform(-5, 5),\n",
    "                    \"end_time\": i[2]+12,\n",
    "                    \"end_angle\": 0.0 + uniform(-5,5)\n",
    "                    }]\n",
    "                bar_dict[f\"barrier {j}\"][i[1]].append({\n",
    "                    \"device_name\": \"stu-c100x-abcd1234\",\n",
    "                    \"start_time\": i[2]+65,\n",
    "                    \"start_angle\": 0.0,\n",
    "                    \"end_time\": i[2] +77,\n",
    "                    \"end_angle\": 90.0\n",
    "                    })\n",
    "            else :\n",
    "                bar_dict[f\"barrier {j}\"][i[1]] = [{\n",
    "                    \"device_name\": \"stu-c100x-abcd1234\",\n",
    "                    \"start_time\": i[2]+8,\n",
    "                    \"start_angle\": 90.0,\n",
    "                    \"end_time\": i[2]+12,\n",
    "                    \"end_angle\": 0.0\n",
    "                    }]\n",
    "                bar_dict[f\"barrier {j}\"][i[1]].append({\n",
    "                    \"device_name\": \"stu-c100x-abcd1234\",\n",
    "                    \"start_time\": i[2]+65,\n",
    "                    \"start_angle\": 0.0,\n",
    "                    \"end_time\": i[2] +77,\n",
    "                    \"end_angle\": 90.0\n",
    "                    })\n",
    "    elif i[0] == \"2\" :\n",
    "        for j in range(3,5):\n",
    "            if i[3] == \"True\":\n",
    "                bar_dict[f\"barrier {j}\"][i[1]] = [{\n",
    "                    \"device_name\": \"stu-c100x-abcd1234\",\n",
    "                    \"start_time\": i[2]+8,\n",
    "                    \"start_angle\": 90.0 + uniform(-5, 5),\n",
    "                    \"end_time\": i[2]+12,\n",
    "                    \"end_angle\": 0.0 + uniform(-5,5)\n",
    "                    }]\n",
    "                bar_dict[f\"barrier {j}\"][i[1]].append({\n",
    "                    \"device_name\": \"stu-c100x-abcd1234\",\n",
    "                    \"start_time\": i[2]+65,\n",
    "                    \"start_angle\": 0.0,\n",
    "                    \"end_time\": i[2] +77,\n",
    "                    \"end_angle\": 90.0\n",
    "                    })\n",
    "            bar_dict[f\"barrier {j}\"][i[1]] = [{\n",
    "                    \"device_name\": \"stu-c100x-abcd1234\",\n",
    "                    \"start_time\": i[2]+8,\n",
    "                    \"start_angle\": 90.0,\n",
    "                    \"end_time\": i[2]+12,\n",
    "                    \"end_angle\": 0.0\n",
    "                    }]\n",
    "            bar_dict[f\"barrier {j}\"][i[1]].append({\n",
    "                \"device_name\": \"stu-c100x-abcd1234\",\n",
    "                \"start_time\": i[2]+65,\n",
    "                \"start_angle\": 0.0,\n",
    "                \"end_time\": i[2] +77,\n",
    "                \"end_angle\": 90.0\n",
    "                })\n",
    "            \n",
    "            \n",
    "save_file = open(\"data_post/barriers.json\", \"w\")\n",
    "json.dump(bar_dict, save_file, indent= 6)\n",
    "save_file.close()\n"
   ]
  },
  {
   "cell_type": "code",
   "execution_count": null,
   "metadata": {},
   "outputs": [],
   "source": [
    "# structure type JSON\n",
    "\n",
    "[\n",
    "    {\n",
    "        \"barrier1\": [\n",
    "            {\n",
    "            \"device_name\": \"stu-c100x-abcd1234\",\n",
    "            \"start_time\": 1678123467,\n",
    "            \"start_angle\": 83.0,\n",
    "            \"end_time\": 1678123482,\n",
    "            \"end_angle\": 1.3\n",
    "            }\n",
    "        ]\n",
    "    },\n",
    "    \n",
    "    {\n",
    "        \"bell1\": [\n",
    "            {\n",
    "            \"device_name\": \"stu-c100x-abcd1234\",\n",
    "            \"start_time\": 1678123467,\n",
    "            \"start_angle\": 83.0,\n",
    "            \"end_time\": 1678123482,\n",
    "            \"end_angle\": 1.3\n",
    "            }\n",
    "        ]\n",
    "    },\n",
    "    \n",
    "    {\n",
    "        \"light1\": [\n",
    "            {\n",
    "            \"device_name\": \"stu-c100x-abcd1234\",\n",
    "            \"start_time\": 1678123467,\n",
    "            \"start_angle\": 83.0,\n",
    "            \"end_time\": 1678123482,\n",
    "            \"end_angle\": 1.3\n",
    "            }\n",
    "        ]\n",
    "    },\n",
    "    {\n",
    "        \"light2\": [\n",
    "            {\n",
    "            \"device_name\": \"stu-c100x-abcd1234\",\n",
    "            \"start_time\": 1678123467,\n",
    "            \"start_angle\": 83.0,\n",
    "            \"end_time\": 1678123482,\n",
    "            \"end_angle\": 1.3\n",
    "            }\n",
    "        ]\n",
    "    }\n",
    "]"
   ]
  },
  {
   "cell_type": "code",
   "execution_count": 169,
   "metadata": {},
   "outputs": [],
   "source": [
    "# structure finale JSON PN\n",
    "\n",
    "json_type= [\n",
    "    \n",
    "    {\"barriers\": \n",
    "                {\"barrier1\": \n",
    "                    {},\n",
    "                \"barrier2\" : {},\n",
    "                \"barrier3\": {},\n",
    "                \"barrier4\": {}\n",
    "                }\n",
    "            },\n",
    "    \n",
    "    {\"bells\": \n",
    "            {\"bell1\":\n",
    "            {\"device_name\": \"stu-c100x-abcd1234\",\"start_time\": 1678123467,\"end_time\": 1678123482},\n",
    "            \"bell2\": {}\n",
    "            }\n",
    "            },\n",
    "    \n",
    "    {\"lights\": \n",
    "            {\"device_name\": \"stu-c100x-abcd1234\",\"channel\": 1,\"start_time\": 1678123467,\"end_time\": 1678123482,\n",
    "            }}\n",
    "]"
   ]
  },
  {
   "cell_type": "code",
   "execution_count": null,
   "metadata": {},
   "outputs": [],
   "source": [
    "\n",
    "train_list = [\"881235\",\"2256\", \"881766\", \"880447\", \"881235\", \"2389\",\\\n",
    "    \"882559\", \"881766\", \"880447\", \"1759\", \"97653\", \"2357\", \"883496\", \"875963\",\\\n",
    "        \"882559\", \"1356\", \"5562\", \"881236\", \"880465\", \"5573\"]\n",
    "timestamp_list = [1683012695, 1683015972, 1683016276, 1683017804, 1683022304, 1683026642, 1683027371, 1683027911,\\\n",
    "    1683029116, 1683030616, 1683032248, 1683033193, 1683036116, 1683036683, 1683039646, 1683041565, 1683043426,\\\n",
    "        1683045201, 1683047636,1683048370]\n",
    "pn_list = [str(ele) for ele in [1,2,1,1,2,1,1,2,2,1,1,2,1,1,2,1,2,1,2,1]]\n",
    "problem_list = [str(ele).replace(\"0\",\"False\").replace(\"1\",\"True\") for ele in [0,0,0,1,0,0,0,0,1,0,1,0,0,0,0,1,0,0,1,0]]\n",
    "\n",
    "fused_data = list(zip(pn_list, train_list, timestamp_list, problem_list))\n",
    "fused_data"
   ]
  },
  {
   "cell_type": "code",
   "execution_count": 219,
   "metadata": {},
   "outputs": [],
   "source": [
    "PN = [1,1,2,1,1,2,2,1,1,2,1,1,2,1,2,1,2,1]\n",
    "\n",
    "timestamps = [1683016276, 1683017804, 1683022304, 1683026642,\n",
    "              1683027371, 1683027911, 1683029116, 1683030616, 1683032248, \n",
    "              1683033193, 1683036116, 1683036683, 1683039646, 1683041565,\n",
    "              1683043426, 1683045201, 1683047636, 1683048370]"
   ]
  },
  {
   "cell_type": "code",
   "execution_count": 223,
   "metadata": {},
   "outputs": [
    {
     "data": {
      "text/plain": [
       "18"
      ]
     },
     "execution_count": 223,
     "metadata": {},
     "output_type": "execute_result"
    }
   ],
   "source": [
    "len(timestamps)"
   ]
  },
  {
   "cell_type": "code",
   "execution_count": 221,
   "metadata": {},
   "outputs": [],
   "source": [
    "whole_data = list(zip(PN,timestamps))"
   ]
  },
  {
   "cell_type": "code",
   "execution_count": 222,
   "metadata": {},
   "outputs": [
    {
     "data": {
      "text/plain": [
       "[(1, 1683016276),\n",
       " (1, 1683017804),\n",
       " (2, 1683022304),\n",
       " (1, 1683026642),\n",
       " (1, 1683027371),\n",
       " (2, 1683027911),\n",
       " (2, 1683029116),\n",
       " (1, 1683030616),\n",
       " (1, 1683032248),\n",
       " (2, 1683033193),\n",
       " (1, 1683036116),\n",
       " (1, 1683036683),\n",
       " (2, 1683039646),\n",
       " (1, 1683041565),\n",
       " (2, 1683043426),\n",
       " (1, 1683045201),\n",
       " (2, 1683047636),\n",
       " (1, 1683048370)]"
      ]
     },
     "execution_count": 222,
     "metadata": {},
     "output_type": "execute_result"
    }
   ],
   "source": [
    "whole_data"
   ]
  },
  {
   "cell_type": "code",
   "execution_count": 224,
   "metadata": {},
   "outputs": [],
   "source": [
    "def bell(num_bar : int, timestamp : int):\n",
    "    en_tete =\"\\nSONNERIES--------------------------------------------------------\\n\"\n",
    "    if num_bar ==1 :\n",
    "        return en_tete +\"\\n\"\\\n",
    "        +'[{\"GENERIC_DATA\": [\\n'+'{\"device_name\": \"bel-z200X-abcd1234\",\\n'+\\\n",
    "        f'\"start_time\": {timestamp},\\n'+f'\"end_time\": {timestamp+20}\\n'+'}]}]'+2*\"\\n\"+\\\n",
    "        '[{\"GENERIC_DATA\": [\\n'+'{\"device_name\": \"bel-z200X-efgh2345\",\\n'+\\\n",
    "        f'\"start_time\": {timestamp},\\n'+ f'\"end_time\": {timestamp+20}'+'}]}]'\n",
    "    elif num_bar == 2:\n",
    "        return en_tete +\"\\n\"+\\\n",
    "        '[{\"GENERIC_DATA\": [\\n'+ '{\"device_name\": \"bel-z200X-ijkl3456\",\\n' +\\\n",
    "        f'\"start_time\": {timestamp},\\n' +f'\"end_time\": {timestamp+20}\\n'+'}]}]'+2*\"\\n\" +\\\n",
    "        '[{\"GENERIC_DATA\": [\\n'+ '{\"device_name\": \"bel-z200X-mnop4567\",\\n'+\\\n",
    "        f'\"start_time\": {timestamp},\\n'+ f'\"end_time\": {timestamp+20}\\n'+'}]}]\\n'\n"
   ]
  },
  {
   "cell_type": "code",
   "execution_count": 225,
   "metadata": {},
   "outputs": [],
   "source": [
    "def light(num_bar : int, timestamp : int):\n",
    "    en_tete =\"\\nLUMIERES--------------------------------------------------------\\n\"\n",
    "    if num_bar ==1 :\n",
    "        return  en_tete +\"\\n\"\\\n",
    "        +'[{\"GENERIC_DATA\": [\\n'+ '{\"device_name\": \"lig-l500X-abcd1234\",\\n'+\\\n",
    "        f'\"start_time\": {timestamp},\\n'+f'\"end_time\": {timestamp+51}\\n'+'}]},'+\"\\n\"\\\n",
    "        +'{\"GENERIC_DATA\": [\\n'+'{\"device_name\": \"lig-l500X-efgh2345\",\\n'+\\\n",
    "        f'\"start_time\": {timestamp},\\n'+f'\"end_time\": {timestamp+51}'+'}]}]' +2*\"\\n\"+\\\n",
    "        '[{\"GENERIC_DATA\": [\\n'+'{\"device_name\": \"lig-l500X-ijkl3456\",\\n'+\\\n",
    "        f'\"start_time\": {timestamp},\\n'+f'\"end_time\": {timestamp+51}\\n'+'}]},'+\"\\n\"+\\\n",
    "        '{\"GENERIC_DATA\": [\\n'+'{\"device_name\": \"lig-l500X-mnop4567\",\\n'+\\\n",
    "        f'\"start_time\": {timestamp},\\n'+f'\"end_time\": {timestamp+51}'+'}]}]'\n",
    "    elif num_bar == 2:\n",
    "        return en_tete +\"\\n\"\\\n",
    "        +'[{\"GENERIC_DATA\": [\\n'+ '{\"device_name\": \"lig-l500X-qrst5678\",\\n'+\\\n",
    "        f'\"start_time\": {timestamp},\\n'+f'\"end_time\": {timestamp+51}\\n'+'}]},'+\"\\n\"\\\n",
    "        +'{\"GENERIC_DATA\": [\\n'+'{\"device_name\": \"lig-l500X-uvwx6789\",\\n'+\\\n",
    "        f'\"start_time\": {timestamp},\\n'+f'\"end_time\": {timestamp+51}'+'}]}]' +2*\"\\n\"+\\\n",
    "        '[{\"GENERIC_DATA\": [\\n'+'{\"device_name\": \"lig-l500X-cdef8901\",\\n'+\\\n",
    "        f'\"start_time\": {timestamp},\\n'+f'\"end_time\": {timestamp+51}\\n'+'}]},'+\"\\n\"+\\\n",
    "        '{\"GENERIC_DATA\": [\\n'+'{\"device_name\": \"lig-l500X-ghij9012\",\\n'+\\\n",
    "        f'\"start_time\": {timestamp},\\n'+f'\"end_time\": {timestamp+51}'+'}]}]\\n'    "
   ]
  },
  {
   "cell_type": "code",
   "execution_count": 232,
   "metadata": {},
   "outputs": [],
   "source": [
    "def barrier(num_bar : int, timestamp : int):\n",
    "    en_tete =\"\\nBARRIERES--------------------------------------------------------\\n\"\n",
    "    if num_bar ==1 :\n",
    "        return en_tete +\"\\n\"\\\n",
    "        +'[{\"GENERIC_DATA\": [\\n'+ '{\"device_name\": \"bar-c100x-abcd1234\",\\n'+\\\n",
    "        f'\"start_time\": {timestamp+8},\\n'+\"start_angle: 90.0\\n\"+\\\n",
    "        f'\"end_time\": {timestamp+63}\\n'+ \"end_angle: 0.0\" +'}]},'+\"\\n\"\\\n",
    "        +'{\"GENERIC_DATA\": [\\n'+ '{\"device_name\": \"bar-c100x-abcd1234\",\\n'+\\\n",
    "        f'\"start_time\": {timestamp+8},\\n'+\"start_angle: 0.0\\n\"+\\\n",
    "        f'\"end_time\": {timestamp+63}\\n'+ \"end_angle: 90.0\" +'}]}]'+2*\"\\n\"+\\\n",
    "        '[{\"GENERIC_DATA\": [\\n'+ '{\"device_name\": \"bar-c100x-efgh2345\",\\n'+\\\n",
    "        f'\"start_time\": {timestamp+8},\\n'+\"start_angle: 90.0\\n\"+\\\n",
    "        f'\"end_time\": {timestamp+63}\\n'+ \"end_angle: 0.0\" +'}]},'+\"\\n\"\\\n",
    "        +'{\"GENERIC_DATA\": [\\n'+ '{\"device_name\": \"bar-c100x-efgh2345\",\\n'+\\\n",
    "        f'\"start_time\": {timestamp+8},\\n'+\"start_angle: 0.0\\n\"+\\\n",
    "        f'\"end_time\": {timestamp+63}\\n'+ \"end_angle: 90.0\" +'}]}]'+\"\\n\"\n",
    "    elif num_bar == 2:\n",
    "        return en_tete +\"\\n\"\\\n",
    "        +'[{\"GENERIC_DATA\": [\\n'+ '{\"device_name\": \"bar-c100x-ijkl3456\",\\n'+\\\n",
    "        f'\"start_time\": {timestamp+8},\\n'+\"start_angle: 90.0\\n\"+\\\n",
    "        f'\"end_time\": {timestamp+63}\\n'+ \"end_angle: 0.0\" +'}]},'+\"\\n\"\\\n",
    "        +'{\"GENERIC_DATA\": [\\n'+ '{\"device_name\": \"bar-c100x-ijkl3456\",\\n'+\\\n",
    "        f'\"start_time\": {timestamp+8},\\n'+\"start_angle: 0.0\\n\"+\\\n",
    "        f'\"end_time\": {timestamp+63}\\n'+ \"end_angle: 90.0\" +'}]}]'+2*\"\\n\"+\\\n",
    "        '[{\"GENERIC_DATA\": [\\n'+ '{\"device_name\": \"bar-c100x-mnop4567\",\\n'+\\\n",
    "        f'\"start_time\": {timestamp+8},\\n'+\"start_angle: 90.0\\n\"+\\\n",
    "        f'\"end_time\": {timestamp+63}\\n'+ \"end_angle: 0.0\" +'}]},'\"\\n\"\\\n",
    "        +'{\"GENERIC_DATA\": [\\n'+ '{\"device_name\": \"bar-c100x-mnop4567\",\\n'+\\\n",
    "        f'\"start_time\": {timestamp+8},\\n'+\"start_angle: 0.0\\n\"+\\\n",
    "        f'\"end_time\": {timestamp+63}\\n'+ \"end_angle: 90.0\" +'}]}]'+\"\\n\""
   ]
  },
  {
   "cell_type": "code",
   "execution_count": 227,
   "metadata": {},
   "outputs": [],
   "source": [
    "def whole_doc(num, timestp):\n",
    "    return str(timestp) + \"\\n\"+ bell(num,timestp)+light(num,timestp)+barrier(num,timestp)"
   ]
  },
  {
   "cell_type": "code",
   "execution_count": 214,
   "metadata": {},
   "outputs": [],
   "source": [
    "numX,timestampX = whole_data[0][0],whole_data[0][1]\n",
    "texte_train = whole_doc(numX,timestampX)"
   ]
  },
  {
   "cell_type": "code",
   "execution_count": 236,
   "metadata": {},
   "outputs": [],
   "source": [
    "for txt_nb, value in enumerate(whole_data):\n",
    "    numX,timestampX = value[0],value[1]\n",
    "    texte_train = whole_doc(numX,timestampX) \n",
    "    \n",
    "    f = open(f\"data_post/train{txt_nb+3}.txt\", \"a\")\n",
    "    f.write(texte_train)\n",
    "    f.close()\n",
    "    "
   ]
  },
  {
   "attachments": {},
   "cell_type": "markdown",
   "metadata": {},
   "source": [
    "# Elastic search playground and datasets"
   ]
  },
  {
   "cell_type": "code",
   "execution_count": 8,
   "metadata": {},
   "outputs": [
    {
     "data": {
      "text/plain": [
       "{'name': 'e4c73a412b31',\n",
       " 'cluster_name': 'docker-cluster',\n",
       " 'cluster_uuid': 'v78KfIO-ST6DP9Hknj1UCg',\n",
       " 'version': {'number': '8.8.0',\n",
       "  'build_flavor': 'default',\n",
       "  'build_type': 'docker',\n",
       "  'build_hash': 'c01029875a091076ed42cdb3a41c10b1a9a5a20f',\n",
       "  'build_date': '2023-05-23T17:16:07.179039820Z',\n",
       "  'build_snapshot': False,\n",
       "  'lucene_version': '9.6.0',\n",
       "  'minimum_wire_compatibility_version': '7.17.0',\n",
       "  'minimum_index_compatibility_version': '7.0.0'},\n",
       " 'tagline': 'You Know, for Search'}"
      ]
     },
     "execution_count": 8,
     "metadata": {},
     "output_type": "execute_result"
    }
   ],
   "source": [
    "from elasticsearch import Elasticsearch\n",
    "import pandas as pd\n",
    "\n",
    "es = Elasticsearch(\"http://localhost:9200\")\n",
    "es.info().body"
   ]
  },
  {
   "cell_type": "code",
   "execution_count": 18,
   "metadata": {},
   "outputs": [],
   "source": [
    "df = (\n",
    "    pd.read_csv(\"../../data/wiki_movie_plots_deduped.csv\")\n",
    "    .dropna()\n",
    "    .sample(5000, random_state=42)\n",
    "    .reset_index()\n",
    ")"
   ]
  },
  {
   "cell_type": "code",
   "execution_count": 24,
   "metadata": {},
   "outputs": [
    {
     "data": {
      "text/html": [
       "<div>\n",
       "<style scoped>\n",
       "    .dataframe tbody tr th:only-of-type {\n",
       "        vertical-align: middle;\n",
       "    }\n",
       "\n",
       "    .dataframe tbody tr th {\n",
       "        vertical-align: top;\n",
       "    }\n",
       "\n",
       "    .dataframe thead th {\n",
       "        text-align: right;\n",
       "    }\n",
       "</style>\n",
       "<table border=\"1\" class=\"dataframe\">\n",
       "  <thead>\n",
       "    <tr style=\"text-align: right;\">\n",
       "      <th></th>\n",
       "      <th>index</th>\n",
       "      <th>Release Year</th>\n",
       "      <th>Title</th>\n",
       "      <th>Origin/Ethnicity</th>\n",
       "      <th>Director</th>\n",
       "      <th>Cast</th>\n",
       "      <th>Genre</th>\n",
       "      <th>Wiki Page</th>\n",
       "      <th>Plot</th>\n",
       "    </tr>\n",
       "  </thead>\n",
       "  <tbody>\n",
       "    <tr>\n",
       "      <th>0</th>\n",
       "      <td>10286</td>\n",
       "      <td>1984</td>\n",
       "      <td>Songwriter</td>\n",
       "      <td>American</td>\n",
       "      <td>Alan Rudolph</td>\n",
       "      <td>Willie Nelson, Kris Kristofferson, Melinda Dillon</td>\n",
       "      <td>drama</td>\n",
       "      <td>https://en.wikipedia.org/wiki/Songwriter_(1984...</td>\n",
       "      <td>The film concerns Doc Jenkins, (Willie Nelson)...</td>\n",
       "    </tr>\n",
       "    <tr>\n",
       "      <th>1</th>\n",
       "      <td>28335</td>\n",
       "      <td>2012</td>\n",
       "      <td>Da Thadiya (ഡാ തടിയാ)</td>\n",
       "      <td>Malayalam</td>\n",
       "      <td>Aashiq Abu</td>\n",
       "      <td>Shekhar Menon, Ann Augustine, Sreenath Bhasi, ...</td>\n",
       "      <td>romance, comedy</td>\n",
       "      <td>https://en.wikipedia.org/wiki/Da_Thadiya</td>\n",
       "      <td>The film tells the love story of an obese yout...</td>\n",
       "    </tr>\n",
       "    <tr>\n",
       "      <th>2</th>\n",
       "      <td>10742</td>\n",
       "      <td>1987</td>\n",
       "      <td>Ironweed</td>\n",
       "      <td>American</td>\n",
       "      <td>Héctor Babenco</td>\n",
       "      <td>Jack Nicholson, Meryl Streep, Tom Waits, Fred ...</td>\n",
       "      <td>drama</td>\n",
       "      <td>https://en.wikipedia.org/wiki/Ironweed_(film)</td>\n",
       "      <td>Francis Phelan (Jack Nicholson) is a washed-up...</td>\n",
       "    </tr>\n",
       "    <tr>\n",
       "      <th>3</th>\n",
       "      <td>28533</td>\n",
       "      <td>2015</td>\n",
       "      <td>Kaliyachan</td>\n",
       "      <td>Malayalam</td>\n",
       "      <td>Farooq Abdul Rahman</td>\n",
       "      <td>Manoj K Jayan, and Vaiga</td>\n",
       "      <td>drama</td>\n",
       "      <td>https://en.wikipedia.org/wiki/Kaliyachan</td>\n",
       "      <td>The film is about the Kathakali actor, Kunhira...</td>\n",
       "    </tr>\n",
       "    <tr>\n",
       "      <th>4</th>\n",
       "      <td>24808</td>\n",
       "      <td>1971</td>\n",
       "      <td>Kati Patang</td>\n",
       "      <td>Bollywood</td>\n",
       "      <td>Shakti Samanta</td>\n",
       "      <td>Rajesh Khanna, Asha Parekh</td>\n",
       "      <td>romance</td>\n",
       "      <td>https://en.wikipedia.org/wiki/Kati_Patang_(197...</td>\n",
       "      <td>Madhavi \"Madhu\" (Asha Parekh) is an orphan liv...</td>\n",
       "    </tr>\n",
       "  </tbody>\n",
       "</table>\n",
       "</div>"
      ],
      "text/plain": [
       "   index  Release Year                  Title Origin/Ethnicity   \n",
       "0  10286          1984             Songwriter         American  \\\n",
       "1  28335          2012  Da Thadiya (ഡാ തടിയാ)        Malayalam   \n",
       "2  10742          1987               Ironweed         American   \n",
       "3  28533          2015             Kaliyachan        Malayalam   \n",
       "4  24808          1971            Kati Patang        Bollywood   \n",
       "\n",
       "              Director                                               Cast   \n",
       "0         Alan Rudolph  Willie Nelson, Kris Kristofferson, Melinda Dillon  \\\n",
       "1           Aashiq Abu  Shekhar Menon, Ann Augustine, Sreenath Bhasi, ...   \n",
       "2       Héctor Babenco  Jack Nicholson, Meryl Streep, Tom Waits, Fred ...   \n",
       "3  Farooq Abdul Rahman                           Manoj K Jayan, and Vaiga   \n",
       "4       Shakti Samanta                         Rajesh Khanna, Asha Parekh   \n",
       "\n",
       "             Genre                                          Wiki Page   \n",
       "0            drama  https://en.wikipedia.org/wiki/Songwriter_(1984...  \\\n",
       "1  romance, comedy           https://en.wikipedia.org/wiki/Da_Thadiya   \n",
       "2            drama      https://en.wikipedia.org/wiki/Ironweed_(film)   \n",
       "3            drama           https://en.wikipedia.org/wiki/Kaliyachan   \n",
       "4          romance  https://en.wikipedia.org/wiki/Kati_Patang_(197...   \n",
       "\n",
       "                                                Plot  \n",
       "0  The film concerns Doc Jenkins, (Willie Nelson)...  \n",
       "1  The film tells the love story of an obese yout...  \n",
       "2  Francis Phelan (Jack Nicholson) is a washed-up...  \n",
       "3  The film is about the Kathakali actor, Kunhira...  \n",
       "4  Madhavi \"Madhu\" (Asha Parekh) is an orphan liv...  "
      ]
     },
     "execution_count": 24,
     "metadata": {},
     "output_type": "execute_result"
    }
   ],
   "source": [
    "df.head()"
   ]
  },
  {
   "cell_type": "code",
   "execution_count": 19,
   "metadata": {},
   "outputs": [],
   "source": [
    "mappings = {\n",
    "        \"properties\": {\n",
    "            \"title\": {\"type\": \"text\", \"analyzer\": \"english\"},\n",
    "            \"ethnicity\": {\"type\": \"text\", \"analyzer\": \"standard\"},\n",
    "            \"director\": {\"type\": \"text\", \"analyzer\": \"standard\"},\n",
    "            \"cast\": {\"type\": \"text\", \"analyzer\": \"standard\"},\n",
    "            \"genre\": {\"type\": \"text\", \"analyzer\": \"standard\"},\n",
    "            \"plot\": {\"type\": \"text\", \"analyzer\": \"english\"},\n",
    "            \"year\": {\"type\": \"integer\"},\n",
    "            \"wiki_page\": {\"type\": \"keyword\"}\n",
    "    }\n",
    "}"
   ]
  },
  {
   "cell_type": "code",
   "execution_count": 20,
   "metadata": {},
   "outputs": [
    {
     "data": {
      "text/plain": [
       "ObjectApiResponse({'acknowledged': True, 'shards_acknowledged': True, 'index': 'movies'})"
      ]
     },
     "execution_count": 20,
     "metadata": {},
     "output_type": "execute_result"
    }
   ],
   "source": [
    "es.indices.create(index=\"movies\", mappings=mappings)"
   ]
  },
  {
   "cell_type": "code",
   "execution_count": 25,
   "metadata": {},
   "outputs": [],
   "source": [
    "for i, row in df.iterrows():\n",
    "    doc = {\n",
    "        \"title\": row[\"Title\"],\n",
    "        \"ethnicity\": row[\"Origin/Ethnicity\"],\n",
    "        \"director\": row[\"Director\"],\n",
    "        \"cast\": row[\"Cast\"],\n",
    "        \"genre\": row[\"Genre\"],\n",
    "        \"plot\": row[\"Plot\"],\n",
    "        \"year\": row[\"Release Year\"],\n",
    "        \"wiki_page\": row[\"Wiki Page\"]\n",
    "    }\n",
    "            \n",
    "    es.index(index=\"movies\", id=i, document=doc)"
   ]
  },
  {
   "cell_type": "code",
   "execution_count": 27,
   "metadata": {},
   "outputs": [
    {
     "data": {
      "text/plain": [
       "ListApiResponse([{'epoch': '1685543548', 'timestamp': '14:32:28', 'count': '5000'}])"
      ]
     },
     "execution_count": 27,
     "metadata": {},
     "output_type": "execute_result"
    }
   ],
   "source": [
    "es.indices.refresh(index=\"movies\")\n",
    "es.cat.count(index=\"movies\", format=\"json\")"
   ]
  },
  {
   "cell_type": "code",
   "execution_count": 28,
   "metadata": {},
   "outputs": [
    {
     "data": {
      "text/plain": [
       "{'took': 1683,\n",
       " 'timed_out': False,\n",
       " '_shards': {'total': 1, 'successful': 1, 'skipped': 0, 'failed': 0},\n",
       " 'hits': {'total': {'value': 7, 'relation': 'eq'},\n",
       "  'max_score': 10.813516,\n",
       "  'hits': [{'_index': 'movies',\n",
       "    '_id': '461',\n",
       "    '_score': 10.813516,\n",
       "    '_source': {'title': 'The King of Marvin Gardens',\n",
       "     'ethnicity': 'American',\n",
       "     'director': 'Bob Rafelson',\n",
       "     'cast': 'Jack Nicholson, Ellen Burstyn, Bruce Dern',\n",
       "     'genre': 'drama',\n",
       "     'plot': \"David and Jason are estranged brothers, the former a depressive living with his grandfather in Philadelphia where he runs a late-night radio talk show and the latter an extrovert con man working for gang boss Lewis in Atlantic City, where he lives with the manic-depressive Sally, former beauty queen and prostitute, and her stepdaughter Jessica. Begging David to come to Atlantic City and bail him out of jail, Jason once freed persuades him to stay on in his hotel suite with the two women.\\r\\nTensions grow between the four as Jason pursues a ludicrous dream of conning a Japanese syndicate into buying a Hawaiian island where he will build and run a casino. The sceptical David has no faith in Jason's scam, while Jason chides David for wallowing in his dark, lonely depressed life. Sally, increasingly neurotic over losing her looks, cuts off her hair and throws away her cosmetics. When Jason starts packing to leave for Hawaii, in rage and despair she shoots him dead. David escorts his brother's corpse home to Philadelphia by train.\",\n",
       "     'year': 1972,\n",
       "     'wiki_page': 'https://en.wikipedia.org/wiki/The_King_of_Marvin_Gardens'}},\n",
       "   {'_index': 'movies',\n",
       "    '_id': '1022',\n",
       "    '_score': 10.813516,\n",
       "    '_source': {'title': 'The Fortune',\n",
       "     'ethnicity': 'American',\n",
       "     'director': 'Mike Nichols',\n",
       "     'cast': 'Warren Beatty, Jack Nicholson, Stockard Channing',\n",
       "     'genre': 'comedy',\n",
       "     'plot': 'Nicky Wilson (Beatty) and Oscar Sullivan (Nicholson) are inept 1920s scam artists in Northeastern United States who see pay dirt in the guise of Fredericka Quintessa \"Freddie\" Bigard (Stockard Channing), the millionaire heiress to a sanitary napkin fortune. She loves the already married Nicky, but because the Mann Act prohibits him from taking her across state lines and engaging in immoral relations, he proposes that she marry Oscar and then carry on an affair with the man she wants. Oscar, who is wanted for embezzlement and anxious to get out of town, is happy to comply with the plan, although he intends to claim his spousal privileges after they are wed.\\r\\nOnce they reach Los Angeles, the men try everything they can to separate Freddie from her inheritance without success, but with sufficient determination to arouse her suspicions. When she announces her plan to donate her money to charity, Nicky and Oscar conclude that murder might be their only recourse if they\\'re going to get rich quick. Eventually arrested for the murder, Nicky and Oscar confess everything to the L.A.P.D.. This leads to unusual complications when the arresting detective meets the very-alive Fredddie, who passed out and was oblivious to the entire \"murder\", and is shocked to hear the story.',\n",
       "     'year': 1975,\n",
       "     'wiki_page': 'https://en.wikipedia.org/wiki/The_Fortune'}},\n",
       "   {'_index': 'movies',\n",
       "    '_id': '3244',\n",
       "    '_score': 10.182162,\n",
       "    '_source': {'title': 'The Witches of Eastwick',\n",
       "     'ethnicity': 'American',\n",
       "     'director': 'George Miller',\n",
       "     'cast': 'Susan Sarandon, Cher, Michelle Pfeiffer, Jack Nicholson',\n",
       "     'genre': 'comedy',\n",
       "     'plot': 'Alexandra Medford (Cher), Jane Spofford (Susan Sarandon), and Sukie Ridgemont (Michelle Pfeiffer) are three dissatisfied women living in the picturesque town of Eastwick, Rhode Island. Alex is a sculptor and single mother of one daughter; Jane is a newly divorced music teacher unable to have children; while Sukie has six daughters and works as a columnist for the Eastwick Word, the local newspaper. The three friends all have lost their husbands (Alex\\'s died, Jane\\'s divorced her, and Sukie\\'s abandoned her). Unaware that they are witches, the women unwittingly form a coven where they have weekly get-togethers and share their fantasies about ideal men.\\r\\nA mysterious man (Jack Nicholson) arrives in town and stirs up trouble by buying the town\\'s landmark property: the Lennox Mansion. The arrival of this enigmatic stranger fascinates the townsfolk, all except for Felicia Alden (Veronica Cartwright), the devoutly religious wife of newspaper editor Clyde Alden (Richard Jenkins), Sukie\\'s boss. Felicia senses that this man (whose name is easily forgotten) is up to no good. One night, at one of Jane\\'s music recitals, the strange man appears and makes a spectacle of himself, which leads to more gossip. After the recital, Jane receives a bouquet of flowers with the initial D written on it. This sparks Sukie\\'s memory, finally revealing the man\\'s name as Daryl Van Horne. However, as chaos over the name spreads through the crowd, Sukie\\'s bead necklace inexplicably breaks and falls to the floor, causing Felicia (who had mocked Daryl\\'s name) to trip down a large staircase and break her leg.\\r\\nThe following day, Daryl sets out to seduce Alex. As he converses with her, he says insensitive, disgusting, and rude things every time he speaks. Appalled, she tells him off, refuses his amorous advances, and begins to walk out. Before she opens the door, he speaks to her, manipulating her emotions until she eventually agrees. The next morning, Daryl visits the shy and insecure Jane. As the two sit down and share polite conversation, Jane explains that the Lennox Mansion was built on a site where alleged witches were burned at the stake. Later that night, Daryl encourages Jane to play her cello with wild abandon, never before achieved, playing faster and faster while accompanied by Daryl on the piano, until finally the strings break, the cello bursts into flame, and Jane flings herself upon Daryl with passion. The following week, Daryl invites all three of the women to his mansion, his sights now on Sukie. Later, as envy and rivalry emerge among the women, they inadvertently levitate a tennis ball. Finally aware of their magical abilities, the women agree to share Daryl.\\r\\nAs the women spend more time at Daryl\\'s mansion, Felicia spreads rumors about their indecency. Alex, Jane, and Sukie become social outcasts. As the witches begin to question their loyalty to Daryl, he causes them to unknowingly cast a spell against Felicia. Later that night, while ranting to her husband about Daryl being the Devil, Felicia begins to vomit cherry stones. Horrified by her uncontrollable behavior, Clyde kills her with a fire poker.\\r\\nAfter Felicia\\'s death, the three women become fearful of their powers and agree to avoid each other and Daryl until the situation has quieted down. Upset by this abandonment, Daryl uses his own powers to bring their worst fears to life. Alex awakens to a bed full of snakes; Jane\\'s body begins rapidly aging; and Sukie experiences sudden, agonizing pain. Realizing the only way to get rid of Daryl is by using witchcraft against him, the women reunite with him, pretending to have made amends.\\r\\nThe next morning, Daryl sets out to buy bagels and ice cream, as per the request of the three women. While he is out of the mansion, Alex uses wax and Daryl\\'s hair to create a voodoo doll in his image and the three women begin to harm the doll, hoping that Daryl will leave as a result. As the spell takes effect, Daryl - still in town - is buffeted by a sudden wind and begins to feel excruciating pain (each event corresponding to something the doll undergoes). He runs inside a church to hide from the wind and finds it full of people praying. Realizing the source of his troubles, he begins ranting about the women, cursing them as a group before vomiting cherry pits like Felicia did. An enraged Daryl then races home to punish the witches for their betrayal. Realizing their plot to make Daryl leave was ineffective, they attempt to hide their spell and toss the voodoo doll into a fire just as he enters the mansion. Daryl vanishes as a result, but not before reverting to a large, monstrous form that attempts to shake the mansion apart.\\r\\nEighteen months later, the women are living together in Daryl\\'s mansion, each with a new baby son (each boy shares his mother\\'s hair color). The boys are playing together when Daryl appears on a wall filled with video screens and invites them to \"give Daddy a kiss.\" Before they can do so, Alex, Jane, and Sukie appear and switch off the televisions.',\n",
       "     'year': 1987,\n",
       "     'wiki_page': 'https://en.wikipedia.org/wiki/The_Witches_of_Eastwick_(film)'}},\n",
       "   {'_index': 'movies',\n",
       "    '_id': '541',\n",
       "    '_score': 7.8813686,\n",
       "    '_source': {'title': \"Something's Gotta Give\",\n",
       "     'ethnicity': 'American',\n",
       "     'director': 'Nancy Meyers',\n",
       "     'cast': 'Jack Nicholson, Diane Keaton, Keanu Reeves, Amanda Peet, Frances McDormand, Jon Favreau',\n",
       "     'genre': 'romantic comedy',\n",
       "     'plot': 'Harry Sanborn is a wealthy New York music mogul who has had a 40-year habit of dating women under 30, including his latest conquest, Marin Klein. The two drive to her mother\\'s Hamptons beach house expecting to be alone, but are surprised by Marin\\'s mother, successful playwright Erica Barry, who is there with her sister Zoe.\\r\\nAfter an awkward dinner, the night turns disastrous when — during foreplay with Marin — Harry has a heart attack and is rushed to a hospital. The doctor, Julian Mercer, tells Harry to stay nearby for a few days, so Harry ends up staying with Erica. Their personalities clash and make for awkward living arrangements—until they get to know each other. The fact that Harry is dating her daughter and that Julian has fallen for Erica leave the two struggling to deal with relationships.\\r\\nMarin and Harry agree to break up. He and Erica spend more time together and eventually consummate their relationship. Harry discovers that his improving health means that he no longer has to stay with Erica, so he heads home.\\r\\nMarin receives news that her father, Dave Klein, Erica\\'s ex-husband, whom Erica still allows to direct her plays, is getting remarried to Kristen, an ear, nose and throat doctor who is only two years older than Marin. Although Erica is unaffected by the news, Marin is devastated and pressures her mother into accompanying her to a family dinner. Erica is the life of the party until she sees Harry at another table with another woman. In the argument that follows, Harry suffers from what he believes is another heart attack, but he is told by the young ER physician, Dr. Martinez, who treats him like her father, that it was only a panic attack.\\r\\nAlthough she is heartbroken, Erica figures that these events would be great to use in a play. Harry hears about it and rushes to the NYC theater where it is being rehearsed. Despite her denials, it is quickly obvious that she has used the most personal details of their affair in the play. Erica coolly rebuffs his every insinuation that he cares about her and hints that his character will die in the play—for a laugh. He then has another panic attack and is again treated by Dr.\\xa0Martinez, who warns him that he needs to learn to \"decompress\".\\r\\nSix months pass. Erica\\'s play is a huge success. Harry pays Marin a visit to apologize for anything he ever did to hurt her. She replies that he was nothing but nice to her and happily tells him that she is pregnant and has a new husband. Harry expresses a desire to see Erica. Marin tells him that her mother is in Paris celebrating her birthday. Harry decides to surprise Erica. Remembering how they had once planned to spend their birthdays together there, he shows up at the Parisian restaurant where she is seated at a table. Harry explains that over the past six months he reached out to all of the women he ever had affairs with, and even though repeatedly rebuffed at first, finally broke through. They all had identical harsh stories that helped him learn how \"I arrived at being me.\" He tells Erica that his trip to find her was the last and the farthest. Julian appears. All along, Erica has been waiting at the restaurant for Julian, whom she is now dating.\\r\\nHarry and Erica get along well during the dinner, but they part outside the restaurant. While he is gazing in heartache over the river Seine, Erica pulls up in a taxi. She explains that Julian figured out what was happening between them and decided to step aside to let her be with Harry. Harry explains that his search the last six months has made him realize he truly loves Erica. Harry and Erica kiss.\\r\\nA year later, at a New York restaurant, Erica and Harry, now married, are out with Marin, her husband and her new baby daughter, as one big happy family.',\n",
       "     'year': 2003,\n",
       "     'wiki_page': 'https://en.wikipedia.org/wiki/Something%27s_Gotta_Give_(film)'}},\n",
       "   {'_index': 'movies',\n",
       "    '_id': '2',\n",
       "    '_score': 7.8813686,\n",
       "    '_source': {'title': 'Ironweed',\n",
       "     'ethnicity': 'American',\n",
       "     'director': 'Héctor Babenco',\n",
       "     'cast': \"Jack Nicholson, Meryl Streep, Tom Waits, Fred Gwynne; Michael O'Keefe, Carroll Baker\",\n",
       "     'genre': 'drama',\n",
       "     'plot': \"Francis Phelan (Jack Nicholson) is a washed-up baseball player who deserted his family back in the 1910s when he accidentally dropped his son and killed him. It is assumed in the film that he was drunk at the time until he later claims he was just tired and doesn't understand why no one will believe in his story. Since then, Phelan has been a bum, punishing himself. Wandering into his hometown of Albany on Halloween in 1938, Phelan seeks out his lover and drinking companion, Helen Archer (Meryl Streep). The two meet up in a mission managed by Reverend Chester (James Gammon), and later in Oscar Reo's (Fred Gwynne) gin mill.\\r\\nOver the next few days, Phelan takes a few minor jobs to support Helen, while haunted by visions of his past. Francis comes back to his old family house and tries to make peace with his wife Annie Phelan (Carroll Baker), his son Billy (Michael O'Keefe) and Peg (Diane Venora). Meanwhile, a group of local vigilantes take it upon themselves to drive the homeless out of Albany. During the course of the day, a series of events change Francis' life forever.\",\n",
       "     'year': 1987,\n",
       "     'wiki_page': 'https://en.wikipedia.org/wiki/Ironweed_(film)'}},\n",
       "   {'_index': 'movies',\n",
       "    '_id': '4909',\n",
       "    '_score': 6.6747694,\n",
       "    '_source': {'title': 'The Two Jakes',\n",
       "     'ethnicity': 'American',\n",
       "     'director': 'Jack Nicholson',\n",
       "     'cast': 'Jack Nicholson, Harvey Keitel, Meg Tilly, Madeleine Stowe, Eli Wallach, Ruben Blades, Perry Lopez, Richard Farnsworth',\n",
       "     'genre': 'crime drama',\n",
       "     'plot': 'In Los Angeles in 1948, Julius \"Jake\" Berman hires private investigator J. J. \"Jake\" Gittes to catch his wife, Kitty, in the act of committing adultery. During the sting, Berman kills his rival, who also happens to be his business partner in a real estate development company. Gittes, not having known this, suddenly finds himself under scrutiny for his role in the possible crime, all of which centers around a wire recording that captured the illicit love meeting, the confrontation, and the killing of Mark Bodine. It calls into question if Berman knew and killed his partner to wrest control of the partnership, making it murder, or was an act of jealousy, which may qualify as \"temporary insanity\" and be permitted as a defense to a charge of murder.\\r\\nGittes must convince LAPD captain Escobar that he should not be charged as an accomplice. Oddly, Berman seems unconcerned with the possibility that he may be accused of murder. Gittes has the recording, which Berman\\'s attorney, Cotton Weinberger, and mobster friend Mickey Nice, both want, locked in a safe in his office in L.A., which is being rocked by earthquakes. Berman\\'s housing development in the Valley also is experiencing seismic activities. Gittes is nearly killed in a gas explosion, waking to find Berman and wife, Kitty, standing over him.\\r\\nGittes has a confrontation, and later a sexual encounter, with Lilian Bodine, the dead man\\'s angry widow. He is presented with proof that Earl Rawley, a wealthy and ruthless oil man, may be drilling under the Bodine and Berman development, though Rawley has denied it. This leads to a need to determine who owns the mineral rights to the land. Gittes discovers that the rights are owned by one Katherine Mulwray, daughter of Evelyn Mulwray, his love interest from twelve years prior. He also discovers that the deed transfers were executed in such a way as to attempt to hide Katherine Mulwray\\'s prior ownership and continued claim of the mineral rights.\\r\\nGittes operatives have seen Berman in the company of a blond woman along with Mickey, and a bodyguard. With a bit of sleuthing Gittes determines that the woman is an oncologist and is treating Berman for cancer somewhere below the waist. Gittes confronts Berman with this knowledge and gets a full confession. Along the way, Gittes discovers that Berman is not going to survive and the entire set-up was to ensure that Kitty was protected once he died.\\r\\nIn order to get Kitty to talk to him, Gittes must prove that Berman set out to kill his partner. Once accomplished, Kitty agrees to meet Gittes and tell him what she knows about Berman. In the process of discussing Berman\\'s possible motivations, mineral rights, and the possible whereabouts of Katherine, it is revealed that Kitty and Katherine are the same person. Kitty had never suspected that her husband is dying.\\r\\nIn order to prove premeditation, passion, and perhaps even connections to a woman long missing, seemingly everyone wants the recording, which Gittes refuses to give up until the day of the inquest. Somehow, Gittes edits the recording, leaving Katherine\\'s name chopped out of the dialog, shooting, and aftermath of Lillian\\'s murder. This makes the inquest a short, satisfying meeting where the judge has no reason to suspect murder, and Berman is now free of criminal charges. Confronted with the knowledge Gittes has of his terminal illness, Berman, knowing the model house he is in is filled with natural gas, convinces Gittes and Mickey to leave him alone in the house so he can \"have a smoke.\" He doesn\\'t want an autopsy to interfere with Kitty\\'s inheritance. As they drive off, the house explodes.\\r\\nThe story ends with Kitty and Gittes in his office. They speak of regrets, and Kitty kisses Gittes, who rejects her advances, saying \"That\\'s your problem, kid. You don\\'t know who you\\'re kidding.\" She leaves, telling him to \"Think of me time to time\". Gittes tells her, \"It never goes away.\"',\n",
       "     'year': 1990,\n",
       "     'wiki_page': 'https://en.wikipedia.org/wiki/The_Two_Jakes'}},\n",
       "   {'_index': 'movies',\n",
       "    '_id': '904',\n",
       "    '_score': 5.1101036,\n",
       "    '_source': {'title': 'Mars Attacks!',\n",
       "     'ethnicity': 'American',\n",
       "     'director': 'Tim Burton',\n",
       "     'cast': 'Jack Nicholson, Glenn Close, Annette Bening, Pierce Brosnan, Danny DeVito, Jim Brown, Sarah Jessica Parker, Martin Short, Michael J. Fox, Lukas Haas, Natalie Portman',\n",
       "     'genre': 'science fiction comedy',\n",
       "     'plot': 'In Kentucky, a family watches in confusion as a herd of cattle starts running past their home, on fire. A spaceship explodes before it returns to Mars, and hundreds of other Martian ships leave Mars and head towards Earth. President James Dale, along with his aides, addresses the United States concerning the historic event. The President\\'s science aides set up a first contact meeting with the Martians in Pahrump, Nevada as President Dale watches the development on TV with his wife Marsha and his daughter Taffy.\\r\\nUsing a translation machine, the Ambassador of Mars announces that they \"come in peace\". When a hippie releases a dove as a symbol of peace, the Ambassador shoots it before he and the other Martians slaughter a large number of people at the event, including General Casey, news reporter Jason Stone and Billy-Glenn Norris before capturing chat-show host Nathalie Lake and her pet Chihuahua.\\r\\nThinking that the Martians assumed that the dove was a symbol of war, President Dale tells Professor Donald Kessler to renegotiate with the Martians, whose ambassador is invited to address the United States Congress. At this meeting, the Martians massacre most of Congress. Donald begs the Martian Ambassador to stop, but is rendered unconscious and taken aboard their ship, where he is later shown with his body parts dismembered and his disembodied head remaining animated. General Decker tries to convince President Dale to retaliate with nuclear warfare, but the President refuses.\\r\\nAfter a failed attempt to assassinate President Dale, the Martians invade Earth, starting with Washington, D.C. As they attack the White House, the Secret Service evacuates the President, but the First Lady Marsha is crushed to death by the Nancy Reagan chandelier. Taffy vanishes during the chaos. After the U.S. government unsuccessfully attempts a nuclear attack on the mother ship, the Martians expand their invasion to the rest of the Earth, defacing world landmarks for amusement as they do so. That night, the Martians breach the bunker where Dale has been taken and the leader reduces Decker to the size of an insect before killing him. The Martians kill everyone else in the bunker except for Dale, who makes an impassioned speech in an attempt to plea for peace and his life. The Martians seem convinced, but then use a false hand to kill the President.\\r\\nAs the Martians ravage Las Vegas, Byron Williams, a former world champion boxer, leads a small group of survivors consisting of Barbara Land, Tom Jones, a waitress named Cindy, and a lawyer to an airfield in the hopes of flying a small jet to safety. They barely make it, losing the lawyer in the process, but discover a large group of Martians stationed there as they are preparing to take off. Byron creates a diversion by challenging them to a fistfight. While he succeeds in killing the Ambassador, he is outnumbered and overwhelmed, but Tom, Barbara, and Cindy escape.\\r\\nBilly-Glenn\\'s brother Richie discovers that the Martians\\' heads explode when they hear Slim Whitman\\'s \"Indian Love Call\". He and his grandmother Florence drive around town, using the song to kill Martians. The military thereafter broadcast the song around the globe, killing most of the Martians and their leader, and causing the few remaining survivors to try to flee. Nathalie and Donald\\'s disembodied heads kiss while the Martian spaceship they are on crashes into the ocean.\\r\\nIn the aftermath, Richie and Florence are awarded the Medal of Honor by Taffy, the only surviving member of the government. Byron, who survived the Martian brawl, arrives in D.C. to reunite with his former wife and their two sons as the devastation is being cleaned up. Barbara, Cindy, and Tom Jones emerge from a cave with some animals to see dozens of crashed Martian ships in Lake Tahoe.',\n",
       "     'year': 1996,\n",
       "     'wiki_page': 'https://en.wikipedia.org/wiki/Mars_Attacks!'}}]}}"
      ]
     },
     "execution_count": 28,
     "metadata": {},
     "output_type": "execute_result"
    }
   ],
   "source": [
    "resp = es.search(\n",
    "    index=\"movies\",\n",
    "    query={\n",
    "            \"bool\": {\n",
    "                \"must\": {\n",
    "                    \"match_phrase\": {\n",
    "                        \"cast\": \"jack nicholson\",\n",
    "                    }\n",
    "                },\n",
    "                \"filter\": {\"bool\": {\"must_not\": {\"match_phrase\": {\"director\": \"roman polanski\"}}}},\n",
    "            },\n",
    "        },            \n",
    ")\n",
    "resp.body"
   ]
  },
  {
   "cell_type": "code",
   "execution_count": 13,
   "metadata": {},
   "outputs": [],
   "source": [
    "mappings = {\n",
    "        \"properties\": {\n",
    "            \"title\": {\"type\": \"text\", \"analyzer\": \"english\"},\n",
    "            \"ethnicity\": {\"type\": \"text\", \"analyzer\": \"standard\"},\n",
    "            \"director\": {\"type\": \"text\", \"analyzer\": \"standard\"},\n",
    "            \"cast\": {\"type\": \"text\", \"analyzer\": \"standard\"},\n",
    "            \"genre\": {\"type\": \"text\", \"analyzer\": \"standard\"},\n",
    "            \"plot\": {\"type\": \"text\", \"analyzer\": \"english\"},\n",
    "            \"year\": {\"type\": \"integer\"},\n",
    "            \"wiki_page\": {\"type\": \"keyword\"}\n",
    "        }}"
   ]
  },
  {
   "cell_type": "code",
   "execution_count": 14,
   "metadata": {},
   "outputs": [
    {
     "data": {
      "text/plain": [
       "{'_index': 'movies',\n",
       " '_id': '461',\n",
       " '_score': 10.923738,\n",
       " '_source': {'title': 'The King of Marvin Gardens',\n",
       "  'ethnicity': 'American',\n",
       "  'director': 'Bob Rafelson',\n",
       "  'cast': 'Jack Nicholson, Ellen Burstyn, Bruce Dern',\n",
       "  'genre': 'drama',\n",
       "  'plot': \"David and Jason are estranged brothers, the former a depressive living with his grandfather in Philadelphia where he runs a late-night radio talk show and the latter an extrovert con man working for gang boss Lewis in Atlantic City, where he lives with the manic-depressive Sally, former beauty queen and prostitute, and her stepdaughter Jessica. Begging David to come to Atlantic City and bail him out of jail, Jason once freed persuades him to stay on in his hotel suite with the two women.\\r\\nTensions grow between the four as Jason pursues a ludicrous dream of conning a Japanese syndicate into buying a Hawaiian island where he will build and run a casino. The sceptical David has no faith in Jason's scam, while Jason chides David for wallowing in his dark, lonely depressed life. Sally, increasingly neurotic over losing her looks, cuts off her hair and throws away her cosmetics. When Jason starts packing to leave for Hawaii, in rage and despair she shoots him dead. David escorts his brother's corpse home to Philadelphia by train.\",\n",
       "  'year': 1972,\n",
       "  'wiki_page': 'https://en.wikipedia.org/wiki/The_King_of_Marvin_Gardens'}}"
      ]
     },
     "execution_count": 14,
     "metadata": {},
     "output_type": "execute_result"
    }
   ],
   "source": [
    "{'_index': 'movies',\n",
    "    '_id': '461',\n",
    "    '_score': 10.923738,\n",
    "    '_source': {'title': 'The King of Marvin Gardens',\n",
    "     'ethnicity': 'American',\n",
    "     'director': 'Bob Rafelson',\n",
    "     'cast': 'Jack Nicholson, Ellen Burstyn, Bruce Dern',\n",
    "     'genre': 'drama',\n",
    "     'plot': \"David and Jason are estranged brothers, the former a depressive living with his grandfather in Philadelphia where he runs a late-night radio talk show and the latter an extrovert con man working for gang boss Lewis in Atlantic City, where he lives with the manic-depressive Sally, former beauty queen and prostitute, and her stepdaughter Jessica. Begging David to come to Atlantic City and bail him out of jail, Jason once freed persuades him to stay on in his hotel suite with the two women.\\r\\nTensions grow between the four as Jason pursues a ludicrous dream of conning a Japanese syndicate into buying a Hawaiian island where he will build and run a casino. The sceptical David has no faith in Jason's scam, while Jason chides David for wallowing in his dark, lonely depressed life. Sally, increasingly neurotic over losing her looks, cuts off her hair and throws away her cosmetics. When Jason starts packing to leave for Hawaii, in rage and despair she shoots him dead. David escorts his brother's corpse home to Philadelphia by train.\",\n",
    "     'year': 1972,\n",
    "     'wiki_page': 'https://en.wikipedia.org/wiki/The_King_of_Marvin_Gardens'}}"
   ]
  },
  {
   "cell_type": "code",
   "execution_count": 9,
   "metadata": {},
   "outputs": [],
   "source": [
    "mapping_barrier = {\n",
    "    \"properties\" : {\n",
    "        \"id\": {\"type\" : \"integer\"},\n",
    "        \"device_name\" : {\"type\": \"text\"},\n",
    "        \"start_time\" : {\"type\" : \"integer\"},\n",
    "        \"start_angle\": {\"type\" : \"integer\"},\n",
    "        \"end_time\": {\"type\" : \"integer\"},\n",
    "        \"end_angle\": {\"type\" : \"integer\"},\n",
    "        \"status\": {\"type\" : \"text\"},\n",
    "        \"error_type\" : {\"type\" : \"text\"}\n",
    "}\n",
    "}\n"
   ]
  },
  {
   "cell_type": "code",
   "execution_count": 26,
   "metadata": {},
   "outputs": [
    {
     "data": {
      "text/plain": [
       "ObjectApiResponse({'acknowledged': True, 'shards_acknowledged': True, 'index': 'prout'})"
      ]
     },
     "execution_count": 26,
     "metadata": {},
     "output_type": "execute_result"
    }
   ],
   "source": [
    "es.indices.create(index=\"prout\", mappings=mapping_barrier)"
   ]
  },
  {
   "cell_type": "code",
   "execution_count": null,
   "metadata": {},
   "outputs": [],
   "source": []
  }
 ],
 "metadata": {
  "kernelspec": {
   "display_name": "Python 3",
   "language": "python",
   "name": "python3"
  },
  "language_info": {
   "codemirror_mode": {
    "name": "ipython",
    "version": 3
   },
   "file_extension": ".py",
   "mimetype": "text/x-python",
   "name": "python",
   "nbconvert_exporter": "python",
   "pygments_lexer": "ipython3",
   "version": "3.10.6"
  },
  "orig_nbformat": 4
 },
 "nbformat": 4,
 "nbformat_minor": 2
}
