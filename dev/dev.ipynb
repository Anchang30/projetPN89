{
 "cells": [
  {
   "cell_type": "code",
   "execution_count": 1,
   "metadata": {},
   "outputs": [],
   "source": [
    "%load_ext autoreload\n",
    "%autoreload 2"
   ]
  },
  {
   "cell_type": "code",
   "execution_count": 2,
   "metadata": {},
   "outputs": [],
   "source": [
    "from random import uniform\n",
    "import json\n",
    "import sys\n",
    "import os"
   ]
  },
  {
   "cell_type": "code",
   "execution_count": 17,
   "metadata": {},
   "outputs": [],
   "source": [
    "# getting the name of the directory\n",
    "# where the this file is present.\n",
    "current = os.path.dirname(os.path.realpath(os.path.abspath(\"\")))\n",
    "  \n",
    "# # adding the parent directory to\n",
    "# # the sys.path.\n",
    "sys.path.append(current)"
   ]
  },
  {
   "cell_type": "code",
   "execution_count": 30,
   "metadata": {},
   "outputs": [],
   "source": [
    "\n",
    "from db import Barrier, Bell, Light, instanciate_sensors\n",
    "from services import update_db\n",
    "from get_data import *\n",
    "import glob"
   ]
  },
  {
   "attachments": {},
   "cell_type": "markdown",
   "metadata": {},
   "source": [
    "# Database exchanges and log entry addition"
   ]
  },
  {
   "attachments": {},
   "cell_type": "markdown",
   "metadata": {},
   "source": [
    "# Code à jour"
   ]
  },
  {
   "cell_type": "code",
   "execution_count": 23,
   "metadata": {},
   "outputs": [],
   "source": [
    "sensors_dict = {\n",
    "      \"bar-c100x-abcd1234\": {\"cur\": \"\", \"prev\" : \"\", \n",
    "            \"associated_light\": {\"lig-l500X-abcd1234\": \"\", \"lig-l500X-efgh2345\": \"\"},\n",
    "            \"associated_bell\": {\"bel-z200X-abcd1234\": \"\"}\n",
    "            },\n",
    "      \"bar-c100x-efgh2345\": {\"cur\": \"\", \"prev\" : \"\", \n",
    "            \"associated_light\": {\"lig-l500X-ijkl3456\": \"\", \"lig-l500X-mnop4567\": \"\"},\n",
    "            \"associated_bell\": {\"bel-z200X-efgh2345\": \"\"}\n",
    "            },\n",
    "      \"bar-c100x-ijkl3456\": {\"cur\": \"\",\"prev\" : \"\", \n",
    "            \"associated_light\": {\"lig-l500X-qrst5678\": \"\", \"lig-l500X-uvwx6789\": \"\", \"lig-l500X-yzab7890\": \"\"},\n",
    "            \"associated_bell\": {\"bel-z200X-ijkl3456\": \"\"}\n",
    "            },\n",
    "      \"bar-c100x-mnop4567\": {\"cur\": \"\", \"prev\": \"\",\n",
    "            \"associated_light\": {\"lig-l500X-cdef8901\": \"\", \"lig-l500X-ghij9012\": \"\", \"lig-l500X-klmn0123\": \"\"},\n",
    "            \"associated_bell\": {\"bel-z200X-mnop4567\": \"\"}\n",
    "            }\n",
    "      }"
   ]
  },
  {
   "cell_type": "code",
   "execution_count": 63,
   "metadata": {},
   "outputs": [
    {
     "name": "stdout",
     "output_type": "stream",
     "text": [
      "log.json\n"
     ]
    }
   ],
   "source": [
    "def logfile_name():\n",
    "    path_ = os.path.dirname(os.getcwd())\n",
    "    log_path = os.path.join(path_, \"logs\")\n",
    "    if \"logs\" not in os.listdir(path_):\n",
    "        os.mkdir(log_path)\n",
    "    len_json = len([doc for doc in os.listdir(log_path) if doc.startswith(\"log\") and doc.endswith(\".json\")])\n",
    "    if len_json == 0:\n",
    "        return \"log.json\"\n",
    "    else :\n",
    "        print(log_path)\n",
    "        return f\"log{len_json}.json\""
   ]
  },
  {
   "cell_type": "code",
   "execution_count": 64,
   "metadata": {},
   "outputs": [
    {
     "name": "stdout",
     "output_type": "stream",
     "text": [
      "/home/vincent/projetPN89/logs\n"
     ]
    },
    {
     "data": {
      "text/plain": [
       "'log4.json'"
      ]
     },
     "execution_count": 64,
     "metadata": {},
     "output_type": "execute_result"
    }
   ],
   "source": [
    "logfile_name()"
   ]
  },
  {
   "cell_type": "code",
   "execution_count": 29,
   "metadata": {},
   "outputs": [
    {
     "data": {
      "text/plain": [
       "{'bar-c100x-abcd1234': {'cur': Barrier(device_name='bar-c100x-abcd1234', start_time=0, start_angle=0, end_time=0, end_angle=0, status='inactive'),\n",
       "  'prev': Barrier(device_name='bar-c100x-abcd1234', start_time=0, start_angle=0, end_time=0, end_angle=0, status='inactive'),\n",
       "  'associated_light': {'lig-l500X-abcd1234': Light(device_name='lig-l500X-abcd1234', start_time=0, end_time=0),\n",
       "   'lig-l500X-efgh2345': Light(device_name='lig-l500X-efgh2345', start_time=0, end_time=0)},\n",
       "  'associated_bell': {'bel-z200X-abcd1234': Bell(device_name='bel-z200X-abcd1234', start_time=0, end_time=0)}},\n",
       " 'bar-c100x-efgh2345': {'cur': Barrier(device_name='bar-c100x-efgh2345', start_time=0, start_angle=0, end_time=0, end_angle=0, status='inactive'),\n",
       "  'prev': Barrier(device_name='bar-c100x-efgh2345', start_time=0, start_angle=0, end_time=0, end_angle=0, status='inactive'),\n",
       "  'associated_light': {'lig-l500X-ijkl3456': Light(device_name='lig-l500X-ijkl3456', start_time=0, end_time=0),\n",
       "   'lig-l500X-mnop4567': Light(device_name='lig-l500X-mnop4567', start_time=0, end_time=0)},\n",
       "  'associated_bell': {'bel-z200X-efgh2345': Bell(device_name='bel-z200X-efgh2345', start_time=0, end_time=0)}},\n",
       " 'bar-c100x-ijkl3456': {'cur': Barrier(device_name='bar-c100x-ijkl3456', start_time=0, start_angle=0, end_time=0, end_angle=0, status='inactive'),\n",
       "  'prev': Barrier(device_name='bar-c100x-ijkl3456', start_time=0, start_angle=0, end_time=0, end_angle=0, status='inactive'),\n",
       "  'associated_light': {'lig-l500X-qrst5678': Light(device_name='lig-l500X-qrst5678', start_time=0, end_time=0),\n",
       "   'lig-l500X-uvwx6789': Light(device_name='lig-l500X-uvwx6789', start_time=0, end_time=0),\n",
       "   'lig-l500X-yzab7890': Light(device_name='lig-l500X-yzab7890', start_time=0, end_time=0)},\n",
       "  'associated_bell': {'bel-z200X-ijkl3456': Bell(device_name='bel-z200X-ijkl3456', start_time=0, end_time=0)}},\n",
       " 'bar-c100x-mnop4567': {'cur': Barrier(device_name='bar-c100x-mnop4567', start_time=0, start_angle=0, end_time=0, end_angle=0, status='inactive'),\n",
       "  'prev': Barrier(device_name='bar-c100x-mnop4567', start_time=0, start_angle=0, end_time=0, end_angle=0, status='inactive'),\n",
       "  'associated_light': {'lig-l500X-cdef8901': Light(device_name='lig-l500X-cdef8901', start_time=0, end_time=0),\n",
       "   'lig-l500X-ghij9012': Light(device_name='lig-l500X-ghij9012', start_time=0, end_time=0),\n",
       "   'lig-l500X-klmn0123': Light(device_name='lig-l500X-klmn0123', start_time=0, end_time=0)},\n",
       "  'associated_bell': {'bel-z200X-mnop4567': Bell(device_name='bel-z200X-mnop4567', start_time=0, end_time=0)}}}"
      ]
     },
     "execution_count": 29,
     "metadata": {},
     "output_type": "execute_result"
    }
   ],
   "source": [
    "sensors = instanciate_sensors()\n",
    "sensors"
   ]
  },
  {
   "cell_type": "code",
   "execution_count": 27,
   "metadata": {},
   "outputs": [],
   "source": [
    "associated_barriers = {'lig-l500X-abcd1234' : \"bar-c100x-abcd1234\",\n",
    "                       'lig-l500X-efgh2345' : \"bar-c100x-abcd1234\",\n",
    "                       'lig-l500X-ijkl3456' :\"bar-c100x-efgh2345\",\n",
    "                        'lig-l500X-mnop4567': \"bar-c100x-efgh2345\",\n",
    "                        'lig-l500X-qrst5678': \"bar-c100x-ijkl3456\",\n",
    "                        'lig-l500X-uvwx6789': \"bar-c100x-ijkl3456\",\n",
    "                        'lig-l500X-yzab7890': \"bar-c100x-ijkl3456\",\n",
    "                        'lig-l500X-cdef8901': \"bar-c100x-mnop4567\",\n",
    "                        'lig-l500X-ghij9012': \"bar-c100x-mnop4567\",\n",
    "                        'lig-l500X-klmn0123': \"bar-c100x-mnop4567\"    \n",
    "}"
   ]
  },
  {
   "cell_type": "code",
   "execution_count": 49,
   "metadata": {},
   "outputs": [],
   "source": [
    "new_data = [[{\"GENERIC_DATA\": [\n",
    "{\"device_name\": \"bel-z200X-abcd1234\",\n",
    "\"start_time\": 123456789,\n",
    "\"end_time\": 987654321\n",
    "}]}]]"
   ]
  },
  {
   "cell_type": "code",
   "execution_count": 73,
   "metadata": {},
   "outputs": [
    {
     "name": "stdout",
     "output_type": "stream",
     "text": [
      "device_name='lig-l500X-abcd1234' start_time=123456789 end_time=987654321\n",
      "device_name='lig-l500X-efgh2345' start_time=0 end_time=0\n"
     ]
    }
   ],
   "source": [
    "lights = sensors[\"bar-c100x-abcd1234\"][\"associated_light\"]\n",
    "for light in lights.values() :\n",
    "    print(light)"
   ]
  },
  {
   "cell_type": "code",
   "execution_count": 111,
   "metadata": {},
   "outputs": [],
   "source": [
    "def check_barrier_not_down(light_id : str):\n",
    "    bar_id = associated_barriers.get(light_id)\n",
    "    bar = sensors[bar_id][\"cur\"]   \n",
    "    light = sensors[bar_id][\"associated_light\"][light_id]\n",
    "    if bar.start_time == 0:\n",
    "        print(f\"ENVOYER UN MSG A ELK : Pas de données reçues pour la barrière {bar_id}\")\n",
    "    else :\n",
    "        if bar.start_time - light.start_time > 8 :\n",
    "            print(\"ENVOYER UN AUTRE MSG D'ERREUR A ELK : la barrière n'est pas abaissée à temps\")\n"
   ]
  },
  {
   "cell_type": "code",
   "execution_count": 109,
   "metadata": {},
   "outputs": [],
   "source": [
    "def barrier_islong(bar_id : str):\n",
    "    bar = sensors[bar_id]['cur']\n",
    "    if bar.end_time - bar.start_time > 12 :\n",
    "        print(f\"ENCORE UN MSG D'ERREUR : LA BARRIERE {bar_id} EST TRES LONGUE\")\n",
    "    else :\n",
    "        print (\"TOU VA B1 !\")"
   ]
  },
  {
   "cell_type": "code",
   "execution_count": 112,
   "metadata": {},
   "outputs": [],
   "source": [
    "sensors[\"bar-c100x-abcd1234\"]['cur'].start_time = 0\n",
    "sensors[\"bar-c100x-abcd1234\"]['cur'].end_time = 29\n",
    "sensors[\"bar-c100x-abcd1234\"]['associated_light']['lig-l500X-abcd1234'].start_time =7"
   ]
  },
  {
   "cell_type": "code",
   "execution_count": 113,
   "metadata": {},
   "outputs": [
    {
     "name": "stdout",
     "output_type": "stream",
     "text": [
      "ENVOYER UN MSG A ELK : Pas de données reçues pour la barrière bar-c100x-abcd1234\n"
     ]
    }
   ],
   "source": [
    "check_barrier_not_down(\"lig-l500X-abcd1234\")"
   ]
  },
  {
   "cell_type": "code",
   "execution_count": 110,
   "metadata": {},
   "outputs": [
    {
     "name": "stdout",
     "output_type": "stream",
     "text": [
      "ENCORE UN MSG D'ERREUR : LA BARRIERE bar-c100x-abcd1234 EST TRES LONGUE\n"
     ]
    }
   ],
   "source": [
    "barrier_islong(\"bar-c100x-abcd1234\")"
   ]
  },
  {
   "cell_type": "code",
   "execution_count": 10,
   "metadata": {},
   "outputs": [],
   "source": [
    "for barrier in sensors.keys():\n",
    "    sensors[barrier][\"cur\"]= Barrier(device_name=barrier)\n",
    "    sensors[barrier][\"prev\"]= Barrier(device_name=barrier)\n",
    "    for light in sensors[barrier][\"associated_light\"]:\n",
    "        sensors[barrier][\"associated_light\"][light]= Light(device_name=light)\n",
    "    for bell in sensors[barrier]['associated_bell']:\n",
    "        sensors[barrier]['associated_bell'][bell]= Bell(device_name=bell)\n",
    "    "
   ]
  },
  {
   "cell_type": "code",
   "execution_count": 58,
   "metadata": {},
   "outputs": [],
   "source": [
    "sensors[\"bar-c100x-abcd1234\"][\"cur\"].start_angle = 0\n",
    "sensors[\"bar-c100x-abcd1234\"][\"cur\"].end_angle = 89"
   ]
  },
  {
   "cell_type": "code",
   "execution_count": 54,
   "metadata": {},
   "outputs": [
    {
     "data": {
      "text/plain": [
       "{'cur': Barrier(device_name='bar-c100x-abcd1234', start_time=0, start_angle=1, end_time=0, end_angle=89, status='up'),\n",
       " 'prev': Barrier(device_name='bar-c100x-abcd1234', start_time=0, start_angle=0, end_time=0, end_angle=0, status='inactive'),\n",
       " 'associated_light': {'lig-l500X-abcd1234': Light(device_name='lig-l500X-abcd1234', start_time=0, end_time=0),\n",
       "  'lig-l500X-efgh2345': Light(device_name='lig-l500X-efgh2345', start_time=0, end_time=0)},\n",
       " 'associated_bell': {'bel-z200X-abcd1234': Bell(device_name='bel-z200X-abcd1234', start_time=0, end_time=0)}}"
      ]
     },
     "execution_count": 54,
     "metadata": {},
     "output_type": "execute_result"
    }
   ],
   "source": [
    "sensors[\"bar-c100x-abcd1234\"]"
   ]
  },
  {
   "cell_type": "code",
   "execution_count": 60,
   "metadata": {},
   "outputs": [
    {
     "data": {
      "text/plain": [
       "{'cur': Barrier(device_name='bar-c100x-abcd1234', start_time=0, start_angle=0, end_time=0, end_angle=89, status='irregular'),\n",
       " 'prev': Barrier(device_name='bar-c100x-abcd1234', start_time=0, start_angle=0, end_time=0, end_angle=0, status='inactive'),\n",
       " 'associated_light': {'lig-l500X-abcd1234': Light(device_name='lig-l500X-abcd1234', start_time=0, end_time=0),\n",
       "  'lig-l500X-efgh2345': Light(device_name='lig-l500X-efgh2345', start_time=0, end_time=0)},\n",
       " 'associated_bell': {'bel-z200X-abcd1234': Bell(device_name='bel-z200X-abcd1234', start_time=0, end_time=0)}}"
      ]
     },
     "execution_count": 60,
     "metadata": {},
     "output_type": "execute_result"
    }
   ],
   "source": [
    "update_barrier_status(sensors[\"bar-c100x-abcd1234\"][\"cur\"])\n",
    "sensors[\"bar-c100x-abcd1234\"]"
   ]
  },
  {
   "cell_type": "code",
   "execution_count": null,
   "metadata": {},
   "outputs": [],
   "source": []
  },
  {
   "cell_type": "code",
   "execution_count": 95,
   "metadata": {},
   "outputs": [],
   "source": [
    "def update_db(sensors):\n",
    "    global new_data\n",
    "    if new_data:\n",
    "        for i in new_data[0]:\n",
    "            id =i['GENERIC_DATA'][0]['device_name'] \n",
    "            \n",
    "            if id.startswith(\"bar\"):\n",
    "                barrier_pre = sensors[id].get(\"prev\")\n",
    "                barrier_cur = sensors[id].get(\"cur\")\n",
    "                barrier_pre.update_barrier(barrier_cur.__dict__)\n",
    "                barrier_cur.update_barrier(i['GENERIC_DATA'][0])\n",
    "                \n",
    "            if id.startswith(\"bel\"):\n",
    "                for barrier in sensors :\n",
    "                    bell= sensors[barrier][\"associated_bell\"].get(id)\n",
    "                    try :\n",
    "                        bell= sensors[barrier][\"associated_bell\"].get(id)\n",
    "                        bell.update_bell(i['GENERIC_DATA'][0])\n",
    "                    except :\n",
    "                        sensors[barrier][\"associated_bell\"].get(id) == None\n",
    "                    \n",
    "            if id.startswith(\"lig\"):\n",
    "                for barrier in sensors:\n",
    "                    try :\n",
    "                        light = sensors[barrier][\"associated_light\"].get(id)\n",
    "                        light.update_light(i['GENERIC_DATA'][0])\n",
    "                    except :\n",
    "                        sensors[barrier][\"associated_light\"].get(id) == None"
   ]
  },
  {
   "cell_type": "code",
   "execution_count": 96,
   "metadata": {},
   "outputs": [],
   "source": [
    "test_bell =[\n",
    "{\n",
    "\"GENERIC_DATA\": [\n",
    "{\n",
    "\"device_name\": \"bel-z200X-mnop4567\",\n",
    "\"start_time\": 111111111,\n",
    "\"end_time\": 2222222222\n",
    "}\n",
    "]\n",
    "}\n",
    "]"
   ]
  },
  {
   "cell_type": "code",
   "execution_count": 97,
   "metadata": {},
   "outputs": [],
   "source": [
    "update_db(sensors, test_bell)"
   ]
  },
  {
   "cell_type": "code",
   "execution_count": 98,
   "metadata": {},
   "outputs": [
    {
     "data": {
      "text/plain": [
       "{'bar-c100x-abcd1234': {'cur': Barrier(device_name='bar-c100x-abcd1234', start_time=0, start_angle=0, end_time=0, end_angle=0, status='inactive'),\n",
       "  'prev': Barrier(device_name='bar-c100x-abcd1234', start_time=0, start_angle=0, end_time=0, end_angle=0, status='inactive'),\n",
       "  'associated_light': {'lig-l500X-abcd1234': Light(device_name='lig-l500X-abcd1234', start_time=0, end_time=0),\n",
       "   'lig-l500X-efgh2345': Light(device_name='lig-l500X-efgh2345', start_time=0, end_time=0)},\n",
       "  'associated_bell': {'bel-z200X-abcd1234': Bell(device_name='bel-z200X-abcd1234', start_time=0, end_time=0)}},\n",
       " 'bar-c100x-efgh2345': {'cur': Barrier(device_name='bar-c100x-efgh2345', start_time=0, start_angle=0, end_time=0, end_angle=0, status='inactive'),\n",
       "  'prev': Barrier(device_name='bar-c100x-efgh2345', start_time=0, start_angle=0, end_time=0, end_angle=0, status='inactive'),\n",
       "  'associated_light': {'lig-l500X-ijkl3456': Light(device_name='lig-l500X-ijkl3456', start_time=0, end_time=0),\n",
       "   'lig-l500X-mnop4567': Light(device_name='lig-l500X-mnop4567', start_time=0, end_time=0)},\n",
       "  'associated_bell': {'bel-z200X-efgh2345': Bell(device_name='bel-z200X-efgh2345', start_time=0, end_time=0)}},\n",
       " 'bar-c100x-ijkl3456': {'cur': Barrier(device_name='bar-c100x-ijkl3456', start_time=0, start_angle=0, end_time=0, end_angle=0, status='inactive'),\n",
       "  'prev': Barrier(device_name='bar-c100x-ijkl3456', start_time=0, start_angle=0, end_time=0, end_angle=0, status='inactive'),\n",
       "  'associated_light': {'lig-l500X-qrst5678': Light(device_name='lig-l500X-qrst5678', start_time=0, end_time=0),\n",
       "   'lig-l500X-uvwx6789': Light(device_name='lig-l500X-uvwx6789', start_time=0, end_time=0),\n",
       "   'lig-l500X-yzab7890': Light(device_name='lig-l500X-yzab7890', start_time=0, end_time=0)},\n",
       "  'associated_bell': {'bel-z200X-ijkl3456': Bell(device_name='bel-z200X-ijkl3456', start_time=0, end_time=0)}},\n",
       " 'bar-c100x-mnop4567': {'cur': Barrier(device_name='bar-c100x-mnop4567', start_time=0, start_angle=0, end_time=0, end_angle=0, status='inactive'),\n",
       "  'prev': Barrier(device_name='bar-c100x-mnop4567', start_time=0, start_angle=0, end_time=0, end_angle=0, status='inactive'),\n",
       "  'associated_light': {'lig-l500X-cdef8901': Light(device_name='lig-l500X-cdef8901', start_time=0, end_time=0),\n",
       "   'lig-l500X-ghij9012': Light(device_name='lig-l500X-ghij9012', start_time=0, end_time=0),\n",
       "   'lig-l500X-klmn0123': Light(device_name='lig-l500X-klmn0123', start_time=0, end_time=0)},\n",
       "  'associated_bell': {'bel-z200X-mnop4567': Bell(device_name='bel-z200X-mnop4567', start_time=111111111, end_time=2222222222)}}}"
      ]
     },
     "execution_count": 98,
     "metadata": {},
     "output_type": "execute_result"
    }
   ],
   "source": [
    "sensors"
   ]
  },
  {
   "cell_type": "code",
   "execution_count": 99,
   "metadata": {},
   "outputs": [],
   "source": [
    "new_data_bell = [\n",
    "{\n",
    "\"GENERIC_DATA\": [\n",
    "{\n",
    "\"device_name\": \"bel-z200X-abcd1234\",\n",
    "\"start_time\": 111111111,\n",
    "\"end_time\" : 33333333333\n",
    "}\n",
    "]\n",
    "}],\n",
    "\n",
    "[{\n",
    "\"GENERIC_DATA\": [\n",
    "{\n",
    "\"device_name\": \"bel-z200X-abcd1234\",\n",
    "\"start_time\": 2222222222,\n",
    "\"end_time\" : 5555555555\n",
    "}\n",
    "]\n",
    "}\n",
    "]"
   ]
  },
  {
   "cell_type": "code",
   "execution_count": null,
   "metadata": {},
   "outputs": [],
   "source": [
    "new_data_barrier = [\n",
    "{\n",
    "\"GENERIC_DATA\": [\n",
    "{\n",
    "\"device_name\": \"bar-c100x-abcd1234\",\n",
    "\"start_time\": 2222222,\n",
    "\"end_time\" : 33444444,\n",
    "\"end_angle\": 90,\n",
    "\"start_angle\" : 0\n",
    "}\n",
    "]\n",
    "}\n",
    "],\n",
    "\n",
    "[\n",
    "{\n",
    "\"GENERIC_DATA\": [\n",
    "{\n",
    "\"device_name\": \"bar-c100x-abcd1234\",\n",
    "\"start_time\": 123456789,\n",
    "\"end_time\" : 987654321,\n",
    "\"end_angle\": 0,\n",
    "\"start_angle\" : 90\n",
    "}\n",
    "]\n",
    "}\n",
    "]"
   ]
  },
  {
   "cell_type": "code",
   "execution_count": null,
   "metadata": {},
   "outputs": [],
   "source": [
    "new_data_light = [\n",
    "{\n",
    "\"GENERIC_DATA\": [\n",
    "{\n",
    "\"device_name\": \"lig-l500X-efgh2345\",\n",
    "\"start_time\": 111111111,\n",
    "\"end_time\" : 33333333333\n",
    "}\n",
    "]\n",
    "}],\n",
    "\n",
    "[{\n",
    "\"GENERIC_DATA\": [\n",
    "{\n",
    "\"device_name\": \"lig-l500X-abcd1234\",\n",
    "\"start_time\": 2222222222,\n",
    "\"end_time\" : 5555555555\n",
    "}\n",
    "]\n",
    "}\n",
    "]"
   ]
  },
  {
   "cell_type": "code",
   "execution_count": 117,
   "metadata": {},
   "outputs": [],
   "source": [
    "new_whole_data =[[\n",
    "    {\n",
    "    \"GENERIC_DATA\": [\n",
    "                            {\n",
    "                            \"device_name\": \"lig-l500X-abcd1234\",\n",
    "                            \"start_time\": 1,\n",
    "                            \"end_time\" : 3\n",
    "                            }\n",
    "                    ]\n",
    "    },\n",
    "    {\n",
    "    \"GENERIC_DATA\": [\n",
    "                            {\n",
    "                            \"device_name\": \"bar-c100x-abcd1234\",\n",
    "                            \"start_time\": 111111111,\n",
    "                            \"end_time\" : 55555555555,\n",
    "                            \"end_angle\": 0,\n",
    "                            \"start_angle\" : 90\n",
    "                            }\n",
    "                    ]\n",
    "    }               \n",
    "]]"
   ]
  },
  {
   "cell_type": "code",
   "execution_count": 122,
   "metadata": {},
   "outputs": [
    {
     "data": {
      "text/plain": [
       "[[{'GENERIC_DATA': [{'device_name': 'lig-l500X-abcd1234',\n",
       "     'start_time': 1,\n",
       "     'end_time': 3}]},\n",
       "  {'GENERIC_DATA': [{'device_name': 'bar-c100x-abcd1234',\n",
       "     'start_time': 111111111,\n",
       "     'end_time': 55555555555,\n",
       "     'end_angle': 0,\n",
       "     'start_angle': 90}]}]]"
      ]
     },
     "execution_count": 122,
     "metadata": {},
     "output_type": "execute_result"
    }
   ],
   "source": [
    "new_whole_data"
   ]
  },
  {
   "cell_type": "code",
   "execution_count": 125,
   "metadata": {},
   "outputs": [
    {
     "name": "stdout",
     "output_type": "stream",
     "text": [
      "lig-l500X-abcd1234\n",
      "bar-c100x-abcd1234\n"
     ]
    }
   ],
   "source": [
    "for i in new_whole_data[0]:\n",
    "    id =i['GENERIC_DATA'][0]['device_name']\n",
    "    print(id)"
   ]
  },
  {
   "cell_type": "code",
   "execution_count": 221,
   "metadata": {},
   "outputs": [],
   "source": [
    "# Instancie la db et les capteurs\n",
    "db_size = 0\n",
    "db_get_list = []\n",
    "captors = instanciate_captors()"
   ]
  },
  {
   "cell_type": "code",
   "execution_count": 235,
   "metadata": {},
   "outputs": [],
   "source": [
    "# Regular task checking for new data\n",
    "serv_size = get_serv_size()\n",
    "check_serv_status(db_size)\n",
    "db_get_cur = []\n",
    "# Checking new_data and saving them in log and db for use cases\n",
    "if check_serv_status(db_size) :\n",
    "    add_log_entry(get_data()[db_size:])\n",
    "    db_get_list.append(get_data())\n",
    "    db_get_cur.append(get_data()[db_size:])\n",
    "db_size = serv_size"
   ]
  },
  {
   "attachments": {},
   "cell_type": "markdown",
   "metadata": {},
   "source": [
    "# TEST POUR LOAD/SAVE JSON"
   ]
  },
  {
   "cell_type": "code",
   "execution_count": 156,
   "metadata": {},
   "outputs": [],
   "source": [
    "with open(\"json_test.json\",\"w\") as f:\n",
    "   f.write(\"Coucou les amis !\") \n",
    "f.close()"
   ]
  },
  {
   "cell_type": "code",
   "execution_count": 1,
   "metadata": {},
   "outputs": [],
   "source": [
    "json_test = {\n",
    "        \"barrier1\": [\n",
    "            {\n",
    "            \"device_name\": \"stu-c100x-abcd1234\",\n",
    "            \"start_time\": 1678123467,\n",
    "            \"start_angle\": 83.0,\n",
    "            \"end_time\": 1678123482,\n",
    "            \"end_angle\": 1.3\n",
    "            }\n",
    "        ]\n",
    "    }\n"
   ]
  },
  {
   "cell_type": "code",
   "execution_count": 7,
   "metadata": {},
   "outputs": [],
   "source": [
    "save_file = open(\"saved_json\", \"w\")\n",
    "json.dump(json_test, save_file, indent= 6)\n",
    "save_file.close()"
   ]
  },
  {
   "attachments": {},
   "cell_type": "markdown",
   "metadata": {},
   "source": [
    "# CREATION DES DICTIONNAIRES PAR TYPE DE CAPTEUR"
   ]
  },
  {
   "attachments": {},
   "cell_type": "markdown",
   "metadata": {},
   "source": [
    "# Reliquats code précédent"
   ]
  },
  {
   "cell_type": "code",
   "execution_count": null,
   "metadata": {},
   "outputs": [
    {
     "data": {
      "text/plain": [
       "[[{'GENERIC_DATA': [{'device_name': 'bar-c100x-efgh2345',\n",
       "     'start_time': 1678123300,\n",
       "     'end_time': 1678123400,\n",
       "     'start_angle': 90,\n",
       "     'end_angle': 0}]}],\n",
       " [{'GENERIC_DATA': [{'device_name': 'bar-c100x-efgh2345',\n",
       "     'start_time': 1678123300,\n",
       "     'end_time': 1678123400,\n",
       "     'start_angle': 90,\n",
       "     'end_angle': 0}]},\n",
       "  {'GENERIC_DATA': [{'device_name': 'bar-c100x-efgh2345',\n",
       "     'start_time': 1678123415,\n",
       "     'end_time': 1678123515,\n",
       "     'start_angle': 0,\n",
       "     'end_angle': 90}]}]]"
      ]
     },
     "metadata": {},
     "output_type": "display_data"
    }
   ],
   "source": [
    "db_get_list"
   ]
  },
  {
   "cell_type": "code",
   "execution_count": null,
   "metadata": {},
   "outputs": [],
   "source": [
    "db_get_cur =   [[{'GENERIC_DATA': [{'device_name': 'bar-c100x-efgh2345',\n",
    "     'start_time': 1678123415,\n",
    "     'end_time': 1678123515,\n",
    "     'start_angle': 0,\n",
    "     'end_angle': 90}]}]]"
   ]
  },
  {
   "cell_type": "code",
   "execution_count": null,
   "metadata": {},
   "outputs": [
    {
     "data": {
      "text/plain": [
       "{'bar-c100x-abcd1234_cur': Barrier(device_name='bar-c100x-abcd1234', start_time=0, start_angle=0, end_time=0, end_angle=0, status='inactive'),\n",
       " 'bar-c100x-abcd1234_pre': Barrier(device_name='bar-c100x-abcd1234', start_time=0, start_angle=0, end_time=0, end_angle=0, status='inactive'),\n",
       " 'bar-c100x-efgh2345_cur': Barrier(device_name='bar-c100x-efgh2345', start_time=1678123415, start_angle=0, end_time=1678123515, end_angle=90, status='inactive'),\n",
       " 'bar-c100x-efgh2345_pre': Barrier(device_name='bar-c100x-efgh2345', start_time=1678123300, start_angle=90, end_time=1678123400, end_angle=0, status='inactive'),\n",
       " 'bar-c100x-ijkl3456_cur': Barrier(device_name='bar-c100x-ijkl3456', start_time=0, start_angle=0, end_time=0, end_angle=0, status='inactive'),\n",
       " 'bar-c100x-ijkl3456_pre': Barrier(device_name='bar-c100x-ijkl3456', start_time=0, start_angle=0, end_time=0, end_angle=0, status='inactive'),\n",
       " 'bar-c100x-mnop4567_cur': Barrier(device_name='bar-c100x-mnop4567', start_time=0, start_angle=0, end_time=0, end_angle=0, status='inactive'),\n",
       " 'bar-c100x-mnop4567_pre': Barrier(device_name='bar-c100x-mnop4567', start_time=0, start_angle=0, end_time=0, end_angle=0, status='inactive')}"
      ]
     },
     "metadata": {},
     "output_type": "display_data"
    }
   ],
   "source": [
    "captors['captor_list']['barriers']"
   ]
  },
  {
   "cell_type": "code",
   "execution_count": null,
   "metadata": {},
   "outputs": [],
   "source": [
    "captor_dict = {\"captor_list\" : {\"barrier_list\" : \n",
    "    [\"bar-c100x-abcd1234\", \"bar-c100x-efgh2345\", \"bar-c100x-ijkl3456\", \"bar-c100x-mnop4567\"],\n",
    "\"bell_list\" : \n",
    "    [\"bel-z200X-abcd1234\", \"bel-z200X-efgh2345\", \"bel-z200X-ijkl3456\", \"bel-z200X-mnop4567\"],\n",
    "\"light_list\" : [\"lig-l500X-abcd1234\", \"lig-l500X-efgh2345\", \"lig-l500X-ijkl3456\", \"lig-l500X-mnop4567\",\n",
    "    \"lig-l500X-qrst5678\", \"lig-l500X-uvwx6789\", \"lig-l500X-yzab7890\", \"lig-l500X-cdef8901\"],\n",
    "\"single_lights\": [\"lig-l500X-ghij9012\", \"lig-l500X-klmn0123\"]}}\n",
    "\n"
   ]
  },
  {
   "cell_type": "code",
   "execution_count": null,
   "metadata": {},
   "outputs": [],
   "source": [
    "json_file = open(\"../log.json\", \"r\")\n",
    "data = json.load(json_file)\n",
    "json_file.close()\n",
    "data.update(second_test)\n",
    "file = open(\"../log.json\",\"w\")\n",
    "json.dump(data,file, indent=6)\n",
    "file.close()\n"
   ]
  },
  {
   "cell_type": "code",
   "execution_count": null,
   "metadata": {},
   "outputs": [],
   "source": [
    "\n",
    "for i in fused_data:\n",
    "    if i[0] == \"1\":\n",
    "        for j in range(1,3):\n",
    "            if i[3] == \"True\":\n",
    "                bar_dict[f\"barrier {j}\"][i[1]] = [{\n",
    "                    \"device_name\": \"stu-c100x-abcd1234\",\n",
    "                    \"start_time\": i[2]+8,\n",
    "                    \"start_angle\": 90.0 + uniform(-5, 5),\n",
    "                    \"end_time\": i[2]+12,\n",
    "                    \"end_angle\": 0.0 + uniform(-5,5)\n",
    "                    }]\n",
    "                bar_dict[f\"barrier {j}\"][i[1]].append({\n",
    "                    \"device_name\": \"stu-c100x-abcd1234\",\n",
    "                    \"start_time\": i[2]+65,\n",
    "                    \"start_angle\": 0.0,\n",
    "                    \"end_time\": i[2] +77,\n",
    "                    \"end_angle\": 90.0\n",
    "                    })\n",
    "            else :\n",
    "                bar_dict[f\"barrier {j}\"][i[1]] = [{\n",
    "                    \"device_name\": \"stu-c100x-abcd1234\",\n",
    "                    \"start_time\": i[2]+8,\n",
    "                    \"start_angle\": 90.0,\n",
    "                    \"end_time\": i[2]+12,\n",
    "                    \"end_angle\": 0.0\n",
    "                    }]\n",
    "                bar_dict[f\"barrier {j}\"][i[1]].append({\n",
    "                    \"device_name\": \"stu-c100x-abcd1234\",\n",
    "                    \"start_time\": i[2]+65,\n",
    "                    \"start_angle\": 0.0,\n",
    "                    \"end_time\": i[2] +77,\n",
    "                    \"end_angle\": 90.0\n",
    "                    })\n",
    "    elif i[0] == \"2\" :\n",
    "        for j in range(3,5):\n",
    "            if i[3] == \"True\":\n",
    "                bar_dict[f\"barrier {j}\"][i[1]] = [{\n",
    "                    \"device_name\": \"stu-c100x-abcd1234\",\n",
    "                    \"start_time\": i[2]+8,\n",
    "                    \"start_angle\": 90.0 + uniform(-5, 5),\n",
    "                    \"end_time\": i[2]+12,\n",
    "                    \"end_angle\": 0.0 + uniform(-5,5)\n",
    "                    }]\n",
    "                bar_dict[f\"barrier {j}\"][i[1]].append({\n",
    "                    \"device_name\": \"stu-c100x-abcd1234\",\n",
    "                    \"start_time\": i[2]+65,\n",
    "                    \"start_angle\": 0.0,\n",
    "                    \"end_time\": i[2] +77,\n",
    "                    \"end_angle\": 90.0\n",
    "                    })\n",
    "            bar_dict[f\"barrier {j}\"][i[1]] = [{\n",
    "                    \"device_name\": \"stu-c100x-abcd1234\",\n",
    "                    \"start_time\": i[2]+8,\n",
    "                    \"start_angle\": 90.0,\n",
    "                    \"end_time\": i[2]+12,\n",
    "                    \"end_angle\": 0.0\n",
    "                    }]\n",
    "            bar_dict[f\"barrier {j}\"][i[1]].append({\n",
    "                \"device_name\": \"stu-c100x-abcd1234\",\n",
    "                \"start_time\": i[2]+65,\n",
    "                \"start_angle\": 0.0,\n",
    "                \"end_time\": i[2] +77,\n",
    "                \"end_angle\": 90.0\n",
    "                })\n",
    "            \n",
    "            \n",
    "save_file = open(\"data_post/barriers.json\", \"w\")\n",
    "json.dump(bar_dict, save_file, indent= 6)\n",
    "save_file.close()\n"
   ]
  },
  {
   "cell_type": "code",
   "execution_count": null,
   "metadata": {},
   "outputs": [],
   "source": [
    "# structure type JSON\n",
    "\n",
    "[\n",
    "    {\n",
    "        \"barrier1\": [\n",
    "            {\n",
    "            \"device_name\": \"stu-c100x-abcd1234\",\n",
    "            \"start_time\": 1678123467,\n",
    "            \"start_angle\": 83.0,\n",
    "            \"end_time\": 1678123482,\n",
    "            \"end_angle\": 1.3\n",
    "            }\n",
    "        ]\n",
    "    },\n",
    "    \n",
    "    {\n",
    "        \"bell1\": [\n",
    "            {\n",
    "            \"device_name\": \"stu-c100x-abcd1234\",\n",
    "            \"start_time\": 1678123467,\n",
    "            \"start_angle\": 83.0,\n",
    "            \"end_time\": 1678123482,\n",
    "            \"end_angle\": 1.3\n",
    "            }\n",
    "        ]\n",
    "    },\n",
    "    \n",
    "    {\n",
    "        \"light1\": [\n",
    "            {\n",
    "            \"device_name\": \"stu-c100x-abcd1234\",\n",
    "            \"start_time\": 1678123467,\n",
    "            \"start_angle\": 83.0,\n",
    "            \"end_time\": 1678123482,\n",
    "            \"end_angle\": 1.3\n",
    "            }\n",
    "        ]\n",
    "    },\n",
    "    {\n",
    "        \"light2\": [\n",
    "            {\n",
    "            \"device_name\": \"stu-c100x-abcd1234\",\n",
    "            \"start_time\": 1678123467,\n",
    "            \"start_angle\": 83.0,\n",
    "            \"end_time\": 1678123482,\n",
    "            \"end_angle\": 1.3\n",
    "            }\n",
    "        ]\n",
    "    }\n",
    "]"
   ]
  },
  {
   "cell_type": "code",
   "execution_count": 169,
   "metadata": {},
   "outputs": [],
   "source": [
    "# structure finale JSON PN\n",
    "\n",
    "json_type= [\n",
    "    \n",
    "    {\"barriers\": \n",
    "                {\"barrier1\": \n",
    "                    {},\n",
    "                \"barrier2\" : {},\n",
    "                \"barrier3\": {},\n",
    "                \"barrier4\": {}\n",
    "                }\n",
    "            },\n",
    "    \n",
    "    {\"bells\": \n",
    "            {\"bell1\":\n",
    "            {\"device_name\": \"stu-c100x-abcd1234\",\"start_time\": 1678123467,\"end_time\": 1678123482},\n",
    "            \"bell2\": {}\n",
    "            }\n",
    "            },\n",
    "    \n",
    "    {\"lights\": \n",
    "            {\"device_name\": \"stu-c100x-abcd1234\",\"channel\": 1,\"start_time\": 1678123467,\"end_time\": 1678123482,\n",
    "            }}\n",
    "]"
   ]
  },
  {
   "cell_type": "code",
   "execution_count": null,
   "metadata": {},
   "outputs": [],
   "source": [
    "\n",
    "train_list = [\"881235\",\"2256\", \"881766\", \"880447\", \"881235\", \"2389\",\\\n",
    "    \"882559\", \"881766\", \"880447\", \"1759\", \"97653\", \"2357\", \"883496\", \"875963\",\\\n",
    "        \"882559\", \"1356\", \"5562\", \"881236\", \"880465\", \"5573\"]\n",
    "timestamp_list = [1683012695, 1683015972, 1683016276, 1683017804, 1683022304, 1683026642, 1683027371, 1683027911,\\\n",
    "    1683029116, 1683030616, 1683032248, 1683033193, 1683036116, 1683036683, 1683039646, 1683041565, 1683043426,\\\n",
    "        1683045201, 1683047636,1683048370]\n",
    "pn_list = [str(ele) for ele in [1,2,1,1,2,1,1,2,2,1,1,2,1,1,2,1,2,1,2,1]]\n",
    "problem_list = [str(ele).replace(\"0\",\"False\").replace(\"1\",\"True\") for ele in [0,0,0,1,0,0,0,0,1,0,1,0,0,0,0,1,0,0,1,0]]\n",
    "\n",
    "fused_data = list(zip(pn_list, train_list, timestamp_list, problem_list))\n",
    "fused_data"
   ]
  },
  {
   "cell_type": "code",
   "execution_count": 219,
   "metadata": {},
   "outputs": [],
   "source": [
    "PN = [1,1,2,1,1,2,2,1,1,2,1,1,2,1,2,1,2,1]\n",
    "\n",
    "timestamps = [1683016276, 1683017804, 1683022304, 1683026642,\n",
    "              1683027371, 1683027911, 1683029116, 1683030616, 1683032248, \n",
    "              1683033193, 1683036116, 1683036683, 1683039646, 1683041565,\n",
    "              1683043426, 1683045201, 1683047636, 1683048370]"
   ]
  },
  {
   "cell_type": "code",
   "execution_count": 223,
   "metadata": {},
   "outputs": [
    {
     "data": {
      "text/plain": [
       "18"
      ]
     },
     "execution_count": 223,
     "metadata": {},
     "output_type": "execute_result"
    }
   ],
   "source": [
    "len(timestamps)"
   ]
  },
  {
   "cell_type": "code",
   "execution_count": 221,
   "metadata": {},
   "outputs": [],
   "source": [
    "whole_data = list(zip(PN,timestamps))"
   ]
  },
  {
   "cell_type": "code",
   "execution_count": 222,
   "metadata": {},
   "outputs": [
    {
     "data": {
      "text/plain": [
       "[(1, 1683016276),\n",
       " (1, 1683017804),\n",
       " (2, 1683022304),\n",
       " (1, 1683026642),\n",
       " (1, 1683027371),\n",
       " (2, 1683027911),\n",
       " (2, 1683029116),\n",
       " (1, 1683030616),\n",
       " (1, 1683032248),\n",
       " (2, 1683033193),\n",
       " (1, 1683036116),\n",
       " (1, 1683036683),\n",
       " (2, 1683039646),\n",
       " (1, 1683041565),\n",
       " (2, 1683043426),\n",
       " (1, 1683045201),\n",
       " (2, 1683047636),\n",
       " (1, 1683048370)]"
      ]
     },
     "execution_count": 222,
     "metadata": {},
     "output_type": "execute_result"
    }
   ],
   "source": [
    "whole_data"
   ]
  },
  {
   "cell_type": "code",
   "execution_count": 224,
   "metadata": {},
   "outputs": [],
   "source": [
    "def bell(num_bar : int, timestamp : int):\n",
    "    en_tete =\"\\nSONNERIES--------------------------------------------------------\\n\"\n",
    "    if num_bar ==1 :\n",
    "        return en_tete +\"\\n\"\\\n",
    "        +'[{\"GENERIC_DATA\": [\\n'+'{\"device_name\": \"bel-z200X-abcd1234\",\\n'+\\\n",
    "        f'\"start_time\": {timestamp},\\n'+f'\"end_time\": {timestamp+20}\\n'+'}]}]'+2*\"\\n\"+\\\n",
    "        '[{\"GENERIC_DATA\": [\\n'+'{\"device_name\": \"bel-z200X-efgh2345\",\\n'+\\\n",
    "        f'\"start_time\": {timestamp},\\n'+ f'\"end_time\": {timestamp+20}'+'}]}]'\n",
    "    elif num_bar == 2:\n",
    "        return en_tete +\"\\n\"+\\\n",
    "        '[{\"GENERIC_DATA\": [\\n'+ '{\"device_name\": \"bel-z200X-ijkl3456\",\\n' +\\\n",
    "        f'\"start_time\": {timestamp},\\n' +f'\"end_time\": {timestamp+20}\\n'+'}]}]'+2*\"\\n\" +\\\n",
    "        '[{\"GENERIC_DATA\": [\\n'+ '{\"device_name\": \"bel-z200X-mnop4567\",\\n'+\\\n",
    "        f'\"start_time\": {timestamp},\\n'+ f'\"end_time\": {timestamp+20}\\n'+'}]}]\\n'\n"
   ]
  },
  {
   "cell_type": "code",
   "execution_count": 225,
   "metadata": {},
   "outputs": [],
   "source": [
    "def light(num_bar : int, timestamp : int):\n",
    "    en_tete =\"\\nLUMIERES--------------------------------------------------------\\n\"\n",
    "    if num_bar ==1 :\n",
    "        return  en_tete +\"\\n\"\\\n",
    "        +'[{\"GENERIC_DATA\": [\\n'+ '{\"device_name\": \"lig-l500X-abcd1234\",\\n'+\\\n",
    "        f'\"start_time\": {timestamp},\\n'+f'\"end_time\": {timestamp+51}\\n'+'}]},'+\"\\n\"\\\n",
    "        +'{\"GENERIC_DATA\": [\\n'+'{\"device_name\": \"lig-l500X-efgh2345\",\\n'+\\\n",
    "        f'\"start_time\": {timestamp},\\n'+f'\"end_time\": {timestamp+51}'+'}]}]' +2*\"\\n\"+\\\n",
    "        '[{\"GENERIC_DATA\": [\\n'+'{\"device_name\": \"lig-l500X-ijkl3456\",\\n'+\\\n",
    "        f'\"start_time\": {timestamp},\\n'+f'\"end_time\": {timestamp+51}\\n'+'}]},'+\"\\n\"+\\\n",
    "        '{\"GENERIC_DATA\": [\\n'+'{\"device_name\": \"lig-l500X-mnop4567\",\\n'+\\\n",
    "        f'\"start_time\": {timestamp},\\n'+f'\"end_time\": {timestamp+51}'+'}]}]'\n",
    "    elif num_bar == 2:\n",
    "        return en_tete +\"\\n\"\\\n",
    "        +'[{\"GENERIC_DATA\": [\\n'+ '{\"device_name\": \"lig-l500X-qrst5678\",\\n'+\\\n",
    "        f'\"start_time\": {timestamp},\\n'+f'\"end_time\": {timestamp+51}\\n'+'}]},'+\"\\n\"\\\n",
    "        +'{\"GENERIC_DATA\": [\\n'+'{\"device_name\": \"lig-l500X-uvwx6789\",\\n'+\\\n",
    "        f'\"start_time\": {timestamp},\\n'+f'\"end_time\": {timestamp+51}'+'}]}]' +2*\"\\n\"+\\\n",
    "        '[{\"GENERIC_DATA\": [\\n'+'{\"device_name\": \"lig-l500X-cdef8901\",\\n'+\\\n",
    "        f'\"start_time\": {timestamp},\\n'+f'\"end_time\": {timestamp+51}\\n'+'}]},'+\"\\n\"+\\\n",
    "        '{\"GENERIC_DATA\": [\\n'+'{\"device_name\": \"lig-l500X-ghij9012\",\\n'+\\\n",
    "        f'\"start_time\": {timestamp},\\n'+f'\"end_time\": {timestamp+51}'+'}]}]\\n'    "
   ]
  },
  {
   "cell_type": "code",
   "execution_count": 232,
   "metadata": {},
   "outputs": [],
   "source": [
    "def barrier(num_bar : int, timestamp : int):\n",
    "    en_tete =\"\\nBARRIERES--------------------------------------------------------\\n\"\n",
    "    if num_bar ==1 :\n",
    "        return en_tete +\"\\n\"\\\n",
    "        +'[{\"GENERIC_DATA\": [\\n'+ '{\"device_name\": \"bar-c100x-abcd1234\",\\n'+\\\n",
    "        f'\"start_time\": {timestamp+8},\\n'+\"start_angle: 90.0\\n\"+\\\n",
    "        f'\"end_time\": {timestamp+63}\\n'+ \"end_angle: 0.0\" +'}]},'+\"\\n\"\\\n",
    "        +'{\"GENERIC_DATA\": [\\n'+ '{\"device_name\": \"bar-c100x-abcd1234\",\\n'+\\\n",
    "        f'\"start_time\": {timestamp+8},\\n'+\"start_angle: 0.0\\n\"+\\\n",
    "        f'\"end_time\": {timestamp+63}\\n'+ \"end_angle: 90.0\" +'}]}]'+2*\"\\n\"+\\\n",
    "        '[{\"GENERIC_DATA\": [\\n'+ '{\"device_name\": \"bar-c100x-efgh2345\",\\n'+\\\n",
    "        f'\"start_time\": {timestamp+8},\\n'+\"start_angle: 90.0\\n\"+\\\n",
    "        f'\"end_time\": {timestamp+63}\\n'+ \"end_angle: 0.0\" +'}]},'+\"\\n\"\\\n",
    "        +'{\"GENERIC_DATA\": [\\n'+ '{\"device_name\": \"bar-c100x-efgh2345\",\\n'+\\\n",
    "        f'\"start_time\": {timestamp+8},\\n'+\"start_angle: 0.0\\n\"+\\\n",
    "        f'\"end_time\": {timestamp+63}\\n'+ \"end_angle: 90.0\" +'}]}]'+\"\\n\"\n",
    "    elif num_bar == 2:\n",
    "        return en_tete +\"\\n\"\\\n",
    "        +'[{\"GENERIC_DATA\": [\\n'+ '{\"device_name\": \"bar-c100x-ijkl3456\",\\n'+\\\n",
    "        f'\"start_time\": {timestamp+8},\\n'+\"start_angle: 90.0\\n\"+\\\n",
    "        f'\"end_time\": {timestamp+63}\\n'+ \"end_angle: 0.0\" +'}]},'+\"\\n\"\\\n",
    "        +'{\"GENERIC_DATA\": [\\n'+ '{\"device_name\": \"bar-c100x-ijkl3456\",\\n'+\\\n",
    "        f'\"start_time\": {timestamp+8},\\n'+\"start_angle: 0.0\\n\"+\\\n",
    "        f'\"end_time\": {timestamp+63}\\n'+ \"end_angle: 90.0\" +'}]}]'+2*\"\\n\"+\\\n",
    "        '[{\"GENERIC_DATA\": [\\n'+ '{\"device_name\": \"bar-c100x-mnop4567\",\\n'+\\\n",
    "        f'\"start_time\": {timestamp+8},\\n'+\"start_angle: 90.0\\n\"+\\\n",
    "        f'\"end_time\": {timestamp+63}\\n'+ \"end_angle: 0.0\" +'}]},'\"\\n\"\\\n",
    "        +'{\"GENERIC_DATA\": [\\n'+ '{\"device_name\": \"bar-c100x-mnop4567\",\\n'+\\\n",
    "        f'\"start_time\": {timestamp+8},\\n'+\"start_angle: 0.0\\n\"+\\\n",
    "        f'\"end_time\": {timestamp+63}\\n'+ \"end_angle: 90.0\" +'}]}]'+\"\\n\""
   ]
  },
  {
   "cell_type": "code",
   "execution_count": 227,
   "metadata": {},
   "outputs": [],
   "source": [
    "def whole_doc(num, timestp):\n",
    "    return str(timestp) + \"\\n\"+ bell(num,timestp)+light(num,timestp)+barrier(num,timestp)"
   ]
  },
  {
   "cell_type": "code",
   "execution_count": 214,
   "metadata": {},
   "outputs": [],
   "source": [
    "numX,timestampX = whole_data[0][0],whole_data[0][1]\n",
    "texte_train = whole_doc(numX,timestampX)"
   ]
  },
  {
   "cell_type": "code",
   "execution_count": 236,
   "metadata": {},
   "outputs": [],
   "source": [
    "for txt_nb, value in enumerate(whole_data):\n",
    "    numX,timestampX = value[0],value[1]\n",
    "    texte_train = whole_doc(numX,timestampX) \n",
    "    \n",
    "    f = open(f\"data_post/train{txt_nb+3}.txt\", \"a\")\n",
    "    f.write(texte_train)\n",
    "    f.close()\n",
    "    "
   ]
  },
  {
   "cell_type": "code",
   "execution_count": 235,
   "metadata": {},
   "outputs": [],
   "source": [
    "!touch data_post/train{3..20}.txt"
   ]
  },
  {
   "cell_type": "code",
   "execution_count": null,
   "metadata": {},
   "outputs": [],
   "source": []
  }
 ],
 "metadata": {
  "kernelspec": {
   "display_name": "Python 3",
   "language": "python",
   "name": "python3"
  },
  "language_info": {
   "codemirror_mode": {
    "name": "ipython",
    "version": 3
   },
   "file_extension": ".py",
   "mimetype": "text/x-python",
   "name": "python",
   "nbconvert_exporter": "python",
   "pygments_lexer": "ipython3",
   "version": "3.10.6"
  },
  "orig_nbformat": 4
 },
 "nbformat": 4,
 "nbformat_minor": 2
}
